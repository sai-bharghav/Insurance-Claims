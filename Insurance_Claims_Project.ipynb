{
  "cells": [
    {
      "cell_type": "markdown",
      "metadata": {
        "id": "view-in-github",
        "colab_type": "text"
      },
      "source": [
        "<a href=\"https://colab.research.google.com/github/sai-bharghav/Insurance-Claims/blob/main/Insurance_Claims_Project.ipynb\" target=\"_parent\"><img src=\"https://colab.research.google.com/assets/colab-badge.svg\" alt=\"Open In Colab\"/></a>"
      ]
    },
    {
      "cell_type": "markdown",
      "metadata": {
        "id": "0_lEuDL4JSNB"
      },
      "source": [
        "# Project: Insurance Policy Cancellation (DS)\n",
        "---------------------------------------------"
      ]
    },
    {
      "cell_type": "markdown",
      "metadata": {
        "id": "NSQWgmi5P5ad"
      },
      "source": [
        "**Dr. Dave Wanik - OPIM 5512: Data Science Using Python - University of Connecticut**\n",
        "\n",
        "*This dataset comes from the 2022 NESS Statathon (Theme 1) from 2022. An archived version of the website and related data has been posted on HuskyCT.*"
      ]
    },
    {
      "cell_type": "markdown",
      "metadata": {
        "id": "gwjL6cYoI4Va"
      },
      "source": [
        "**Challenge:** Using historical policy data, create a multiclass predictive model to predict the policies that are most likely to be canceled and those most likely to be renewed, as well as understand what variables are most influential in causing a policy cancellation.\n",
        "\n",
        "For this theme, there are true answers, and a team should focus on proposing the best predictive model. The performance of a team will be mainly based on the predictive performance of the propose method measured by accuracy and the quality of the code. You can use Python's weighted F1 score to calculate the performance of for your model on the test partition.\n",
        "  * Make sure you use the 'weighted' F1 score\n",
        "    * https://scikit-learn.org/stable/modules/generated/sklearn.metrics.f1_score.html"
      ]
    },
    {
      "cell_type": "markdown",
      "metadata": {
        "id": "ACRLrWJPPhDD"
      },
      "source": [
        "# Dataset Description\n",
        "The Kangaroo data set is based on 4 years of property insurance policies from 2013 to 2017. There are roughly 1 million policies in the training data and each policy only has one observation. There were almost 230,000 policies canceled during the effective term. Your work is to build a model on the training data and use your best model to predict the cancelation indicator for each policy in test data.\n",
        "\n",
        "Variable descriptions\n",
        "* id - Policy id (cannot be used in model)\n",
        "* tenure - Number of years with Kangaroo\n",
        "* claim.ind - Occurrence of claim (0=no, 1=yes)\n",
        "* n.adults - Number of adults in the property\n",
        "* n.children - Number of children in the property\n",
        "* ni.gender - Gender of policyholder\n",
        "* ni.marital.status - Marital status of policyholder (0=no, 1=yes)\n",
        "* premium - Price of the policy\n",
        "* sales.channel - Medium through which policy was purchased\n",
        "* coverage.type - Type of coverage\n",
        "* dwelling.type - Type of dwelling\n",
        "* len.at.res - Length at residence (how long policyholder lived at property)\n",
        "* credit - Financial credit level of policyholder\n",
        "* house.color - Color of house\n",
        "* ni.age - Age of policholder\n",
        "* year - Year of the policy\n",
        "* zip.code - Zip code of the property\n",
        "* cancel - cancelation indicator (0=not cancel, 1=may cancel but can be convinced, 2=cancel). **This is the response variable.** Dave is deleting the rows where `cancel==-1`!"
      ]
    },
    {
      "cell_type": "markdown",
      "metadata": {
        "id": "Ka8lEsJMKh_5"
      },
      "source": [
        "The train and test files have also been made available to students for modeling on HuskyCT."
      ]
    },
    {
      "cell_type": "code",
      "execution_count": null,
      "metadata": {
        "colab": {
          "base_uri": "https://localhost:8080/"
        },
        "id": "EANyiNl8RpFe",
        "outputId": "e6db2cd9-de45-4f08-9277-1e170ccb36a0"
      },
      "outputs": [
        {
          "output_type": "stream",
          "name": "stdout",
          "text": [
            "Downloading...\n",
            "From: https://drive.google.com/uc?id=1cF4YgsHb6jWoM8s1oMckCE5DXz71dJIr\n",
            "To: /content/X_test.csv\n",
            "100% 31.5M/31.5M [00:00<00:00, 140MB/s]\n",
            "Downloading...\n",
            "From: https://drive.google.com/uc?id=1k8asF0dptYNn1DFkylSEpr0D9FstpIO4\n",
            "To: /content/X_train.csv\n",
            "100% 63.9M/63.9M [00:00<00:00, 180MB/s]\n",
            "Downloading...\n",
            "From: https://drive.google.com/uc?id=1nldFnY3-FBKDvfpyLXjD9uxm7d7SLo6n\n",
            "To: /content/y_test.csv\n",
            "100% 690k/690k [00:00<00:00, 147MB/s]\n",
            "Downloading...\n",
            "From: https://drive.google.com/uc?id=1VirvGGFaqg1ifPjgO0MzHg3Bc7KuwotG\n",
            "To: /content/y_train.csv\n",
            "100% 1.40M/1.40M [00:00<00:00, 145MB/s]\n"
          ]
        }
      ],
      "source": [
        "# https://drive.google.com/file/d/1cF4YgsHb6jWoM8s1oMckCE5DXz71dJIr/view?usp=share_link\n",
        "# https://drive.google.com/file/d/1k8asF0dptYNn1DFkylSEpr0D9FstpIO4/view?usp=share_link\n",
        "# https://drive.google.com/file/d/1nldFnY3-FBKDvfpyLXjD9uxm7d7SLo6n/view?usp=share_link\n",
        "# https://drive.google.com/file/d/1VirvGGFaqg1ifPjgO0MzHg3Bc7KuwotG/view?usp=share_link\n",
        "\n",
        "!gdown 1cF4YgsHb6jWoM8s1oMckCE5DXz71dJIr\n",
        "!gdown 1k8asF0dptYNn1DFkylSEpr0D9FstpIO4\n",
        "!gdown 1nldFnY3-FBKDvfpyLXjD9uxm7d7SLo6n\n",
        "!gdown 1VirvGGFaqg1ifPjgO0MzHg3Bc7KuwotG"
      ]
    },
    {
      "cell_type": "markdown",
      "metadata": {
        "id": "cILTYnnPIZsk"
      },
      "source": [
        "# Rubric\n",
        "The submitted notebook will serve as both a form of model documentation and business communication - there should be lots of text cells and comments and a nice presentation of your work!\n",
        "\n",
        "## EDA, data cleaning and feature engineering (20 points)\n",
        "* `X_train`, `X_test`, `y_train`, and `y_test` has been provided to all students.\n",
        "  * Any team who does not do this automatically goes into last place - more below!\n",
        "* Explore the data and clean it up as you see fit - make sure you `fit_transform()` on the training data and `transform()` on the test data.\n",
        "  * Any team that has data leakage automatically goes into last place!\n",
        "* Make five meaningful plots and five meaningful tables (most be deeper than simpler univariate plots - we want you to really explore the problem at hand and use this information to make a better model!)\n",
        "* It is up to you whether or not you want to curate the training dataset to get a better fit on the test dataset (for example, if you would like to use some sampling strategy like SMOTE, that's great - just remember that you DON'T change the distribution of the target variable in the test partition.)\n",
        "\n",
        "## Modeling (20 points)\n",
        "* You may perform your modeling in a different notebook (to be submitted as an appendix), but you must run your final and BEST model here and all output must be displayed.\n",
        "  * It's up to you to decide what the best pre-processing steps should be!\n",
        "\n",
        "## Model Results (20 points)\n",
        "* Classification report and confusion report for train and test partition.\n",
        "  * You may use cross-validation to help pick the optimal hyperparameters for your model.\n",
        "\n",
        "## Interpretability and Discussion (30 points)\n",
        "* Create permutation importance for top five variables\n",
        "* Create partial dependence plots for top five variables\n",
        "  * Don't forget about the `num_grid_points` argument to your PDP if it takes a long time to make the plot.\n",
        "* You may add other tables/plots/analyses to help tell your story!\n",
        "*  Use your model results and interpretability items to present what variables are most influential in causing a policy cancellation.\n",
        "  * We are looking for each team to provide a business recommendation based on the results of your model! We will take off substantial points if there is not a well-written and cohesive presentation of results.\n",
        "\n",
        "## Conclusions (10 points)\n",
        "* Write five meaningful bullets (each bullet should be at least two sentences long) describing what you learned.\n",
        "\n",
        "## 🛷 Sliding grading scale\n",
        "* You are in direct competition with every other group in the class!\n",
        "* I expect everything in this notebook to be of sufficient quality - well-organized with lots of comments and cleaned up nice for presentation to management. I will deduct substantial points if this is just my code copy/pasted without any deep analysis.\n",
        "* Your 'starting grades' will range from an 80 to a 100 based on model F1 score for the TEST PARTITION (you can use the `F1 score` function from sci-kit learn to evaluate the final model.)\n",
        "* Of course, if something is missing from the above rubric, we will deduct points from your starting grade.\n",
        "  * If you came in first place and lost 10 points somewhere, your final grade is 100 - 10 = 90\n",
        "  * If you came in last place (for accuracy) and lost 10 points somewhere, your final grade is 80 - 10 = 70.\n"
      ]
    },
    {
      "cell_type": "code",
      "execution_count": null,
      "metadata": {
        "id": "A_823ZpOO0_J"
      },
      "outputs": [],
      "source": [
        "# these are the results dave got from a very simple model - you should be able to\n",
        "# beat these results with some fine-tuning!"
      ]
    },
    {
      "cell_type": "markdown",
      "metadata": {
        "id": "VK9Pxun0UUk5"
      },
      "source": [
        "Please use nice big, descriptive subheaders so that it is easy to grade! Thank you!"
      ]
    },
    {
      "cell_type": "markdown",
      "source": [
        "Team members are\n",
        "1. Sai Bharghav Chollangi\n",
        "2. Shubham Deshmukh\n",
        "3. Vineeth Reddy Teegala"
      ],
      "metadata": {
        "id": "gxzxx6i_P4WY"
      }
    },
    {
      "cell_type": "markdown",
      "metadata": {
        "id": "BgNnVHMXvXBW"
      },
      "source": [
        "# EDA, data cleaning and Feature Engineering\n"
      ]
    },
    {
      "cell_type": "code",
      "execution_count": null,
      "metadata": {
        "id": "hnvv_2FXwIul"
      },
      "outputs": [],
      "source": [
        "# Importing necessary libraries\n",
        "import pandas as pd\n",
        "import numpy as np\n",
        "import matplotlib.pyplot as plt\n"
      ]
    },
    {
      "cell_type": "markdown",
      "metadata": {
        "id": "EqMBNwegv6od"
      },
      "source": [
        "Assigning each dataset to Dataframe variable for `X_train`,`X_test`,`y_train`, and `y_test`"
      ]
    },
    {
      "cell_type": "markdown",
      "metadata": {
        "id": "CrkXQ8Vvesa3"
      },
      "source": [
        "## Assigning the variables to respective variables and X_train,X_test,y_train,y_test"
      ]
    },
    {
      "cell_type": "code",
      "execution_count": null,
      "metadata": {
        "id": "jzTiBKJowUY9"
      },
      "outputs": [],
      "source": [
        "# We can make use read_csv() method from the pandas library to read the files from content\n",
        "X_train = pd.read_csv('/content/X_train.csv')\n",
        "X_test = pd.read_csv('/content/X_test.csv')\n",
        "y_train = pd.read_csv('/content/y_train.csv')\n",
        "y_test = pd.read_csv('/content/y_test.csv')\n",
        "X_train1 = pd.read_csv('/content/X_train.csv')\n",
        "X_test1 = pd.read_csv('/content/X_test.csv')"
      ]
    },
    {
      "cell_type": "markdown",
      "metadata": {
        "id": "7wxGanRmvX03"
      },
      "source": [
        "Checking the shape of the column for Each and every split"
      ]
    },
    {
      "cell_type": "code",
      "execution_count": null,
      "metadata": {
        "colab": {
          "base_uri": "https://localhost:8080/"
        },
        "id": "jC9QFlq-vfSD",
        "outputId": "5bad0ecb-65c3-431f-d06a-52cdea96285a"
      },
      "outputs": [
        {
          "output_type": "stream",
          "name": "stdout",
          "text": [
            "(700232, 17) (344891, 17) (700232, 1) (344891, 1)\n"
          ]
        }
      ],
      "source": [
        "# We can make use of shape attribute from the pandas library\n",
        "print(X_train.shape,X_test.shape,y_train.shape,y_test.shape)"
      ]
    },
    {
      "cell_type": "markdown",
      "metadata": {
        "id": "tKGVvNp1e6gO"
      },
      "source": [
        "### Checking Null values"
      ]
    },
    {
      "cell_type": "code",
      "execution_count": null,
      "metadata": {
        "colab": {
          "base_uri": "https://localhost:8080/"
        },
        "id": "v5X1z8Kj6tZr",
        "outputId": "5de3af2b-f395-4e5e-b532-f4a2565dbfb3"
      },
      "outputs": [
        {
          "output_type": "execute_result",
          "data": {
            "text/plain": [
              "id                     0\n",
              "year                   0\n",
              "zip.code             631\n",
              "house.color          620\n",
              "ni.age               708\n",
              "len.at.res           665\n",
              "credit               616\n",
              "coverage.type        663\n",
              "dwelling.type        651\n",
              "premium              624\n",
              "sales.channel        696\n",
              "ni.gender            643\n",
              "ni.marital.status    647\n",
              "n.adults             606\n",
              "n.children           616\n",
              "tenure               655\n",
              "claim.ind            658\n",
              "dtype: int64"
            ]
          },
          "metadata": {},
          "execution_count": 6
        }
      ],
      "source": [
        "# Let us see the missing values in the dataset\n",
        "# Making use of isna() function to check the null values for each cell and sum() function appended to get it by column wise\n",
        "X_train.isna().sum()"
      ]
    },
    {
      "cell_type": "markdown",
      "metadata": {
        "id": "2A6gpojZe_y0"
      },
      "source": [
        "## Understanding our data with more functions of pandas"
      ]
    },
    {
      "cell_type": "code",
      "execution_count": null,
      "metadata": {
        "colab": {
          "base_uri": "https://localhost:8080/",
          "height": 250
        },
        "id": "GajzD9u-Qym7",
        "outputId": "4603ee33-9009-40b5-f9ae-9ced7992ca66"
      },
      "outputs": [
        {
          "output_type": "execute_result",
          "data": {
            "text/plain": [
              "       id  year  zip.code house.color  ni.age  len.at.res  credit  \\\n",
              "0  942391  2013   15056.0      yellow    55.0        15.0    high   \n",
              "1    2792  2014   80014.0         red    60.0        17.0  medium   \n",
              "2  282556  2014   85002.0       white    48.0        15.0    high   \n",
              "3  738330  2014   85051.0         red    57.0        15.0    high   \n",
              "4  243724  2013   85077.0       white    42.0        16.0    high   \n",
              "\n",
              "  coverage.type dwelling.type     premium sales.channel ni.gender  \\\n",
              "0             A         House  935.554116         Phone         F   \n",
              "1             A         House  835.804218         Phone         F   \n",
              "2             A         Condo  958.488416        Broker         M   \n",
              "3             A         House  963.496010         Phone         F   \n",
              "4             B         House  803.088375        Broker         F   \n",
              "\n",
              "   ni.marital.status  n.adults  n.children  tenure  claim.ind  \n",
              "0                1.0       1.0         1.0    14.0        0.0  \n",
              "1                1.0       1.0         1.0    17.0        0.0  \n",
              "2                1.0       1.0         0.0    11.0        1.0  \n",
              "3                1.0       2.0         1.0    19.0        0.0  \n",
              "4                1.0       2.0         2.0    12.0        0.0  "
            ],
            "text/html": [
              "\n",
              "  <div id=\"df-9e0d7deb-7502-426a-ae72-9cdc3193e895\">\n",
              "    <div class=\"colab-df-container\">\n",
              "      <div>\n",
              "<style scoped>\n",
              "    .dataframe tbody tr th:only-of-type {\n",
              "        vertical-align: middle;\n",
              "    }\n",
              "\n",
              "    .dataframe tbody tr th {\n",
              "        vertical-align: top;\n",
              "    }\n",
              "\n",
              "    .dataframe thead th {\n",
              "        text-align: right;\n",
              "    }\n",
              "</style>\n",
              "<table border=\"1\" class=\"dataframe\">\n",
              "  <thead>\n",
              "    <tr style=\"text-align: right;\">\n",
              "      <th></th>\n",
              "      <th>id</th>\n",
              "      <th>year</th>\n",
              "      <th>zip.code</th>\n",
              "      <th>house.color</th>\n",
              "      <th>ni.age</th>\n",
              "      <th>len.at.res</th>\n",
              "      <th>credit</th>\n",
              "      <th>coverage.type</th>\n",
              "      <th>dwelling.type</th>\n",
              "      <th>premium</th>\n",
              "      <th>sales.channel</th>\n",
              "      <th>ni.gender</th>\n",
              "      <th>ni.marital.status</th>\n",
              "      <th>n.adults</th>\n",
              "      <th>n.children</th>\n",
              "      <th>tenure</th>\n",
              "      <th>claim.ind</th>\n",
              "    </tr>\n",
              "  </thead>\n",
              "  <tbody>\n",
              "    <tr>\n",
              "      <th>0</th>\n",
              "      <td>942391</td>\n",
              "      <td>2013</td>\n",
              "      <td>15056.0</td>\n",
              "      <td>yellow</td>\n",
              "      <td>55.0</td>\n",
              "      <td>15.0</td>\n",
              "      <td>high</td>\n",
              "      <td>A</td>\n",
              "      <td>House</td>\n",
              "      <td>935.554116</td>\n",
              "      <td>Phone</td>\n",
              "      <td>F</td>\n",
              "      <td>1.0</td>\n",
              "      <td>1.0</td>\n",
              "      <td>1.0</td>\n",
              "      <td>14.0</td>\n",
              "      <td>0.0</td>\n",
              "    </tr>\n",
              "    <tr>\n",
              "      <th>1</th>\n",
              "      <td>2792</td>\n",
              "      <td>2014</td>\n",
              "      <td>80014.0</td>\n",
              "      <td>red</td>\n",
              "      <td>60.0</td>\n",
              "      <td>17.0</td>\n",
              "      <td>medium</td>\n",
              "      <td>A</td>\n",
              "      <td>House</td>\n",
              "      <td>835.804218</td>\n",
              "      <td>Phone</td>\n",
              "      <td>F</td>\n",
              "      <td>1.0</td>\n",
              "      <td>1.0</td>\n",
              "      <td>1.0</td>\n",
              "      <td>17.0</td>\n",
              "      <td>0.0</td>\n",
              "    </tr>\n",
              "    <tr>\n",
              "      <th>2</th>\n",
              "      <td>282556</td>\n",
              "      <td>2014</td>\n",
              "      <td>85002.0</td>\n",
              "      <td>white</td>\n",
              "      <td>48.0</td>\n",
              "      <td>15.0</td>\n",
              "      <td>high</td>\n",
              "      <td>A</td>\n",
              "      <td>Condo</td>\n",
              "      <td>958.488416</td>\n",
              "      <td>Broker</td>\n",
              "      <td>M</td>\n",
              "      <td>1.0</td>\n",
              "      <td>1.0</td>\n",
              "      <td>0.0</td>\n",
              "      <td>11.0</td>\n",
              "      <td>1.0</td>\n",
              "    </tr>\n",
              "    <tr>\n",
              "      <th>3</th>\n",
              "      <td>738330</td>\n",
              "      <td>2014</td>\n",
              "      <td>85051.0</td>\n",
              "      <td>red</td>\n",
              "      <td>57.0</td>\n",
              "      <td>15.0</td>\n",
              "      <td>high</td>\n",
              "      <td>A</td>\n",
              "      <td>House</td>\n",
              "      <td>963.496010</td>\n",
              "      <td>Phone</td>\n",
              "      <td>F</td>\n",
              "      <td>1.0</td>\n",
              "      <td>2.0</td>\n",
              "      <td>1.0</td>\n",
              "      <td>19.0</td>\n",
              "      <td>0.0</td>\n",
              "    </tr>\n",
              "    <tr>\n",
              "      <th>4</th>\n",
              "      <td>243724</td>\n",
              "      <td>2013</td>\n",
              "      <td>85077.0</td>\n",
              "      <td>white</td>\n",
              "      <td>42.0</td>\n",
              "      <td>16.0</td>\n",
              "      <td>high</td>\n",
              "      <td>B</td>\n",
              "      <td>House</td>\n",
              "      <td>803.088375</td>\n",
              "      <td>Broker</td>\n",
              "      <td>F</td>\n",
              "      <td>1.0</td>\n",
              "      <td>2.0</td>\n",
              "      <td>2.0</td>\n",
              "      <td>12.0</td>\n",
              "      <td>0.0</td>\n",
              "    </tr>\n",
              "  </tbody>\n",
              "</table>\n",
              "</div>\n",
              "      <button class=\"colab-df-convert\" onclick=\"convertToInteractive('df-9e0d7deb-7502-426a-ae72-9cdc3193e895')\"\n",
              "              title=\"Convert this dataframe to an interactive table.\"\n",
              "              style=\"display:none;\">\n",
              "        \n",
              "  <svg xmlns=\"http://www.w3.org/2000/svg\" height=\"24px\"viewBox=\"0 0 24 24\"\n",
              "       width=\"24px\">\n",
              "    <path d=\"M0 0h24v24H0V0z\" fill=\"none\"/>\n",
              "    <path d=\"M18.56 5.44l.94 2.06.94-2.06 2.06-.94-2.06-.94-.94-2.06-.94 2.06-2.06.94zm-11 1L8.5 8.5l.94-2.06 2.06-.94-2.06-.94L8.5 2.5l-.94 2.06-2.06.94zm10 10l.94 2.06.94-2.06 2.06-.94-2.06-.94-.94-2.06-.94 2.06-2.06.94z\"/><path d=\"M17.41 7.96l-1.37-1.37c-.4-.4-.92-.59-1.43-.59-.52 0-1.04.2-1.43.59L10.3 9.45l-7.72 7.72c-.78.78-.78 2.05 0 2.83L4 21.41c.39.39.9.59 1.41.59.51 0 1.02-.2 1.41-.59l7.78-7.78 2.81-2.81c.8-.78.8-2.07 0-2.86zM5.41 20L4 18.59l7.72-7.72 1.47 1.35L5.41 20z\"/>\n",
              "  </svg>\n",
              "      </button>\n",
              "      \n",
              "  <style>\n",
              "    .colab-df-container {\n",
              "      display:flex;\n",
              "      flex-wrap:wrap;\n",
              "      gap: 12px;\n",
              "    }\n",
              "\n",
              "    .colab-df-convert {\n",
              "      background-color: #E8F0FE;\n",
              "      border: none;\n",
              "      border-radius: 50%;\n",
              "      cursor: pointer;\n",
              "      display: none;\n",
              "      fill: #1967D2;\n",
              "      height: 32px;\n",
              "      padding: 0 0 0 0;\n",
              "      width: 32px;\n",
              "    }\n",
              "\n",
              "    .colab-df-convert:hover {\n",
              "      background-color: #E2EBFA;\n",
              "      box-shadow: 0px 1px 2px rgba(60, 64, 67, 0.3), 0px 1px 3px 1px rgba(60, 64, 67, 0.15);\n",
              "      fill: #174EA6;\n",
              "    }\n",
              "\n",
              "    [theme=dark] .colab-df-convert {\n",
              "      background-color: #3B4455;\n",
              "      fill: #D2E3FC;\n",
              "    }\n",
              "\n",
              "    [theme=dark] .colab-df-convert:hover {\n",
              "      background-color: #434B5C;\n",
              "      box-shadow: 0px 1px 3px 1px rgba(0, 0, 0, 0.15);\n",
              "      filter: drop-shadow(0px 1px 2px rgba(0, 0, 0, 0.3));\n",
              "      fill: #FFFFFF;\n",
              "    }\n",
              "  </style>\n",
              "\n",
              "      <script>\n",
              "        const buttonEl =\n",
              "          document.querySelector('#df-9e0d7deb-7502-426a-ae72-9cdc3193e895 button.colab-df-convert');\n",
              "        buttonEl.style.display =\n",
              "          google.colab.kernel.accessAllowed ? 'block' : 'none';\n",
              "\n",
              "        async function convertToInteractive(key) {\n",
              "          const element = document.querySelector('#df-9e0d7deb-7502-426a-ae72-9cdc3193e895');\n",
              "          const dataTable =\n",
              "            await google.colab.kernel.invokeFunction('convertToInteractive',\n",
              "                                                     [key], {});\n",
              "          if (!dataTable) return;\n",
              "\n",
              "          const docLinkHtml = 'Like what you see? Visit the ' +\n",
              "            '<a target=\"_blank\" href=https://colab.research.google.com/notebooks/data_table.ipynb>data table notebook</a>'\n",
              "            + ' to learn more about interactive tables.';\n",
              "          element.innerHTML = '';\n",
              "          dataTable['output_type'] = 'display_data';\n",
              "          await google.colab.output.renderOutput(dataTable, element);\n",
              "          const docLink = document.createElement('div');\n",
              "          docLink.innerHTML = docLinkHtml;\n",
              "          element.appendChild(docLink);\n",
              "        }\n",
              "      </script>\n",
              "    </div>\n",
              "  </div>\n",
              "  "
            ]
          },
          "metadata": {},
          "execution_count": 7
        }
      ],
      "source": [
        "X_train.head()"
      ]
    },
    {
      "cell_type": "markdown",
      "metadata": {
        "id": "fwVLElPsf_0c"
      },
      "source": [
        "## Dealing with Missing values"
      ]
    },
    {
      "cell_type": "markdown",
      "metadata": {
        "id": "Jqq1DAjzgEi8"
      },
      "source": [
        "### Concatenating the training datasets"
      ]
    },
    {
      "cell_type": "markdown",
      "metadata": {
        "id": "jbdP_QC_7Si6"
      },
      "source": [
        "Since there are a bunch of missing values in the dataset we can delete the rows. There are over 750000+ rows in the dataset for X_train\n",
        "\n",
        "**Since we have the X_train and y_train dataset seperately we can merge them together so that the shape or specifically the number of rows will be the same so that we won't face any issues in the shape of each of the train datasets while modeling**"
      ]
    },
    {
      "cell_type": "code",
      "execution_count": null,
      "metadata": {
        "id": "XKrkqnZO8MVJ"
      },
      "outputs": [],
      "source": [
        "# We can make use of concat function in pandas dataframe for merging the dataframe\n",
        "concat_train = pd.concat([X_train,y_train],axis = 1) # axis = 1 since we want to concat or merge the dataframe at the column level\n"
      ]
    },
    {
      "cell_type": "code",
      "execution_count": null,
      "metadata": {
        "colab": {
          "base_uri": "https://localhost:8080/"
        },
        "id": "gDfjMG0e89nY",
        "outputId": "63ef0f34-37b9-4e7e-e4f1-b96f8e8d3292"
      },
      "outputs": [
        {
          "output_type": "stream",
          "name": "stdout",
          "text": [
            "(700232, 17) (700232, 1) (700232, 18)\n"
          ]
        }
      ],
      "source": [
        "# Let us check the shape of the three X_train, y_train and the concat_train dataframes\n",
        "print(X_train.shape,y_train.shape,concat_train.shape)"
      ]
    },
    {
      "cell_type": "markdown",
      "metadata": {
        "id": "LCGCtVKG9Pog"
      },
      "source": [
        "Voila rows count are the same and for the concatenated dataset column count is the sum of the other two train dataframes `17+1=18`"
      ]
    },
    {
      "cell_type": "markdown",
      "metadata": {
        "id": "hXiLKatKgMy8"
      },
      "source": [
        "### Dropping with missing values"
      ]
    },
    {
      "cell_type": "markdown",
      "metadata": {
        "id": "HZ7J35tb9npp"
      },
      "source": [
        "Now we can focus on deleting the rows on X_train along with the corresponding y_train dataframes"
      ]
    },
    {
      "cell_type": "code",
      "execution_count": null,
      "metadata": {
        "id": "1_3LE1oa9maQ"
      },
      "outputs": [],
      "source": [
        "# We make use of the function dropna() from pandas library\n",
        "concat_train=concat_train.dropna()# We use inplace parameter so that the changes are saved globally"
      ]
    },
    {
      "cell_type": "code",
      "execution_count": null,
      "metadata": {
        "colab": {
          "base_uri": "https://localhost:8080/"
        },
        "id": "9E5HdD7X-oc_",
        "outputId": "d33352ee-ed83-4d93-fc63-5a5f017f8845"
      },
      "outputs": [
        {
          "output_type": "execute_result",
          "data": {
            "text/plain": [
              "(690609, 18)"
            ]
          },
          "metadata": {},
          "execution_count": 11
        }
      ],
      "source": [
        "# Now let's check the shape of the dataframe(concat_train) after deleting the null values\n",
        "concat_train.shape"
      ]
    },
    {
      "cell_type": "markdown",
      "metadata": {
        "id": "WfwDQnbUceN2"
      },
      "source": [
        "Since there are many string data type columns in the dataset and the target variable is classification type we convert them into Label encoded columns  which then gives us a dataframe of only int or float type (numerical data types)\n",
        "* **We use LabelEncoder from sklearn.preprocessing library and then apply fit_transform() method on that column where the datatypeis object**"
      ]
    },
    {
      "cell_type": "markdown",
      "metadata": {
        "id": "m0JGlzBUgSjr"
      },
      "source": [
        "## Label Encoding the categorical columns"
      ]
    },
    {
      "cell_type": "code",
      "execution_count": null,
      "metadata": {
        "id": "W3PKkIpo54-M"
      },
      "outputs": [],
      "source": [
        "from sklearn.preprocessing import LabelEncoder\n",
        "\n",
        "\n",
        "# Checking every col data type using .dtype attibute and then using LabelEncoder function on that column\n",
        "for col in concat_train.columns:\n",
        "  # Check if the column is categorical\n",
        "  if concat_train[col].dtype=='object':\n",
        "    # Creating LabelEncoder Object\n",
        "    le=LabelEncoder()\n",
        "    # Fit and transform lables in the column\n",
        "    concat_train[col]=le.fit_transform(concat_train[col])\n",
        "\n",
        "for col in X_test.columns:\n",
        "  if X_test[col].dtype=='object':\n",
        "    le=LabelEncoder()\n",
        "    X_test[col]=le.fit_transform(X_test[col])"
      ]
    },
    {
      "cell_type": "markdown",
      "metadata": {
        "id": "gGQjpvs3AU9l"
      },
      "source": [
        "Let us split the dataset into X_train and y_train"
      ]
    },
    {
      "cell_type": "markdown",
      "metadata": {
        "id": "XpR6ly2pnJtB"
      },
      "source": [
        "### Splitting back again into X_train and y_train"
      ]
    },
    {
      "cell_type": "code",
      "execution_count": null,
      "metadata": {
        "colab": {
          "base_uri": "https://localhost:8080/"
        },
        "id": "B9ew2xQUB-_c",
        "outputId": "f294f09e-2a79-4bb2-dd8c-531b61cb0a75"
      },
      "outputs": [
        {
          "output_type": "stream",
          "name": "stdout",
          "text": [
            "(690609, 17) (690609, 1)\n"
          ]
        }
      ],
      "source": [
        "# Since X_train doesn't have cancel column in X_train we make use of the drop() function to drop the column and y_train will be consisting of only cancel column\n",
        "X_train = concat_train.drop(['cancel'],axis=1)\n",
        "# Since we only take once column python might take it as Series object so we convert that into a DataFrame object\n",
        "y_train = pd.DataFrame(concat_train['cancel'])\n",
        "# Checking the shape of each of the train dataset\n",
        "print(X_train.shape, y_train.shape)"
      ]
    },
    {
      "cell_type": "markdown",
      "metadata": {
        "id": "hlA2zvn_vx0X"
      },
      "source": [
        "Let's get the info of the datasets"
      ]
    },
    {
      "cell_type": "code",
      "execution_count": null,
      "metadata": {
        "colab": {
          "base_uri": "https://localhost:8080/"
        },
        "id": "R-1gDgVtw2HP",
        "outputId": "1a1d9d3e-1ef6-4964-ca88-d86e3477d2e1"
      },
      "outputs": [
        {
          "output_type": "stream",
          "name": "stdout",
          "text": [
            "<class 'pandas.core.frame.DataFrame'>\n",
            "Int64Index: 690609 entries, 0 to 700231\n",
            "Data columns (total 17 columns):\n",
            " #   Column             Non-Null Count   Dtype  \n",
            "---  ------             --------------   -----  \n",
            " 0   id                 690609 non-null  int64  \n",
            " 1   year               690609 non-null  int64  \n",
            " 2   zip.code           690609 non-null  float64\n",
            " 3   house.color        690609 non-null  int64  \n",
            " 4   ni.age             690609 non-null  float64\n",
            " 5   len.at.res         690609 non-null  float64\n",
            " 6   credit             690609 non-null  int64  \n",
            " 7   coverage.type      690609 non-null  int64  \n",
            " 8   dwelling.type      690609 non-null  int64  \n",
            " 9   premium            690609 non-null  float64\n",
            " 10  sales.channel      690609 non-null  int64  \n",
            " 11  ni.gender          690609 non-null  int64  \n",
            " 12  ni.marital.status  690609 non-null  float64\n",
            " 13  n.adults           690609 non-null  float64\n",
            " 14  n.children         690609 non-null  float64\n",
            " 15  tenure             690609 non-null  float64\n",
            " 16  claim.ind          690609 non-null  float64\n",
            "dtypes: float64(9), int64(8)\n",
            "memory usage: 94.8 MB\n",
            "None\n"
          ]
        }
      ],
      "source": [
        "# Using the info function on the dataframe from pandas library\n",
        "print(X_train.info())"
      ]
    },
    {
      "cell_type": "code",
      "execution_count": null,
      "metadata": {
        "colab": {
          "base_uri": "https://localhost:8080/"
        },
        "id": "XklQIOIzw54B",
        "outputId": "90759d2f-686b-4681-fd96-cc68b178c7e1"
      },
      "outputs": [
        {
          "output_type": "stream",
          "name": "stdout",
          "text": [
            "<class 'pandas.core.frame.DataFrame'>\n",
            "Int64Index: 690609 entries, 0 to 700231\n",
            "Data columns (total 1 columns):\n",
            " #   Column  Non-Null Count   Dtype\n",
            "---  ------  --------------   -----\n",
            " 0   cancel  690609 non-null  int64\n",
            "dtypes: int64(1)\n",
            "memory usage: 10.5 MB\n",
            "None\n"
          ]
        }
      ],
      "source": [
        "print(y_train.info())"
      ]
    },
    {
      "cell_type": "markdown",
      "metadata": {
        "id": "pGRjWXTinRcO"
      },
      "source": [
        "## Dropping ID column"
      ]
    },
    {
      "cell_type": "markdown",
      "metadata": {
        "id": "8dY9I8pS651W"
      },
      "source": [
        "Since there is an ID column which is not useful for our model I am going to drop it"
      ]
    },
    {
      "cell_type": "code",
      "execution_count": null,
      "metadata": {
        "id": "uLNGxFgUGvPI"
      },
      "outputs": [],
      "source": [
        "X_train.drop('id',axis=1,inplace = True)\n",
        "X_test.drop('id',axis=1,inplace=True)"
      ]
    },
    {
      "cell_type": "code",
      "execution_count": null,
      "metadata": {
        "colab": {
          "base_uri": "https://localhost:8080/"
        },
        "id": "ldJzSPGVHgf3",
        "outputId": "976190a7-46ac-4a42-ee13-66216eef6172"
      },
      "outputs": [
        {
          "output_type": "execute_result",
          "data": {
            "text/plain": [
              "Index(['year', 'zip.code', 'house.color', 'ni.age', 'len.at.res', 'credit',\n",
              "       'coverage.type', 'dwelling.type', 'premium', 'sales.channel',\n",
              "       'ni.gender', 'ni.marital.status', 'n.adults', 'n.children', 'tenure',\n",
              "       'claim.ind'],\n",
              "      dtype='object')"
            ]
          },
          "metadata": {},
          "execution_count": 17
        }
      ],
      "source": [
        "# Checking the names of the columns present in the dataset just to see whether the column is deleted\n",
        "X_train.columns"
      ]
    },
    {
      "cell_type": "code",
      "execution_count": null,
      "metadata": {
        "colab": {
          "base_uri": "https://localhost:8080/",
          "height": 364
        },
        "id": "KqiFUjJxaXPz",
        "outputId": "fbadf592-e9b5-470b-9383-12f26a000af6"
      },
      "outputs": [
        {
          "output_type": "execute_result",
          "data": {
            "text/plain": [
              "                year       zip.code    house.color         ni.age  \\\n",
              "count  690609.000000  690609.000000  690609.000000  690609.000000   \n",
              "mean     2014.630221   62387.421634       1.279907      43.562440   \n",
              "std         1.111729   27984.345638       0.970202      12.358673   \n",
              "min      2013.000000   15001.000000       0.000000      18.000000   \n",
              "25%      2014.000000   50009.000000       0.000000      35.000000   \n",
              "50%      2015.000000   80011.000000       1.000000      43.000000   \n",
              "75%      2016.000000   85030.000000       2.000000      51.000000   \n",
              "max      2016.000000   98038.000000       3.000000     389.478456   \n",
              "\n",
              "          len.at.res         credit  coverage.type  dwelling.type  \\\n",
              "count  690609.000000  690609.000000  690609.000000  690609.000000   \n",
              "mean       15.216420       0.600279       1.079140       0.958499   \n",
              "std         4.565299       0.822501       0.868201       0.661003   \n",
              "min         1.000000       0.000000       0.000000       0.000000   \n",
              "25%        12.000000       0.000000       0.000000       1.000000   \n",
              "50%        15.000000       0.000000       1.000000       1.000000   \n",
              "75%        18.000000       1.000000       2.000000       1.000000   \n",
              "max        49.997586       2.000000       2.000000       2.000000   \n",
              "\n",
              "             premium  sales.channel      ni.gender  ni.marital.status  \\\n",
              "count  690609.000000  690609.000000  690609.000000      690609.000000   \n",
              "mean      899.972977       0.752514       0.520236           0.710758   \n",
              "std        77.629984       0.924072       0.499591           0.453411   \n",
              "min       612.389520       0.000000       0.000000           0.000000   \n",
              "25%       844.012108       0.000000       0.000000           0.000000   \n",
              "50%       899.809847       0.000000       1.000000           1.000000   \n",
              "75%       955.453250       2.000000       1.000000           1.000000   \n",
              "max      1235.480942       2.000000       1.000000           1.000000   \n",
              "\n",
              "            n.adults     n.children         tenure      claim.ind  \n",
              "count  690609.000000  690609.000000  690609.000000  690609.000000  \n",
              "mean        2.133643       1.739355      11.679952       0.199230  \n",
              "std         1.253073       2.342889       5.933490       0.399422  \n",
              "min         1.000000       0.000000       0.000000       0.000000  \n",
              "25%         1.000000       0.000000       6.000000       0.000000  \n",
              "50%         2.000000       1.000000      13.000000       0.000000  \n",
              "75%         3.000000       3.000000      16.000000       0.000000  \n",
              "max        12.000000      12.000000      33.000000       1.000000  "
            ],
            "text/html": [
              "\n",
              "  <div id=\"df-d7a0191f-9c8b-4394-b915-3e09f30398ad\">\n",
              "    <div class=\"colab-df-container\">\n",
              "      <div>\n",
              "<style scoped>\n",
              "    .dataframe tbody tr th:only-of-type {\n",
              "        vertical-align: middle;\n",
              "    }\n",
              "\n",
              "    .dataframe tbody tr th {\n",
              "        vertical-align: top;\n",
              "    }\n",
              "\n",
              "    .dataframe thead th {\n",
              "        text-align: right;\n",
              "    }\n",
              "</style>\n",
              "<table border=\"1\" class=\"dataframe\">\n",
              "  <thead>\n",
              "    <tr style=\"text-align: right;\">\n",
              "      <th></th>\n",
              "      <th>year</th>\n",
              "      <th>zip.code</th>\n",
              "      <th>house.color</th>\n",
              "      <th>ni.age</th>\n",
              "      <th>len.at.res</th>\n",
              "      <th>credit</th>\n",
              "      <th>coverage.type</th>\n",
              "      <th>dwelling.type</th>\n",
              "      <th>premium</th>\n",
              "      <th>sales.channel</th>\n",
              "      <th>ni.gender</th>\n",
              "      <th>ni.marital.status</th>\n",
              "      <th>n.adults</th>\n",
              "      <th>n.children</th>\n",
              "      <th>tenure</th>\n",
              "      <th>claim.ind</th>\n",
              "    </tr>\n",
              "  </thead>\n",
              "  <tbody>\n",
              "    <tr>\n",
              "      <th>count</th>\n",
              "      <td>690609.000000</td>\n",
              "      <td>690609.000000</td>\n",
              "      <td>690609.000000</td>\n",
              "      <td>690609.000000</td>\n",
              "      <td>690609.000000</td>\n",
              "      <td>690609.000000</td>\n",
              "      <td>690609.000000</td>\n",
              "      <td>690609.000000</td>\n",
              "      <td>690609.000000</td>\n",
              "      <td>690609.000000</td>\n",
              "      <td>690609.000000</td>\n",
              "      <td>690609.000000</td>\n",
              "      <td>690609.000000</td>\n",
              "      <td>690609.000000</td>\n",
              "      <td>690609.000000</td>\n",
              "      <td>690609.000000</td>\n",
              "    </tr>\n",
              "    <tr>\n",
              "      <th>mean</th>\n",
              "      <td>2014.630221</td>\n",
              "      <td>62387.421634</td>\n",
              "      <td>1.279907</td>\n",
              "      <td>43.562440</td>\n",
              "      <td>15.216420</td>\n",
              "      <td>0.600279</td>\n",
              "      <td>1.079140</td>\n",
              "      <td>0.958499</td>\n",
              "      <td>899.972977</td>\n",
              "      <td>0.752514</td>\n",
              "      <td>0.520236</td>\n",
              "      <td>0.710758</td>\n",
              "      <td>2.133643</td>\n",
              "      <td>1.739355</td>\n",
              "      <td>11.679952</td>\n",
              "      <td>0.199230</td>\n",
              "    </tr>\n",
              "    <tr>\n",
              "      <th>std</th>\n",
              "      <td>1.111729</td>\n",
              "      <td>27984.345638</td>\n",
              "      <td>0.970202</td>\n",
              "      <td>12.358673</td>\n",
              "      <td>4.565299</td>\n",
              "      <td>0.822501</td>\n",
              "      <td>0.868201</td>\n",
              "      <td>0.661003</td>\n",
              "      <td>77.629984</td>\n",
              "      <td>0.924072</td>\n",
              "      <td>0.499591</td>\n",
              "      <td>0.453411</td>\n",
              "      <td>1.253073</td>\n",
              "      <td>2.342889</td>\n",
              "      <td>5.933490</td>\n",
              "      <td>0.399422</td>\n",
              "    </tr>\n",
              "    <tr>\n",
              "      <th>min</th>\n",
              "      <td>2013.000000</td>\n",
              "      <td>15001.000000</td>\n",
              "      <td>0.000000</td>\n",
              "      <td>18.000000</td>\n",
              "      <td>1.000000</td>\n",
              "      <td>0.000000</td>\n",
              "      <td>0.000000</td>\n",
              "      <td>0.000000</td>\n",
              "      <td>612.389520</td>\n",
              "      <td>0.000000</td>\n",
              "      <td>0.000000</td>\n",
              "      <td>0.000000</td>\n",
              "      <td>1.000000</td>\n",
              "      <td>0.000000</td>\n",
              "      <td>0.000000</td>\n",
              "      <td>0.000000</td>\n",
              "    </tr>\n",
              "    <tr>\n",
              "      <th>25%</th>\n",
              "      <td>2014.000000</td>\n",
              "      <td>50009.000000</td>\n",
              "      <td>0.000000</td>\n",
              "      <td>35.000000</td>\n",
              "      <td>12.000000</td>\n",
              "      <td>0.000000</td>\n",
              "      <td>0.000000</td>\n",
              "      <td>1.000000</td>\n",
              "      <td>844.012108</td>\n",
              "      <td>0.000000</td>\n",
              "      <td>0.000000</td>\n",
              "      <td>0.000000</td>\n",
              "      <td>1.000000</td>\n",
              "      <td>0.000000</td>\n",
              "      <td>6.000000</td>\n",
              "      <td>0.000000</td>\n",
              "    </tr>\n",
              "    <tr>\n",
              "      <th>50%</th>\n",
              "      <td>2015.000000</td>\n",
              "      <td>80011.000000</td>\n",
              "      <td>1.000000</td>\n",
              "      <td>43.000000</td>\n",
              "      <td>15.000000</td>\n",
              "      <td>0.000000</td>\n",
              "      <td>1.000000</td>\n",
              "      <td>1.000000</td>\n",
              "      <td>899.809847</td>\n",
              "      <td>0.000000</td>\n",
              "      <td>1.000000</td>\n",
              "      <td>1.000000</td>\n",
              "      <td>2.000000</td>\n",
              "      <td>1.000000</td>\n",
              "      <td>13.000000</td>\n",
              "      <td>0.000000</td>\n",
              "    </tr>\n",
              "    <tr>\n",
              "      <th>75%</th>\n",
              "      <td>2016.000000</td>\n",
              "      <td>85030.000000</td>\n",
              "      <td>2.000000</td>\n",
              "      <td>51.000000</td>\n",
              "      <td>18.000000</td>\n",
              "      <td>1.000000</td>\n",
              "      <td>2.000000</td>\n",
              "      <td>1.000000</td>\n",
              "      <td>955.453250</td>\n",
              "      <td>2.000000</td>\n",
              "      <td>1.000000</td>\n",
              "      <td>1.000000</td>\n",
              "      <td>3.000000</td>\n",
              "      <td>3.000000</td>\n",
              "      <td>16.000000</td>\n",
              "      <td>0.000000</td>\n",
              "    </tr>\n",
              "    <tr>\n",
              "      <th>max</th>\n",
              "      <td>2016.000000</td>\n",
              "      <td>98038.000000</td>\n",
              "      <td>3.000000</td>\n",
              "      <td>389.478456</td>\n",
              "      <td>49.997586</td>\n",
              "      <td>2.000000</td>\n",
              "      <td>2.000000</td>\n",
              "      <td>2.000000</td>\n",
              "      <td>1235.480942</td>\n",
              "      <td>2.000000</td>\n",
              "      <td>1.000000</td>\n",
              "      <td>1.000000</td>\n",
              "      <td>12.000000</td>\n",
              "      <td>12.000000</td>\n",
              "      <td>33.000000</td>\n",
              "      <td>1.000000</td>\n",
              "    </tr>\n",
              "  </tbody>\n",
              "</table>\n",
              "</div>\n",
              "      <button class=\"colab-df-convert\" onclick=\"convertToInteractive('df-d7a0191f-9c8b-4394-b915-3e09f30398ad')\"\n",
              "              title=\"Convert this dataframe to an interactive table.\"\n",
              "              style=\"display:none;\">\n",
              "        \n",
              "  <svg xmlns=\"http://www.w3.org/2000/svg\" height=\"24px\"viewBox=\"0 0 24 24\"\n",
              "       width=\"24px\">\n",
              "    <path d=\"M0 0h24v24H0V0z\" fill=\"none\"/>\n",
              "    <path d=\"M18.56 5.44l.94 2.06.94-2.06 2.06-.94-2.06-.94-.94-2.06-.94 2.06-2.06.94zm-11 1L8.5 8.5l.94-2.06 2.06-.94-2.06-.94L8.5 2.5l-.94 2.06-2.06.94zm10 10l.94 2.06.94-2.06 2.06-.94-2.06-.94-.94-2.06-.94 2.06-2.06.94z\"/><path d=\"M17.41 7.96l-1.37-1.37c-.4-.4-.92-.59-1.43-.59-.52 0-1.04.2-1.43.59L10.3 9.45l-7.72 7.72c-.78.78-.78 2.05 0 2.83L4 21.41c.39.39.9.59 1.41.59.51 0 1.02-.2 1.41-.59l7.78-7.78 2.81-2.81c.8-.78.8-2.07 0-2.86zM5.41 20L4 18.59l7.72-7.72 1.47 1.35L5.41 20z\"/>\n",
              "  </svg>\n",
              "      </button>\n",
              "      \n",
              "  <style>\n",
              "    .colab-df-container {\n",
              "      display:flex;\n",
              "      flex-wrap:wrap;\n",
              "      gap: 12px;\n",
              "    }\n",
              "\n",
              "    .colab-df-convert {\n",
              "      background-color: #E8F0FE;\n",
              "      border: none;\n",
              "      border-radius: 50%;\n",
              "      cursor: pointer;\n",
              "      display: none;\n",
              "      fill: #1967D2;\n",
              "      height: 32px;\n",
              "      padding: 0 0 0 0;\n",
              "      width: 32px;\n",
              "    }\n",
              "\n",
              "    .colab-df-convert:hover {\n",
              "      background-color: #E2EBFA;\n",
              "      box-shadow: 0px 1px 2px rgba(60, 64, 67, 0.3), 0px 1px 3px 1px rgba(60, 64, 67, 0.15);\n",
              "      fill: #174EA6;\n",
              "    }\n",
              "\n",
              "    [theme=dark] .colab-df-convert {\n",
              "      background-color: #3B4455;\n",
              "      fill: #D2E3FC;\n",
              "    }\n",
              "\n",
              "    [theme=dark] .colab-df-convert:hover {\n",
              "      background-color: #434B5C;\n",
              "      box-shadow: 0px 1px 3px 1px rgba(0, 0, 0, 0.15);\n",
              "      filter: drop-shadow(0px 1px 2px rgba(0, 0, 0, 0.3));\n",
              "      fill: #FFFFFF;\n",
              "    }\n",
              "  </style>\n",
              "\n",
              "      <script>\n",
              "        const buttonEl =\n",
              "          document.querySelector('#df-d7a0191f-9c8b-4394-b915-3e09f30398ad button.colab-df-convert');\n",
              "        buttonEl.style.display =\n",
              "          google.colab.kernel.accessAllowed ? 'block' : 'none';\n",
              "\n",
              "        async function convertToInteractive(key) {\n",
              "          const element = document.querySelector('#df-d7a0191f-9c8b-4394-b915-3e09f30398ad');\n",
              "          const dataTable =\n",
              "            await google.colab.kernel.invokeFunction('convertToInteractive',\n",
              "                                                     [key], {});\n",
              "          if (!dataTable) return;\n",
              "\n",
              "          const docLinkHtml = 'Like what you see? Visit the ' +\n",
              "            '<a target=\"_blank\" href=https://colab.research.google.com/notebooks/data_table.ipynb>data table notebook</a>'\n",
              "            + ' to learn more about interactive tables.';\n",
              "          element.innerHTML = '';\n",
              "          dataTable['output_type'] = 'display_data';\n",
              "          await google.colab.output.renderOutput(dataTable, element);\n",
              "          const docLink = document.createElement('div');\n",
              "          docLink.innerHTML = docLinkHtml;\n",
              "          element.appendChild(docLink);\n",
              "        }\n",
              "      </script>\n",
              "    </div>\n",
              "  </div>\n",
              "  "
            ]
          },
          "metadata": {},
          "execution_count": 18
        }
      ],
      "source": [
        "# Let's see what does does descirbe() function shows\n",
        "X_train.describe()"
      ]
    },
    {
      "cell_type": "code",
      "execution_count": null,
      "metadata": {
        "colab": {
          "base_uri": "https://localhost:8080/",
          "height": 206
        },
        "id": "mR791QNHbuD8",
        "outputId": "79f18e08-db10-4a9c-9b2e-e1087f0aed42"
      },
      "outputs": [
        {
          "output_type": "execute_result",
          "data": {
            "text/plain": [
              "   year  zip.code  house.color  ni.age  len.at.res  credit  coverage.type  \\\n",
              "0  2013   15056.0            3    55.0        15.0       0              0   \n",
              "1  2014   80014.0            1    60.0        17.0       2              0   \n",
              "2  2014   85002.0            2    48.0        15.0       0              0   \n",
              "3  2014   85051.0            1    57.0        15.0       0              0   \n",
              "4  2013   85077.0            2    42.0        16.0       0              1   \n",
              "\n",
              "   dwelling.type     premium  sales.channel  ni.gender  ni.marital.status  \\\n",
              "0              1  935.554116              2          0                1.0   \n",
              "1              1  835.804218              2          0                1.0   \n",
              "2              0  958.488416              0          1                1.0   \n",
              "3              1  963.496010              2          0                1.0   \n",
              "4              1  803.088375              0          0                1.0   \n",
              "\n",
              "   n.adults  n.children  tenure  claim.ind  \n",
              "0       1.0         1.0    14.0        0.0  \n",
              "1       1.0         1.0    17.0        0.0  \n",
              "2       1.0         0.0    11.0        1.0  \n",
              "3       2.0         1.0    19.0        0.0  \n",
              "4       2.0         2.0    12.0        0.0  "
            ],
            "text/html": [
              "\n",
              "  <div id=\"df-62fec122-10f2-4a73-b3b9-494a650fea9f\">\n",
              "    <div class=\"colab-df-container\">\n",
              "      <div>\n",
              "<style scoped>\n",
              "    .dataframe tbody tr th:only-of-type {\n",
              "        vertical-align: middle;\n",
              "    }\n",
              "\n",
              "    .dataframe tbody tr th {\n",
              "        vertical-align: top;\n",
              "    }\n",
              "\n",
              "    .dataframe thead th {\n",
              "        text-align: right;\n",
              "    }\n",
              "</style>\n",
              "<table border=\"1\" class=\"dataframe\">\n",
              "  <thead>\n",
              "    <tr style=\"text-align: right;\">\n",
              "      <th></th>\n",
              "      <th>year</th>\n",
              "      <th>zip.code</th>\n",
              "      <th>house.color</th>\n",
              "      <th>ni.age</th>\n",
              "      <th>len.at.res</th>\n",
              "      <th>credit</th>\n",
              "      <th>coverage.type</th>\n",
              "      <th>dwelling.type</th>\n",
              "      <th>premium</th>\n",
              "      <th>sales.channel</th>\n",
              "      <th>ni.gender</th>\n",
              "      <th>ni.marital.status</th>\n",
              "      <th>n.adults</th>\n",
              "      <th>n.children</th>\n",
              "      <th>tenure</th>\n",
              "      <th>claim.ind</th>\n",
              "    </tr>\n",
              "  </thead>\n",
              "  <tbody>\n",
              "    <tr>\n",
              "      <th>0</th>\n",
              "      <td>2013</td>\n",
              "      <td>15056.0</td>\n",
              "      <td>3</td>\n",
              "      <td>55.0</td>\n",
              "      <td>15.0</td>\n",
              "      <td>0</td>\n",
              "      <td>0</td>\n",
              "      <td>1</td>\n",
              "      <td>935.554116</td>\n",
              "      <td>2</td>\n",
              "      <td>0</td>\n",
              "      <td>1.0</td>\n",
              "      <td>1.0</td>\n",
              "      <td>1.0</td>\n",
              "      <td>14.0</td>\n",
              "      <td>0.0</td>\n",
              "    </tr>\n",
              "    <tr>\n",
              "      <th>1</th>\n",
              "      <td>2014</td>\n",
              "      <td>80014.0</td>\n",
              "      <td>1</td>\n",
              "      <td>60.0</td>\n",
              "      <td>17.0</td>\n",
              "      <td>2</td>\n",
              "      <td>0</td>\n",
              "      <td>1</td>\n",
              "      <td>835.804218</td>\n",
              "      <td>2</td>\n",
              "      <td>0</td>\n",
              "      <td>1.0</td>\n",
              "      <td>1.0</td>\n",
              "      <td>1.0</td>\n",
              "      <td>17.0</td>\n",
              "      <td>0.0</td>\n",
              "    </tr>\n",
              "    <tr>\n",
              "      <th>2</th>\n",
              "      <td>2014</td>\n",
              "      <td>85002.0</td>\n",
              "      <td>2</td>\n",
              "      <td>48.0</td>\n",
              "      <td>15.0</td>\n",
              "      <td>0</td>\n",
              "      <td>0</td>\n",
              "      <td>0</td>\n",
              "      <td>958.488416</td>\n",
              "      <td>0</td>\n",
              "      <td>1</td>\n",
              "      <td>1.0</td>\n",
              "      <td>1.0</td>\n",
              "      <td>0.0</td>\n",
              "      <td>11.0</td>\n",
              "      <td>1.0</td>\n",
              "    </tr>\n",
              "    <tr>\n",
              "      <th>3</th>\n",
              "      <td>2014</td>\n",
              "      <td>85051.0</td>\n",
              "      <td>1</td>\n",
              "      <td>57.0</td>\n",
              "      <td>15.0</td>\n",
              "      <td>0</td>\n",
              "      <td>0</td>\n",
              "      <td>1</td>\n",
              "      <td>963.496010</td>\n",
              "      <td>2</td>\n",
              "      <td>0</td>\n",
              "      <td>1.0</td>\n",
              "      <td>2.0</td>\n",
              "      <td>1.0</td>\n",
              "      <td>19.0</td>\n",
              "      <td>0.0</td>\n",
              "    </tr>\n",
              "    <tr>\n",
              "      <th>4</th>\n",
              "      <td>2013</td>\n",
              "      <td>85077.0</td>\n",
              "      <td>2</td>\n",
              "      <td>42.0</td>\n",
              "      <td>16.0</td>\n",
              "      <td>0</td>\n",
              "      <td>1</td>\n",
              "      <td>1</td>\n",
              "      <td>803.088375</td>\n",
              "      <td>0</td>\n",
              "      <td>0</td>\n",
              "      <td>1.0</td>\n",
              "      <td>2.0</td>\n",
              "      <td>2.0</td>\n",
              "      <td>12.0</td>\n",
              "      <td>0.0</td>\n",
              "    </tr>\n",
              "  </tbody>\n",
              "</table>\n",
              "</div>\n",
              "      <button class=\"colab-df-convert\" onclick=\"convertToInteractive('df-62fec122-10f2-4a73-b3b9-494a650fea9f')\"\n",
              "              title=\"Convert this dataframe to an interactive table.\"\n",
              "              style=\"display:none;\">\n",
              "        \n",
              "  <svg xmlns=\"http://www.w3.org/2000/svg\" height=\"24px\"viewBox=\"0 0 24 24\"\n",
              "       width=\"24px\">\n",
              "    <path d=\"M0 0h24v24H0V0z\" fill=\"none\"/>\n",
              "    <path d=\"M18.56 5.44l.94 2.06.94-2.06 2.06-.94-2.06-.94-.94-2.06-.94 2.06-2.06.94zm-11 1L8.5 8.5l.94-2.06 2.06-.94-2.06-.94L8.5 2.5l-.94 2.06-2.06.94zm10 10l.94 2.06.94-2.06 2.06-.94-2.06-.94-.94-2.06-.94 2.06-2.06.94z\"/><path d=\"M17.41 7.96l-1.37-1.37c-.4-.4-.92-.59-1.43-.59-.52 0-1.04.2-1.43.59L10.3 9.45l-7.72 7.72c-.78.78-.78 2.05 0 2.83L4 21.41c.39.39.9.59 1.41.59.51 0 1.02-.2 1.41-.59l7.78-7.78 2.81-2.81c.8-.78.8-2.07 0-2.86zM5.41 20L4 18.59l7.72-7.72 1.47 1.35L5.41 20z\"/>\n",
              "  </svg>\n",
              "      </button>\n",
              "      \n",
              "  <style>\n",
              "    .colab-df-container {\n",
              "      display:flex;\n",
              "      flex-wrap:wrap;\n",
              "      gap: 12px;\n",
              "    }\n",
              "\n",
              "    .colab-df-convert {\n",
              "      background-color: #E8F0FE;\n",
              "      border: none;\n",
              "      border-radius: 50%;\n",
              "      cursor: pointer;\n",
              "      display: none;\n",
              "      fill: #1967D2;\n",
              "      height: 32px;\n",
              "      padding: 0 0 0 0;\n",
              "      width: 32px;\n",
              "    }\n",
              "\n",
              "    .colab-df-convert:hover {\n",
              "      background-color: #E2EBFA;\n",
              "      box-shadow: 0px 1px 2px rgba(60, 64, 67, 0.3), 0px 1px 3px 1px rgba(60, 64, 67, 0.15);\n",
              "      fill: #174EA6;\n",
              "    }\n",
              "\n",
              "    [theme=dark] .colab-df-convert {\n",
              "      background-color: #3B4455;\n",
              "      fill: #D2E3FC;\n",
              "    }\n",
              "\n",
              "    [theme=dark] .colab-df-convert:hover {\n",
              "      background-color: #434B5C;\n",
              "      box-shadow: 0px 1px 3px 1px rgba(0, 0, 0, 0.15);\n",
              "      filter: drop-shadow(0px 1px 2px rgba(0, 0, 0, 0.3));\n",
              "      fill: #FFFFFF;\n",
              "    }\n",
              "  </style>\n",
              "\n",
              "      <script>\n",
              "        const buttonEl =\n",
              "          document.querySelector('#df-62fec122-10f2-4a73-b3b9-494a650fea9f button.colab-df-convert');\n",
              "        buttonEl.style.display =\n",
              "          google.colab.kernel.accessAllowed ? 'block' : 'none';\n",
              "\n",
              "        async function convertToInteractive(key) {\n",
              "          const element = document.querySelector('#df-62fec122-10f2-4a73-b3b9-494a650fea9f');\n",
              "          const dataTable =\n",
              "            await google.colab.kernel.invokeFunction('convertToInteractive',\n",
              "                                                     [key], {});\n",
              "          if (!dataTable) return;\n",
              "\n",
              "          const docLinkHtml = 'Like what you see? Visit the ' +\n",
              "            '<a target=\"_blank\" href=https://colab.research.google.com/notebooks/data_table.ipynb>data table notebook</a>'\n",
              "            + ' to learn more about interactive tables.';\n",
              "          element.innerHTML = '';\n",
              "          dataTable['output_type'] = 'display_data';\n",
              "          await google.colab.output.renderOutput(dataTable, element);\n",
              "          const docLink = document.createElement('div');\n",
              "          docLink.innerHTML = docLinkHtml;\n",
              "          element.appendChild(docLink);\n",
              "        }\n",
              "      </script>\n",
              "    </div>\n",
              "  </div>\n",
              "  "
            ]
          },
          "metadata": {},
          "execution_count": 19
        }
      ],
      "source": [
        "# Let's use the head function for the train dataset and see how the dataframe looks like\n",
        "X_train.head()"
      ]
    },
    {
      "cell_type": "code",
      "execution_count": null,
      "metadata": {
        "colab": {
          "base_uri": "https://localhost:8080/",
          "height": 206
        },
        "id": "FplhRW0b85tK",
        "outputId": "d77a67bb-b97e-40b4-b7ce-531a08a35a98"
      },
      "outputs": [
        {
          "output_type": "execute_result",
          "data": {
            "text/plain": [
              "   year  zip.code  house.color  ni.age  len.at.res  credit  coverage.type  \\\n",
              "0  2013   50020.0            2    33.0        16.0       0              2   \n",
              "1  2013   80002.0            1    56.0        10.0       0              0   \n",
              "2  2015   85005.0            2    46.0        12.0       0              2   \n",
              "3  2015   98026.0            0    45.0        15.0       0              0   \n",
              "4  2014   50022.0            2    28.0        19.0       1              2   \n",
              "\n",
              "   dwelling.type     premium  sales.channel  ni.gender  ni.marital.status  \\\n",
              "0              1  796.385532              0          0                1.0   \n",
              "1              1  773.232687              0          1                1.0   \n",
              "2              0  943.047142              0          0                1.0   \n",
              "3              2  949.368847              0          1                1.0   \n",
              "4              2  875.873613              0          0                1.0   \n",
              "\n",
              "   n.adults  n.children  tenure  claim.ind  \n",
              "0       1.0         3.0     2.0        1.0  \n",
              "1       2.0         0.0    14.0        0.0  \n",
              "2       2.0         2.0     9.0        0.0  \n",
              "3       1.0         3.0    12.0        0.0  \n",
              "4       1.0         1.0     7.0        1.0  "
            ],
            "text/html": [
              "\n",
              "  <div id=\"df-06e57aa8-e81c-4609-acfb-6972f69a9c1f\">\n",
              "    <div class=\"colab-df-container\">\n",
              "      <div>\n",
              "<style scoped>\n",
              "    .dataframe tbody tr th:only-of-type {\n",
              "        vertical-align: middle;\n",
              "    }\n",
              "\n",
              "    .dataframe tbody tr th {\n",
              "        vertical-align: top;\n",
              "    }\n",
              "\n",
              "    .dataframe thead th {\n",
              "        text-align: right;\n",
              "    }\n",
              "</style>\n",
              "<table border=\"1\" class=\"dataframe\">\n",
              "  <thead>\n",
              "    <tr style=\"text-align: right;\">\n",
              "      <th></th>\n",
              "      <th>year</th>\n",
              "      <th>zip.code</th>\n",
              "      <th>house.color</th>\n",
              "      <th>ni.age</th>\n",
              "      <th>len.at.res</th>\n",
              "      <th>credit</th>\n",
              "      <th>coverage.type</th>\n",
              "      <th>dwelling.type</th>\n",
              "      <th>premium</th>\n",
              "      <th>sales.channel</th>\n",
              "      <th>ni.gender</th>\n",
              "      <th>ni.marital.status</th>\n",
              "      <th>n.adults</th>\n",
              "      <th>n.children</th>\n",
              "      <th>tenure</th>\n",
              "      <th>claim.ind</th>\n",
              "    </tr>\n",
              "  </thead>\n",
              "  <tbody>\n",
              "    <tr>\n",
              "      <th>0</th>\n",
              "      <td>2013</td>\n",
              "      <td>50020.0</td>\n",
              "      <td>2</td>\n",
              "      <td>33.0</td>\n",
              "      <td>16.0</td>\n",
              "      <td>0</td>\n",
              "      <td>2</td>\n",
              "      <td>1</td>\n",
              "      <td>796.385532</td>\n",
              "      <td>0</td>\n",
              "      <td>0</td>\n",
              "      <td>1.0</td>\n",
              "      <td>1.0</td>\n",
              "      <td>3.0</td>\n",
              "      <td>2.0</td>\n",
              "      <td>1.0</td>\n",
              "    </tr>\n",
              "    <tr>\n",
              "      <th>1</th>\n",
              "      <td>2013</td>\n",
              "      <td>80002.0</td>\n",
              "      <td>1</td>\n",
              "      <td>56.0</td>\n",
              "      <td>10.0</td>\n",
              "      <td>0</td>\n",
              "      <td>0</td>\n",
              "      <td>1</td>\n",
              "      <td>773.232687</td>\n",
              "      <td>0</td>\n",
              "      <td>1</td>\n",
              "      <td>1.0</td>\n",
              "      <td>2.0</td>\n",
              "      <td>0.0</td>\n",
              "      <td>14.0</td>\n",
              "      <td>0.0</td>\n",
              "    </tr>\n",
              "    <tr>\n",
              "      <th>2</th>\n",
              "      <td>2015</td>\n",
              "      <td>85005.0</td>\n",
              "      <td>2</td>\n",
              "      <td>46.0</td>\n",
              "      <td>12.0</td>\n",
              "      <td>0</td>\n",
              "      <td>2</td>\n",
              "      <td>0</td>\n",
              "      <td>943.047142</td>\n",
              "      <td>0</td>\n",
              "      <td>0</td>\n",
              "      <td>1.0</td>\n",
              "      <td>2.0</td>\n",
              "      <td>2.0</td>\n",
              "      <td>9.0</td>\n",
              "      <td>0.0</td>\n",
              "    </tr>\n",
              "    <tr>\n",
              "      <th>3</th>\n",
              "      <td>2015</td>\n",
              "      <td>98026.0</td>\n",
              "      <td>0</td>\n",
              "      <td>45.0</td>\n",
              "      <td>15.0</td>\n",
              "      <td>0</td>\n",
              "      <td>0</td>\n",
              "      <td>2</td>\n",
              "      <td>949.368847</td>\n",
              "      <td>0</td>\n",
              "      <td>1</td>\n",
              "      <td>1.0</td>\n",
              "      <td>1.0</td>\n",
              "      <td>3.0</td>\n",
              "      <td>12.0</td>\n",
              "      <td>0.0</td>\n",
              "    </tr>\n",
              "    <tr>\n",
              "      <th>4</th>\n",
              "      <td>2014</td>\n",
              "      <td>50022.0</td>\n",
              "      <td>2</td>\n",
              "      <td>28.0</td>\n",
              "      <td>19.0</td>\n",
              "      <td>1</td>\n",
              "      <td>2</td>\n",
              "      <td>2</td>\n",
              "      <td>875.873613</td>\n",
              "      <td>0</td>\n",
              "      <td>0</td>\n",
              "      <td>1.0</td>\n",
              "      <td>1.0</td>\n",
              "      <td>1.0</td>\n",
              "      <td>7.0</td>\n",
              "      <td>1.0</td>\n",
              "    </tr>\n",
              "  </tbody>\n",
              "</table>\n",
              "</div>\n",
              "      <button class=\"colab-df-convert\" onclick=\"convertToInteractive('df-06e57aa8-e81c-4609-acfb-6972f69a9c1f')\"\n",
              "              title=\"Convert this dataframe to an interactive table.\"\n",
              "              style=\"display:none;\">\n",
              "        \n",
              "  <svg xmlns=\"http://www.w3.org/2000/svg\" height=\"24px\"viewBox=\"0 0 24 24\"\n",
              "       width=\"24px\">\n",
              "    <path d=\"M0 0h24v24H0V0z\" fill=\"none\"/>\n",
              "    <path d=\"M18.56 5.44l.94 2.06.94-2.06 2.06-.94-2.06-.94-.94-2.06-.94 2.06-2.06.94zm-11 1L8.5 8.5l.94-2.06 2.06-.94-2.06-.94L8.5 2.5l-.94 2.06-2.06.94zm10 10l.94 2.06.94-2.06 2.06-.94-2.06-.94-.94-2.06-.94 2.06-2.06.94z\"/><path d=\"M17.41 7.96l-1.37-1.37c-.4-.4-.92-.59-1.43-.59-.52 0-1.04.2-1.43.59L10.3 9.45l-7.72 7.72c-.78.78-.78 2.05 0 2.83L4 21.41c.39.39.9.59 1.41.59.51 0 1.02-.2 1.41-.59l7.78-7.78 2.81-2.81c.8-.78.8-2.07 0-2.86zM5.41 20L4 18.59l7.72-7.72 1.47 1.35L5.41 20z\"/>\n",
              "  </svg>\n",
              "      </button>\n",
              "      \n",
              "  <style>\n",
              "    .colab-df-container {\n",
              "      display:flex;\n",
              "      flex-wrap:wrap;\n",
              "      gap: 12px;\n",
              "    }\n",
              "\n",
              "    .colab-df-convert {\n",
              "      background-color: #E8F0FE;\n",
              "      border: none;\n",
              "      border-radius: 50%;\n",
              "      cursor: pointer;\n",
              "      display: none;\n",
              "      fill: #1967D2;\n",
              "      height: 32px;\n",
              "      padding: 0 0 0 0;\n",
              "      width: 32px;\n",
              "    }\n",
              "\n",
              "    .colab-df-convert:hover {\n",
              "      background-color: #E2EBFA;\n",
              "      box-shadow: 0px 1px 2px rgba(60, 64, 67, 0.3), 0px 1px 3px 1px rgba(60, 64, 67, 0.15);\n",
              "      fill: #174EA6;\n",
              "    }\n",
              "\n",
              "    [theme=dark] .colab-df-convert {\n",
              "      background-color: #3B4455;\n",
              "      fill: #D2E3FC;\n",
              "    }\n",
              "\n",
              "    [theme=dark] .colab-df-convert:hover {\n",
              "      background-color: #434B5C;\n",
              "      box-shadow: 0px 1px 3px 1px rgba(0, 0, 0, 0.15);\n",
              "      filter: drop-shadow(0px 1px 2px rgba(0, 0, 0, 0.3));\n",
              "      fill: #FFFFFF;\n",
              "    }\n",
              "  </style>\n",
              "\n",
              "      <script>\n",
              "        const buttonEl =\n",
              "          document.querySelector('#df-06e57aa8-e81c-4609-acfb-6972f69a9c1f button.colab-df-convert');\n",
              "        buttonEl.style.display =\n",
              "          google.colab.kernel.accessAllowed ? 'block' : 'none';\n",
              "\n",
              "        async function convertToInteractive(key) {\n",
              "          const element = document.querySelector('#df-06e57aa8-e81c-4609-acfb-6972f69a9c1f');\n",
              "          const dataTable =\n",
              "            await google.colab.kernel.invokeFunction('convertToInteractive',\n",
              "                                                     [key], {});\n",
              "          if (!dataTable) return;\n",
              "\n",
              "          const docLinkHtml = 'Like what you see? Visit the ' +\n",
              "            '<a target=\"_blank\" href=https://colab.research.google.com/notebooks/data_table.ipynb>data table notebook</a>'\n",
              "            + ' to learn more about interactive tables.';\n",
              "          element.innerHTML = '';\n",
              "          dataTable['output_type'] = 'display_data';\n",
              "          await google.colab.output.renderOutput(dataTable, element);\n",
              "          const docLink = document.createElement('div');\n",
              "          docLink.innerHTML = docLinkHtml;\n",
              "          element.appendChild(docLink);\n",
              "        }\n",
              "      </script>\n",
              "    </div>\n",
              "  </div>\n",
              "  "
            ]
          },
          "metadata": {},
          "execution_count": 20
        }
      ],
      "source": [
        "X_test.head()"
      ]
    },
    {
      "cell_type": "code",
      "execution_count": null,
      "metadata": {
        "colab": {
          "base_uri": "https://localhost:8080/"
        },
        "id": "TeKndqCinAsg",
        "outputId": "3668d743-8b04-4e31-8070-99797cd07117"
      },
      "outputs": [
        {
          "output_type": "stream",
          "name": "stdout",
          "text": [
            "(690609, 16) (344891, 16)\n"
          ]
        }
      ],
      "source": [
        "# Checking the shape of the Data frame\n",
        "print(X_train.shape,X_test.shape)"
      ]
    },
    {
      "cell_type": "markdown",
      "metadata": {
        "id": "o_0QsqTfj_Df"
      },
      "source": [
        "Having highly correlated columns in the dataset will affect the model performance resulting in less accuracy and efficiency. In particular having highly correlated columns in the dataset will result in\n",
        "* Diffcult to interpret\n",
        "* Overfitting\n",
        "* Instability\n",
        "* Increased Variance\n",
        "* Computational Complexity\n",
        "\n",
        "So before moving to other stages of EDA it is better to check the correlation between columns"
      ]
    },
    {
      "cell_type": "markdown",
      "metadata": {
        "id": "l6ExpmoBnWk1"
      },
      "source": [
        "## Correlation Matrix"
      ]
    },
    {
      "cell_type": "code",
      "execution_count": null,
      "metadata": {
        "colab": {
          "base_uri": "https://localhost:8080/",
          "height": 615
        },
        "id": "sbYDIprOptf3",
        "outputId": "c58a5861-27c2-4b8a-a207-c33d2bf99948"
      },
      "outputs": [
        {
          "output_type": "execute_result",
          "data": {
            "text/plain": [
              "                       year  zip.code  house.color    ni.age  len.at.res  \\\n",
              "year               1.000000  0.001087    -0.003496 -0.001073   -0.000816   \n",
              "zip.code           0.001087  1.000000     0.000309 -0.001658    0.000172   \n",
              "house.color       -0.003496  0.000309     1.000000 -0.002826   -0.000271   \n",
              "ni.age            -0.001073 -0.001658    -0.002826  1.000000    0.001291   \n",
              "len.at.res        -0.000816  0.000172    -0.000271  0.001291    1.000000   \n",
              "credit             0.001956  0.002565    -0.000611 -0.083730    0.000394   \n",
              "coverage.type     -0.001045 -0.002203     0.002423 -0.001227   -0.001241   \n",
              "dwelling.type     -0.001287  0.001039    -0.000220 -0.006821    0.000766   \n",
              "premium            0.000468  0.000104    -0.000021 -0.000625    0.001050   \n",
              "sales.channel      0.000266  0.000148     0.001734 -0.022561    0.000277   \n",
              "ni.gender          0.000538  0.002044    -0.001407  0.000192    0.002124   \n",
              "ni.marital.status  0.001127  0.000678     0.000034  0.064662   -0.000414   \n",
              "n.adults          -0.001386  0.001663     0.000999 -0.001821    0.000157   \n",
              "n.children         0.000217  0.001534    -0.000185  0.090622   -0.000387   \n",
              "tenure            -0.002497 -0.001330    -0.001163  0.587189   -0.001041   \n",
              "claim.ind          0.000437 -0.000677    -0.001488  0.001662    0.000863   \n",
              "\n",
              "                     credit  coverage.type  dwelling.type   premium  \\\n",
              "year               0.001956      -0.001045      -0.001287  0.000468   \n",
              "zip.code           0.002565      -0.002203       0.001039  0.000104   \n",
              "house.color       -0.000611       0.002423      -0.000220 -0.000021   \n",
              "ni.age            -0.083730      -0.001227      -0.006821 -0.000625   \n",
              "len.at.res         0.000394      -0.001241       0.000766  0.001050   \n",
              "credit             1.000000       0.000742       0.000638  0.001032   \n",
              "coverage.type      0.000742       1.000000       0.001762 -0.000140   \n",
              "dwelling.type      0.000638       0.001762       1.000000 -0.000805   \n",
              "premium            0.001032      -0.000140      -0.000805  1.000000   \n",
              "sales.channel      0.004826       0.001378      -0.000569  0.000822   \n",
              "ni.gender          0.001652       0.003864       0.001177  0.000719   \n",
              "ni.marital.status -0.006412       0.000395       0.001363 -0.000704   \n",
              "n.adults          -0.000921      -0.000003       0.001137 -0.001196   \n",
              "n.children        -0.008325      -0.000996      -0.000559 -0.001548   \n",
              "tenure            -0.077867      -0.001936      -0.003046 -0.001052   \n",
              "claim.ind         -0.000526       0.000021      -0.000087 -0.000786   \n",
              "\n",
              "                   sales.channel  ni.gender  ni.marital.status  n.adults  \\\n",
              "year                    0.000266   0.000538           0.001127 -0.001386   \n",
              "zip.code                0.000148   0.002044           0.000678  0.001663   \n",
              "house.color             0.001734  -0.001407           0.000034  0.000999   \n",
              "ni.age                 -0.022561   0.000192           0.064662 -0.001821   \n",
              "len.at.res              0.000277   0.002124          -0.000414  0.000157   \n",
              "credit                  0.004826   0.001652          -0.006412 -0.000921   \n",
              "coverage.type           0.001378   0.003864           0.000395 -0.000003   \n",
              "dwelling.type          -0.000569   0.001177           0.001363  0.001137   \n",
              "premium                 0.000822   0.000719          -0.000704 -0.001196   \n",
              "sales.channel           1.000000  -0.001008          -0.000823  0.000439   \n",
              "ni.gender              -0.001008   1.000000           0.001782  0.000941   \n",
              "ni.marital.status      -0.000823   0.001782           1.000000  0.000481   \n",
              "n.adults                0.000439   0.000941           0.000481  1.000000   \n",
              "n.children             -0.001191  -0.000186           0.405701 -0.001069   \n",
              "tenure                 -0.020202  -0.000530           0.039524 -0.001471   \n",
              "claim.ind               0.000763   0.002087          -0.000913 -0.000408   \n",
              "\n",
              "                   n.children    tenure  claim.ind  \n",
              "year                 0.000217 -0.002497   0.000437  \n",
              "zip.code             0.001534 -0.001330  -0.000677  \n",
              "house.color         -0.000185 -0.001163  -0.001488  \n",
              "ni.age               0.090622  0.587189   0.001662  \n",
              "len.at.res          -0.000387 -0.001041   0.000863  \n",
              "credit              -0.008325 -0.077867  -0.000526  \n",
              "coverage.type       -0.000996 -0.001936   0.000021  \n",
              "dwelling.type       -0.000559 -0.003046  -0.000087  \n",
              "premium             -0.001548 -0.001052  -0.000786  \n",
              "sales.channel       -0.001191 -0.020202   0.000763  \n",
              "ni.gender           -0.000186 -0.000530   0.002087  \n",
              "ni.marital.status    0.405701  0.039524  -0.000913  \n",
              "n.adults            -0.001069 -0.001471  -0.000408  \n",
              "n.children           1.000000  0.053087  -0.000158  \n",
              "tenure               0.053087  1.000000   0.001148  \n",
              "claim.ind           -0.000158  0.001148   1.000000  "
            ],
            "text/html": [
              "\n",
              "  <div id=\"df-2f349efa-8d65-4d45-b9d1-c4ab43d7b559\">\n",
              "    <div class=\"colab-df-container\">\n",
              "      <div>\n",
              "<style scoped>\n",
              "    .dataframe tbody tr th:only-of-type {\n",
              "        vertical-align: middle;\n",
              "    }\n",
              "\n",
              "    .dataframe tbody tr th {\n",
              "        vertical-align: top;\n",
              "    }\n",
              "\n",
              "    .dataframe thead th {\n",
              "        text-align: right;\n",
              "    }\n",
              "</style>\n",
              "<table border=\"1\" class=\"dataframe\">\n",
              "  <thead>\n",
              "    <tr style=\"text-align: right;\">\n",
              "      <th></th>\n",
              "      <th>year</th>\n",
              "      <th>zip.code</th>\n",
              "      <th>house.color</th>\n",
              "      <th>ni.age</th>\n",
              "      <th>len.at.res</th>\n",
              "      <th>credit</th>\n",
              "      <th>coverage.type</th>\n",
              "      <th>dwelling.type</th>\n",
              "      <th>premium</th>\n",
              "      <th>sales.channel</th>\n",
              "      <th>ni.gender</th>\n",
              "      <th>ni.marital.status</th>\n",
              "      <th>n.adults</th>\n",
              "      <th>n.children</th>\n",
              "      <th>tenure</th>\n",
              "      <th>claim.ind</th>\n",
              "    </tr>\n",
              "  </thead>\n",
              "  <tbody>\n",
              "    <tr>\n",
              "      <th>year</th>\n",
              "      <td>1.000000</td>\n",
              "      <td>0.001087</td>\n",
              "      <td>-0.003496</td>\n",
              "      <td>-0.001073</td>\n",
              "      <td>-0.000816</td>\n",
              "      <td>0.001956</td>\n",
              "      <td>-0.001045</td>\n",
              "      <td>-0.001287</td>\n",
              "      <td>0.000468</td>\n",
              "      <td>0.000266</td>\n",
              "      <td>0.000538</td>\n",
              "      <td>0.001127</td>\n",
              "      <td>-0.001386</td>\n",
              "      <td>0.000217</td>\n",
              "      <td>-0.002497</td>\n",
              "      <td>0.000437</td>\n",
              "    </tr>\n",
              "    <tr>\n",
              "      <th>zip.code</th>\n",
              "      <td>0.001087</td>\n",
              "      <td>1.000000</td>\n",
              "      <td>0.000309</td>\n",
              "      <td>-0.001658</td>\n",
              "      <td>0.000172</td>\n",
              "      <td>0.002565</td>\n",
              "      <td>-0.002203</td>\n",
              "      <td>0.001039</td>\n",
              "      <td>0.000104</td>\n",
              "      <td>0.000148</td>\n",
              "      <td>0.002044</td>\n",
              "      <td>0.000678</td>\n",
              "      <td>0.001663</td>\n",
              "      <td>0.001534</td>\n",
              "      <td>-0.001330</td>\n",
              "      <td>-0.000677</td>\n",
              "    </tr>\n",
              "    <tr>\n",
              "      <th>house.color</th>\n",
              "      <td>-0.003496</td>\n",
              "      <td>0.000309</td>\n",
              "      <td>1.000000</td>\n",
              "      <td>-0.002826</td>\n",
              "      <td>-0.000271</td>\n",
              "      <td>-0.000611</td>\n",
              "      <td>0.002423</td>\n",
              "      <td>-0.000220</td>\n",
              "      <td>-0.000021</td>\n",
              "      <td>0.001734</td>\n",
              "      <td>-0.001407</td>\n",
              "      <td>0.000034</td>\n",
              "      <td>0.000999</td>\n",
              "      <td>-0.000185</td>\n",
              "      <td>-0.001163</td>\n",
              "      <td>-0.001488</td>\n",
              "    </tr>\n",
              "    <tr>\n",
              "      <th>ni.age</th>\n",
              "      <td>-0.001073</td>\n",
              "      <td>-0.001658</td>\n",
              "      <td>-0.002826</td>\n",
              "      <td>1.000000</td>\n",
              "      <td>0.001291</td>\n",
              "      <td>-0.083730</td>\n",
              "      <td>-0.001227</td>\n",
              "      <td>-0.006821</td>\n",
              "      <td>-0.000625</td>\n",
              "      <td>-0.022561</td>\n",
              "      <td>0.000192</td>\n",
              "      <td>0.064662</td>\n",
              "      <td>-0.001821</td>\n",
              "      <td>0.090622</td>\n",
              "      <td>0.587189</td>\n",
              "      <td>0.001662</td>\n",
              "    </tr>\n",
              "    <tr>\n",
              "      <th>len.at.res</th>\n",
              "      <td>-0.000816</td>\n",
              "      <td>0.000172</td>\n",
              "      <td>-0.000271</td>\n",
              "      <td>0.001291</td>\n",
              "      <td>1.000000</td>\n",
              "      <td>0.000394</td>\n",
              "      <td>-0.001241</td>\n",
              "      <td>0.000766</td>\n",
              "      <td>0.001050</td>\n",
              "      <td>0.000277</td>\n",
              "      <td>0.002124</td>\n",
              "      <td>-0.000414</td>\n",
              "      <td>0.000157</td>\n",
              "      <td>-0.000387</td>\n",
              "      <td>-0.001041</td>\n",
              "      <td>0.000863</td>\n",
              "    </tr>\n",
              "    <tr>\n",
              "      <th>credit</th>\n",
              "      <td>0.001956</td>\n",
              "      <td>0.002565</td>\n",
              "      <td>-0.000611</td>\n",
              "      <td>-0.083730</td>\n",
              "      <td>0.000394</td>\n",
              "      <td>1.000000</td>\n",
              "      <td>0.000742</td>\n",
              "      <td>0.000638</td>\n",
              "      <td>0.001032</td>\n",
              "      <td>0.004826</td>\n",
              "      <td>0.001652</td>\n",
              "      <td>-0.006412</td>\n",
              "      <td>-0.000921</td>\n",
              "      <td>-0.008325</td>\n",
              "      <td>-0.077867</td>\n",
              "      <td>-0.000526</td>\n",
              "    </tr>\n",
              "    <tr>\n",
              "      <th>coverage.type</th>\n",
              "      <td>-0.001045</td>\n",
              "      <td>-0.002203</td>\n",
              "      <td>0.002423</td>\n",
              "      <td>-0.001227</td>\n",
              "      <td>-0.001241</td>\n",
              "      <td>0.000742</td>\n",
              "      <td>1.000000</td>\n",
              "      <td>0.001762</td>\n",
              "      <td>-0.000140</td>\n",
              "      <td>0.001378</td>\n",
              "      <td>0.003864</td>\n",
              "      <td>0.000395</td>\n",
              "      <td>-0.000003</td>\n",
              "      <td>-0.000996</td>\n",
              "      <td>-0.001936</td>\n",
              "      <td>0.000021</td>\n",
              "    </tr>\n",
              "    <tr>\n",
              "      <th>dwelling.type</th>\n",
              "      <td>-0.001287</td>\n",
              "      <td>0.001039</td>\n",
              "      <td>-0.000220</td>\n",
              "      <td>-0.006821</td>\n",
              "      <td>0.000766</td>\n",
              "      <td>0.000638</td>\n",
              "      <td>0.001762</td>\n",
              "      <td>1.000000</td>\n",
              "      <td>-0.000805</td>\n",
              "      <td>-0.000569</td>\n",
              "      <td>0.001177</td>\n",
              "      <td>0.001363</td>\n",
              "      <td>0.001137</td>\n",
              "      <td>-0.000559</td>\n",
              "      <td>-0.003046</td>\n",
              "      <td>-0.000087</td>\n",
              "    </tr>\n",
              "    <tr>\n",
              "      <th>premium</th>\n",
              "      <td>0.000468</td>\n",
              "      <td>0.000104</td>\n",
              "      <td>-0.000021</td>\n",
              "      <td>-0.000625</td>\n",
              "      <td>0.001050</td>\n",
              "      <td>0.001032</td>\n",
              "      <td>-0.000140</td>\n",
              "      <td>-0.000805</td>\n",
              "      <td>1.000000</td>\n",
              "      <td>0.000822</td>\n",
              "      <td>0.000719</td>\n",
              "      <td>-0.000704</td>\n",
              "      <td>-0.001196</td>\n",
              "      <td>-0.001548</td>\n",
              "      <td>-0.001052</td>\n",
              "      <td>-0.000786</td>\n",
              "    </tr>\n",
              "    <tr>\n",
              "      <th>sales.channel</th>\n",
              "      <td>0.000266</td>\n",
              "      <td>0.000148</td>\n",
              "      <td>0.001734</td>\n",
              "      <td>-0.022561</td>\n",
              "      <td>0.000277</td>\n",
              "      <td>0.004826</td>\n",
              "      <td>0.001378</td>\n",
              "      <td>-0.000569</td>\n",
              "      <td>0.000822</td>\n",
              "      <td>1.000000</td>\n",
              "      <td>-0.001008</td>\n",
              "      <td>-0.000823</td>\n",
              "      <td>0.000439</td>\n",
              "      <td>-0.001191</td>\n",
              "      <td>-0.020202</td>\n",
              "      <td>0.000763</td>\n",
              "    </tr>\n",
              "    <tr>\n",
              "      <th>ni.gender</th>\n",
              "      <td>0.000538</td>\n",
              "      <td>0.002044</td>\n",
              "      <td>-0.001407</td>\n",
              "      <td>0.000192</td>\n",
              "      <td>0.002124</td>\n",
              "      <td>0.001652</td>\n",
              "      <td>0.003864</td>\n",
              "      <td>0.001177</td>\n",
              "      <td>0.000719</td>\n",
              "      <td>-0.001008</td>\n",
              "      <td>1.000000</td>\n",
              "      <td>0.001782</td>\n",
              "      <td>0.000941</td>\n",
              "      <td>-0.000186</td>\n",
              "      <td>-0.000530</td>\n",
              "      <td>0.002087</td>\n",
              "    </tr>\n",
              "    <tr>\n",
              "      <th>ni.marital.status</th>\n",
              "      <td>0.001127</td>\n",
              "      <td>0.000678</td>\n",
              "      <td>0.000034</td>\n",
              "      <td>0.064662</td>\n",
              "      <td>-0.000414</td>\n",
              "      <td>-0.006412</td>\n",
              "      <td>0.000395</td>\n",
              "      <td>0.001363</td>\n",
              "      <td>-0.000704</td>\n",
              "      <td>-0.000823</td>\n",
              "      <td>0.001782</td>\n",
              "      <td>1.000000</td>\n",
              "      <td>0.000481</td>\n",
              "      <td>0.405701</td>\n",
              "      <td>0.039524</td>\n",
              "      <td>-0.000913</td>\n",
              "    </tr>\n",
              "    <tr>\n",
              "      <th>n.adults</th>\n",
              "      <td>-0.001386</td>\n",
              "      <td>0.001663</td>\n",
              "      <td>0.000999</td>\n",
              "      <td>-0.001821</td>\n",
              "      <td>0.000157</td>\n",
              "      <td>-0.000921</td>\n",
              "      <td>-0.000003</td>\n",
              "      <td>0.001137</td>\n",
              "      <td>-0.001196</td>\n",
              "      <td>0.000439</td>\n",
              "      <td>0.000941</td>\n",
              "      <td>0.000481</td>\n",
              "      <td>1.000000</td>\n",
              "      <td>-0.001069</td>\n",
              "      <td>-0.001471</td>\n",
              "      <td>-0.000408</td>\n",
              "    </tr>\n",
              "    <tr>\n",
              "      <th>n.children</th>\n",
              "      <td>0.000217</td>\n",
              "      <td>0.001534</td>\n",
              "      <td>-0.000185</td>\n",
              "      <td>0.090622</td>\n",
              "      <td>-0.000387</td>\n",
              "      <td>-0.008325</td>\n",
              "      <td>-0.000996</td>\n",
              "      <td>-0.000559</td>\n",
              "      <td>-0.001548</td>\n",
              "      <td>-0.001191</td>\n",
              "      <td>-0.000186</td>\n",
              "      <td>0.405701</td>\n",
              "      <td>-0.001069</td>\n",
              "      <td>1.000000</td>\n",
              "      <td>0.053087</td>\n",
              "      <td>-0.000158</td>\n",
              "    </tr>\n",
              "    <tr>\n",
              "      <th>tenure</th>\n",
              "      <td>-0.002497</td>\n",
              "      <td>-0.001330</td>\n",
              "      <td>-0.001163</td>\n",
              "      <td>0.587189</td>\n",
              "      <td>-0.001041</td>\n",
              "      <td>-0.077867</td>\n",
              "      <td>-0.001936</td>\n",
              "      <td>-0.003046</td>\n",
              "      <td>-0.001052</td>\n",
              "      <td>-0.020202</td>\n",
              "      <td>-0.000530</td>\n",
              "      <td>0.039524</td>\n",
              "      <td>-0.001471</td>\n",
              "      <td>0.053087</td>\n",
              "      <td>1.000000</td>\n",
              "      <td>0.001148</td>\n",
              "    </tr>\n",
              "    <tr>\n",
              "      <th>claim.ind</th>\n",
              "      <td>0.000437</td>\n",
              "      <td>-0.000677</td>\n",
              "      <td>-0.001488</td>\n",
              "      <td>0.001662</td>\n",
              "      <td>0.000863</td>\n",
              "      <td>-0.000526</td>\n",
              "      <td>0.000021</td>\n",
              "      <td>-0.000087</td>\n",
              "      <td>-0.000786</td>\n",
              "      <td>0.000763</td>\n",
              "      <td>0.002087</td>\n",
              "      <td>-0.000913</td>\n",
              "      <td>-0.000408</td>\n",
              "      <td>-0.000158</td>\n",
              "      <td>0.001148</td>\n",
              "      <td>1.000000</td>\n",
              "    </tr>\n",
              "  </tbody>\n",
              "</table>\n",
              "</div>\n",
              "      <button class=\"colab-df-convert\" onclick=\"convertToInteractive('df-2f349efa-8d65-4d45-b9d1-c4ab43d7b559')\"\n",
              "              title=\"Convert this dataframe to an interactive table.\"\n",
              "              style=\"display:none;\">\n",
              "        \n",
              "  <svg xmlns=\"http://www.w3.org/2000/svg\" height=\"24px\"viewBox=\"0 0 24 24\"\n",
              "       width=\"24px\">\n",
              "    <path d=\"M0 0h24v24H0V0z\" fill=\"none\"/>\n",
              "    <path d=\"M18.56 5.44l.94 2.06.94-2.06 2.06-.94-2.06-.94-.94-2.06-.94 2.06-2.06.94zm-11 1L8.5 8.5l.94-2.06 2.06-.94-2.06-.94L8.5 2.5l-.94 2.06-2.06.94zm10 10l.94 2.06.94-2.06 2.06-.94-2.06-.94-.94-2.06-.94 2.06-2.06.94z\"/><path d=\"M17.41 7.96l-1.37-1.37c-.4-.4-.92-.59-1.43-.59-.52 0-1.04.2-1.43.59L10.3 9.45l-7.72 7.72c-.78.78-.78 2.05 0 2.83L4 21.41c.39.39.9.59 1.41.59.51 0 1.02-.2 1.41-.59l7.78-7.78 2.81-2.81c.8-.78.8-2.07 0-2.86zM5.41 20L4 18.59l7.72-7.72 1.47 1.35L5.41 20z\"/>\n",
              "  </svg>\n",
              "      </button>\n",
              "      \n",
              "  <style>\n",
              "    .colab-df-container {\n",
              "      display:flex;\n",
              "      flex-wrap:wrap;\n",
              "      gap: 12px;\n",
              "    }\n",
              "\n",
              "    .colab-df-convert {\n",
              "      background-color: #E8F0FE;\n",
              "      border: none;\n",
              "      border-radius: 50%;\n",
              "      cursor: pointer;\n",
              "      display: none;\n",
              "      fill: #1967D2;\n",
              "      height: 32px;\n",
              "      padding: 0 0 0 0;\n",
              "      width: 32px;\n",
              "    }\n",
              "\n",
              "    .colab-df-convert:hover {\n",
              "      background-color: #E2EBFA;\n",
              "      box-shadow: 0px 1px 2px rgba(60, 64, 67, 0.3), 0px 1px 3px 1px rgba(60, 64, 67, 0.15);\n",
              "      fill: #174EA6;\n",
              "    }\n",
              "\n",
              "    [theme=dark] .colab-df-convert {\n",
              "      background-color: #3B4455;\n",
              "      fill: #D2E3FC;\n",
              "    }\n",
              "\n",
              "    [theme=dark] .colab-df-convert:hover {\n",
              "      background-color: #434B5C;\n",
              "      box-shadow: 0px 1px 3px 1px rgba(0, 0, 0, 0.15);\n",
              "      filter: drop-shadow(0px 1px 2px rgba(0, 0, 0, 0.3));\n",
              "      fill: #FFFFFF;\n",
              "    }\n",
              "  </style>\n",
              "\n",
              "      <script>\n",
              "        const buttonEl =\n",
              "          document.querySelector('#df-2f349efa-8d65-4d45-b9d1-c4ab43d7b559 button.colab-df-convert');\n",
              "        buttonEl.style.display =\n",
              "          google.colab.kernel.accessAllowed ? 'block' : 'none';\n",
              "\n",
              "        async function convertToInteractive(key) {\n",
              "          const element = document.querySelector('#df-2f349efa-8d65-4d45-b9d1-c4ab43d7b559');\n",
              "          const dataTable =\n",
              "            await google.colab.kernel.invokeFunction('convertToInteractive',\n",
              "                                                     [key], {});\n",
              "          if (!dataTable) return;\n",
              "\n",
              "          const docLinkHtml = 'Like what you see? Visit the ' +\n",
              "            '<a target=\"_blank\" href=https://colab.research.google.com/notebooks/data_table.ipynb>data table notebook</a>'\n",
              "            + ' to learn more about interactive tables.';\n",
              "          element.innerHTML = '';\n",
              "          dataTable['output_type'] = 'display_data';\n",
              "          await google.colab.output.renderOutput(dataTable, element);\n",
              "          const docLink = document.createElement('div');\n",
              "          docLink.innerHTML = docLinkHtml;\n",
              "          element.appendChild(docLink);\n",
              "        }\n",
              "      </script>\n",
              "    </div>\n",
              "  </div>\n",
              "  "
            ]
          },
          "metadata": {},
          "execution_count": 22
        }
      ],
      "source": [
        "# Using corr function to give the output a matrix having correlation between columns\n",
        "\n",
        "corr_matrix = X_train.corr()\n",
        "\n",
        "corr_matrix"
      ]
    },
    {
      "cell_type": "code",
      "execution_count": null,
      "metadata": {
        "colab": {
          "base_uri": "https://localhost:8080/"
        },
        "id": "SSAxnCwD7grS",
        "outputId": "a5de81a5-cb14-47ea-d599-85e9e47ceb73"
      },
      "outputs": [
        {
          "output_type": "execute_result",
          "data": {
            "text/plain": [
              "Counter({0: 489698, 2: 151118, 1: 49793})"
            ]
          },
          "metadata": {},
          "execution_count": 23
        }
      ],
      "source": [
        "# Checking Classs Distribution\n",
        "from collections import Counter\n",
        "Counter(y_train['cancel'])"
      ]
    },
    {
      "cell_type": "markdown",
      "metadata": {
        "id": "iznbyXcqnfvX"
      },
      "source": [
        "## Plots"
      ]
    },
    {
      "cell_type": "markdown",
      "metadata": {
        "id": "tx0DGc9wKYnh"
      },
      "source": [
        "Here I am trying to use boxplots to get the idea of outliers and scatterplot to get the insights data"
      ]
    },
    {
      "cell_type": "markdown",
      "metadata": {
        "id": "o5uuWqwHfBrB"
      },
      "source": [
        "### Only training dataset"
      ]
    },
    {
      "cell_type": "markdown",
      "metadata": {
        "id": "Qkwiuwwsn37t"
      },
      "source": [
        "### No of applicants per year"
      ]
    },
    {
      "cell_type": "code",
      "execution_count": null,
      "metadata": {
        "colab": {
          "base_uri": "https://localhost:8080/"
        },
        "id": "ZzT3uzp4cCq0",
        "outputId": "bd4ee0b8-f41a-440c-e721-5d545e416f8f"
      },
      "outputs": [
        {
          "output_type": "execute_result",
          "data": {
            "text/plain": [
              "2016    200044\n",
              "2015    181409\n",
              "2014    162895\n",
              "2013    146261\n",
              "Name: year, dtype: int64"
            ]
          },
          "metadata": {},
          "execution_count": 24
        }
      ],
      "source": [
        "X_train['year'].value_counts()\n",
        "#np.sort(np.array(X_train['year'].unique()))"
      ]
    },
    {
      "cell_type": "code",
      "execution_count": null,
      "metadata": {
        "colab": {
          "base_uri": "https://localhost:8080/",
          "height": 430
        },
        "id": "b95aWZ3eMkS3",
        "outputId": "c818d44d-2d7b-4f5f-d5d8-b310eb6fa590"
      },
      "outputs": [
        {
          "output_type": "display_data",
          "data": {
            "text/plain": [
              "<Figure size 640x480 with 1 Axes>"
            ],
            "image/png": "[encoded data removed]"
          },
          "metadata": {}
        }
      ],
      "source": [
        "import matplotlib.pyplot as plt # Necessary libraries\n",
        "\n",
        "plt.plot(np.sort(np.array(X_train['year'].unique()))[::-1],X_train['year'].value_counts()) # Using plot function to plot the values\n",
        "\n",
        "plt.show()"
      ]
    },
    {
      "cell_type": "markdown",
      "metadata": {
        "id": "rURQlVqMKCSk"
      },
      "source": [
        "From the graph we can see that number of customers trying to claim is increasing"
      ]
    },
    {
      "cell_type": "markdown",
      "metadata": {
        "id": "dMXzKdMHL2-F"
      },
      "source": [
        "### (#)Applicants vs Gender"
      ]
    },
    {
      "cell_type": "code",
      "execution_count": null,
      "metadata": {
        "colab": {
          "base_uri": "https://localhost:8080/",
          "height": 482
        },
        "id": "1ZHawMfjRENR",
        "outputId": "45d5c0ee-b267-4a63-9d51-0c2e4ca7bd4c"
      },
      "outputs": [
        {
          "output_type": "execute_result",
          "data": {
            "text/plain": [
              "M    364016\n",
              "F    335573\n",
              "Name: ni.gender, dtype: int64"
            ]
          },
          "metadata": {},
          "execution_count": 26
        },
        {
          "output_type": "display_data",
          "data": {
            "text/plain": [
              "<Figure size 640x480 with 1 Axes>"
            ],
            "image/png": "[encoded data removed]"
          },
          "metadata": {}
        }
      ],
      "source": [
        "# Creating a bar plot for gender\n",
        "plt.bar(['Male','Female'],[X_train1['ni.gender'].value_counts()[0],X_train1['ni.gender'].value_counts()[1]],width=0.1,align='edge')\n",
        "X_train1['ni.gender'].value_counts()"
      ]
    },
    {
      "cell_type": "markdown",
      "metadata": {
        "id": "PUdhWOLmRzI9"
      },
      "source": [
        "We have a slightly more male applicants than female applicants for insurance claims"
      ]
    },
    {
      "cell_type": "markdown",
      "metadata": {
        "id": "30A8nk9qnua1"
      },
      "source": [
        "### Credit distribution within the applicants"
      ]
    },
    {
      "cell_type": "code",
      "execution_count": null,
      "metadata": {
        "colab": {
          "base_uri": "https://localhost:8080/"
        },
        "id": "GRosZKh1TiJU",
        "outputId": "89ba7834-42bb-4250-9592-c01bbb2070db"
      },
      "outputs": [
        {
          "output_type": "execute_result",
          "data": {
            "text/plain": [
              "high      432420\n",
              "medium    152686\n",
              "low       114510\n",
              "Name: credit, dtype: int64"
            ]
          },
          "metadata": {},
          "execution_count": 27
        }
      ],
      "source": [
        "X_train1['credit'].value_counts()"
      ]
    },
    {
      "cell_type": "code",
      "execution_count": null,
      "metadata": {
        "colab": {
          "base_uri": "https://localhost:8080/",
          "height": 447
        },
        "id": "TfLZ9PsoTxJS",
        "outputId": "c2ce27e1-99e6-4a6f-fffb-5e9da9175ffb"
      },
      "outputs": [
        {
          "output_type": "display_data",
          "data": {
            "text/plain": [
              "<Figure size 640x480 with 1 Axes>"
            ],
            "image/png": "[encoded data removed]"
          },
          "metadata": {}
        },
        {
          "output_type": "display_data",
          "data": {
            "text/plain": [
              "<Figure size 400x400 with 0 Axes>"
            ]
          },
          "metadata": {}
        }
      ],
      "source": [
        "plt.bar(['high','medium','low'],[X_train1['credit'].value_counts()[0],X_train1['credit'].value_counts()[1],X_train1['credit'].value_counts()[2]],width=0.1,align='edge')\n",
        "plt.figure(figsize=(4,4))\n",
        "plt.show()"
      ]
    },
    {
      "cell_type": "markdown",
      "metadata": {
        "id": "rHncDXz9soX_"
      },
      "source": [
        "### Mean of Premium by year"
      ]
    },
    {
      "cell_type": "code",
      "execution_count": null,
      "metadata": {
        "colab": {
          "base_uri": "https://localhost:8080/",
          "height": 585
        },
        "id": "niKIVBE0odwk",
        "outputId": "6ea2e53f-86ae-4ed6-a456-b6ed142dfea0"
      },
      "outputs": [
        {
          "output_type": "display_data",
          "data": {
            "text/plain": [
              "<Figure size 800x600 with 1 Axes>"
            ],
            "image/png": "[encoded data removed]"
          },
          "metadata": {}
        }
      ],
      "source": [
        "yearly_means = X_train1.groupby(X_train1['year'])['premium'].mean()\n",
        "yearly_means.plot(kind='bar',figsize=(8,6))\n",
        "plt.title('Mean of Premium by year')\n",
        "plt.xlabel('year')\n",
        "plt.ylabel('Mean Premium value')\n",
        "\n",
        "plt.show()"
      ]
    },
    {
      "cell_type": "markdown",
      "metadata": {
        "id": "Jj6GcFr_tJia"
      },
      "source": [
        "### Occurence of claims with their credit"
      ]
    },
    {
      "cell_type": "code",
      "execution_count": null,
      "metadata": {
        "colab": {
          "base_uri": "https://localhost:8080/",
          "height": 430
        },
        "id": "IDV0m2LxuN3G",
        "outputId": "d149eaa0-a3af-487e-f889-b44c66b7317d"
      },
      "outputs": [
        {
          "output_type": "display_data",
          "data": {
            "text/plain": [
              "<Figure size 640x480 with 1 Axes>"
            ],
            "image/png": "[encoded data removed]"
          },
          "metadata": {}
        }
      ],
      "source": [
        "#fig,axes=plt.subplots(3,1,figsize=(6,6))\n",
        "\n",
        "# Assigning data\n",
        "claim_credit=X_train1.dropna()[['credit','claim.ind']]\n",
        "claim_credit\n",
        "\n",
        "claim0_credit=claim_credit[claim_credit['claim.ind']==0]\n",
        "temp=claim0_credit['credit'].value_counts()\n",
        "plt.plot(temp.index,temp.values)\n",
        "plt.show()"
      ]
    },
    {
      "cell_type": "markdown",
      "metadata": {
        "id": "XPcfp1uEua_q"
      },
      "source": [
        "## With training dataset along with the target variable"
      ]
    },
    {
      "cell_type": "markdown",
      "metadata": {
        "id": "PcTD4DX_4X7K"
      },
      "source": [
        "We want to get the relations or check the patterns for the features and the target variable. We are gonna merge the X_train1 dataset which is not label encoded and the target variable dataset y_train"
      ]
    },
    {
      "cell_type": "code",
      "execution_count": null,
      "metadata": {
        "id": "15ugg7JZgIT2"
      },
      "outputs": [],
      "source": [
        "# Assigning variable to X_train1 dataset with dropping null values\n",
        "X_train_not_none=X_train1.dropna()"
      ]
    },
    {
      "cell_type": "code",
      "execution_count": null,
      "metadata": {
        "colab": {
          "base_uri": "https://localhost:8080/"
        },
        "id": "105zvhK84-JD",
        "outputId": "1b536622-d8d4-4b2a-f0d6-22a9db39b083"
      },
      "outputs": [
        {
          "output_type": "stream",
          "name": "stdout",
          "text": [
            "(690609, 17) (690609, 1)\n"
          ]
        },
        {
          "output_type": "execute_result",
          "data": {
            "text/plain": [
              "id                   0\n",
              "year                 0\n",
              "zip.code             0\n",
              "house.color          0\n",
              "ni.age               0\n",
              "len.at.res           0\n",
              "credit               0\n",
              "coverage.type        0\n",
              "dwelling.type        0\n",
              "premium              0\n",
              "sales.channel        0\n",
              "ni.gender            0\n",
              "ni.marital.status    0\n",
              "n.adults             0\n",
              "n.children           0\n",
              "tenure               0\n",
              "claim.ind            0\n",
              "dtype: int64"
            ]
          },
          "metadata": {},
          "execution_count": 32
        }
      ],
      "source": [
        "# Checking the shape and the null values in X_train_not_none\n",
        "print(X_train_not_none.shape,y_train.shape)\n",
        "X_train_not_none.isna().sum()"
      ]
    },
    {
      "cell_type": "code",
      "execution_count": null,
      "metadata": {
        "colab": {
          "base_uri": "https://localhost:8080/"
        },
        "id": "w5xhHQRV6G6e",
        "outputId": "c60ec398-db94-44d9-ccb3-9458a2daba69"
      },
      "outputs": [
        {
          "output_type": "stream",
          "name": "stdout",
          "text": [
            "(690609, 18)\n"
          ]
        }
      ],
      "source": [
        "# Concatenaing the datasets\n",
        "total_train_plot = pd.concat([X_train_not_none,y_train],axis=1)\n",
        "print(total_train_plot.shape)"
      ]
    },
    {
      "cell_type": "markdown",
      "metadata": {
        "id": "B_wvsaatfMmL"
      },
      "source": [
        "###  Gender vs Cancel"
      ]
    },
    {
      "cell_type": "markdown",
      "metadata": {
        "id": "vmc6Mu4Z8de9"
      },
      "source": [
        "#### Cancel= 2"
      ]
    },
    {
      "cell_type": "code",
      "execution_count": null,
      "metadata": {
        "colab": {
          "base_uri": "https://localhost:8080/",
          "height": 270
        },
        "id": "0g0yXxJ06cdI",
        "outputId": "64d1a108-ed11-4e5b-f34b-6ecbf8db21f5"
      },
      "outputs": [
        {
          "output_type": "execute_result",
          "data": {
            "text/plain": [
              "       id  year  zip.code house.color  ni.age  len.at.res  credit  \\\n",
              "0  942391  2013   15056.0      yellow    55.0        15.0    high   \n",
              "1    2792  2014   80014.0         red    60.0        17.0  medium   \n",
              "2  282556  2014   85002.0       white    48.0        15.0    high   \n",
              "3  738330  2014   85051.0         red    57.0        15.0    high   \n",
              "4  243724  2013   85077.0       white    42.0        16.0    high   \n",
              "\n",
              "  coverage.type dwelling.type     premium sales.channel ni.gender  \\\n",
              "0             A         House  935.554116         Phone         F   \n",
              "1             A         House  835.804218         Phone         F   \n",
              "2             A         Condo  958.488416        Broker         M   \n",
              "3             A         House  963.496010         Phone         F   \n",
              "4             B         House  803.088375        Broker         F   \n",
              "\n",
              "   ni.marital.status  n.adults  n.children  tenure  claim.ind  cancel  \n",
              "0                1.0       1.0         1.0    14.0        0.0       0  \n",
              "1                1.0       1.0         1.0    17.0        0.0       0  \n",
              "2                1.0       1.0         0.0    11.0        1.0       0  \n",
              "3                1.0       2.0         1.0    19.0        0.0       0  \n",
              "4                1.0       2.0         2.0    12.0        0.0       0  "
            ],
            "text/html": [
              "\n",
              "  <div id=\"df-22e78901-5544-41ae-8824-f37b8ad430e1\">\n",
              "    <div class=\"colab-df-container\">\n",
              "      <div>\n",
              "<style scoped>\n",
              "    .dataframe tbody tr th:only-of-type {\n",
              "        vertical-align: middle;\n",
              "    }\n",
              "\n",
              "    .dataframe tbody tr th {\n",
              "        vertical-align: top;\n",
              "    }\n",
              "\n",
              "    .dataframe thead th {\n",
              "        text-align: right;\n",
              "    }\n",
              "</style>\n",
              "<table border=\"1\" class=\"dataframe\">\n",
              "  <thead>\n",
              "    <tr style=\"text-align: right;\">\n",
              "      <th></th>\n",
              "      <th>id</th>\n",
              "      <th>year</th>\n",
              "      <th>zip.code</th>\n",
              "      <th>house.color</th>\n",
              "      <th>ni.age</th>\n",
              "      <th>len.at.res</th>\n",
              "      <th>credit</th>\n",
              "      <th>coverage.type</th>\n",
              "      <th>dwelling.type</th>\n",
              "      <th>premium</th>\n",
              "      <th>sales.channel</th>\n",
              "      <th>ni.gender</th>\n",
              "      <th>ni.marital.status</th>\n",
              "      <th>n.adults</th>\n",
              "      <th>n.children</th>\n",
              "      <th>tenure</th>\n",
              "      <th>claim.ind</th>\n",
              "      <th>cancel</th>\n",
              "    </tr>\n",
              "  </thead>\n",
              "  <tbody>\n",
              "    <tr>\n",
              "      <th>0</th>\n",
              "      <td>942391</td>\n",
              "      <td>2013</td>\n",
              "      <td>15056.0</td>\n",
              "      <td>yellow</td>\n",
              "      <td>55.0</td>\n",
              "      <td>15.0</td>\n",
              "      <td>high</td>\n",
              "      <td>A</td>\n",
              "      <td>House</td>\n",
              "      <td>935.554116</td>\n",
              "      <td>Phone</td>\n",
              "      <td>F</td>\n",
              "      <td>1.0</td>\n",
              "      <td>1.0</td>\n",
              "      <td>1.0</td>\n",
              "      <td>14.0</td>\n",
              "      <td>0.0</td>\n",
              "      <td>0</td>\n",
              "    </tr>\n",
              "    <tr>\n",
              "      <th>1</th>\n",
              "      <td>2792</td>\n",
              "      <td>2014</td>\n",
              "      <td>80014.0</td>\n",
              "      <td>red</td>\n",
              "      <td>60.0</td>\n",
              "      <td>17.0</td>\n",
              "      <td>medium</td>\n",
              "      <td>A</td>\n",
              "      <td>House</td>\n",
              "      <td>835.804218</td>\n",
              "      <td>Phone</td>\n",
              "      <td>F</td>\n",
              "      <td>1.0</td>\n",
              "      <td>1.0</td>\n",
              "      <td>1.0</td>\n",
              "      <td>17.0</td>\n",
              "      <td>0.0</td>\n",
              "      <td>0</td>\n",
              "    </tr>\n",
              "    <tr>\n",
              "      <th>2</th>\n",
              "      <td>282556</td>\n",
              "      <td>2014</td>\n",
              "      <td>85002.0</td>\n",
              "      <td>white</td>\n",
              "      <td>48.0</td>\n",
              "      <td>15.0</td>\n",
              "      <td>high</td>\n",
              "      <td>A</td>\n",
              "      <td>Condo</td>\n",
              "      <td>958.488416</td>\n",
              "      <td>Broker</td>\n",
              "      <td>M</td>\n",
              "      <td>1.0</td>\n",
              "      <td>1.0</td>\n",
              "      <td>0.0</td>\n",
              "      <td>11.0</td>\n",
              "      <td>1.0</td>\n",
              "      <td>0</td>\n",
              "    </tr>\n",
              "    <tr>\n",
              "      <th>3</th>\n",
              "      <td>738330</td>\n",
              "      <td>2014</td>\n",
              "      <td>85051.0</td>\n",
              "      <td>red</td>\n",
              "      <td>57.0</td>\n",
              "      <td>15.0</td>\n",
              "      <td>high</td>\n",
              "      <td>A</td>\n",
              "      <td>House</td>\n",
              "      <td>963.496010</td>\n",
              "      <td>Phone</td>\n",
              "      <td>F</td>\n",
              "      <td>1.0</td>\n",
              "      <td>2.0</td>\n",
              "      <td>1.0</td>\n",
              "      <td>19.0</td>\n",
              "      <td>0.0</td>\n",
              "      <td>0</td>\n",
              "    </tr>\n",
              "    <tr>\n",
              "      <th>4</th>\n",
              "      <td>243724</td>\n",
              "      <td>2013</td>\n",
              "      <td>85077.0</td>\n",
              "      <td>white</td>\n",
              "      <td>42.0</td>\n",
              "      <td>16.0</td>\n",
              "      <td>high</td>\n",
              "      <td>B</td>\n",
              "      <td>House</td>\n",
              "      <td>803.088375</td>\n",
              "      <td>Broker</td>\n",
              "      <td>F</td>\n",
              "      <td>1.0</td>\n",
              "      <td>2.0</td>\n",
              "      <td>2.0</td>\n",
              "      <td>12.0</td>\n",
              "      <td>0.0</td>\n",
              "      <td>0</td>\n",
              "    </tr>\n",
              "  </tbody>\n",
              "</table>\n",
              "</div>\n",
              "      <button class=\"colab-df-convert\" onclick=\"convertToInteractive('df-22e78901-5544-41ae-8824-f37b8ad430e1')\"\n",
              "              title=\"Convert this dataframe to an interactive table.\"\n",
              "              style=\"display:none;\">\n",
              "        \n",
              "  <svg xmlns=\"http://www.w3.org/2000/svg\" height=\"24px\"viewBox=\"0 0 24 24\"\n",
              "       width=\"24px\">\n",
              "    <path d=\"M0 0h24v24H0V0z\" fill=\"none\"/>\n",
              "    <path d=\"M18.56 5.44l.94 2.06.94-2.06 2.06-.94-2.06-.94-.94-2.06-.94 2.06-2.06.94zm-11 1L8.5 8.5l.94-2.06 2.06-.94-2.06-.94L8.5 2.5l-.94 2.06-2.06.94zm10 10l.94 2.06.94-2.06 2.06-.94-2.06-.94-.94-2.06-.94 2.06-2.06.94z\"/><path d=\"M17.41 7.96l-1.37-1.37c-.4-.4-.92-.59-1.43-.59-.52 0-1.04.2-1.43.59L10.3 9.45l-7.72 7.72c-.78.78-.78 2.05 0 2.83L4 21.41c.39.39.9.59 1.41.59.51 0 1.02-.2 1.41-.59l7.78-7.78 2.81-2.81c.8-.78.8-2.07 0-2.86zM5.41 20L4 18.59l7.72-7.72 1.47 1.35L5.41 20z\"/>\n",
              "  </svg>\n",
              "      </button>\n",
              "      \n",
              "  <style>\n",
              "    .colab-df-container {\n",
              "      display:flex;\n",
              "      flex-wrap:wrap;\n",
              "      gap: 12px;\n",
              "    }\n",
              "\n",
              "    .colab-df-convert {\n",
              "      background-color: #E8F0FE;\n",
              "      border: none;\n",
              "      border-radius: 50%;\n",
              "      cursor: pointer;\n",
              "      display: none;\n",
              "      fill: #1967D2;\n",
              "      height: 32px;\n",
              "      padding: 0 0 0 0;\n",
              "      width: 32px;\n",
              "    }\n",
              "\n",
              "    .colab-df-convert:hover {\n",
              "      background-color: #E2EBFA;\n",
              "      box-shadow: 0px 1px 2px rgba(60, 64, 67, 0.3), 0px 1px 3px 1px rgba(60, 64, 67, 0.15);\n",
              "      fill: #174EA6;\n",
              "    }\n",
              "\n",
              "    [theme=dark] .colab-df-convert {\n",
              "      background-color: #3B4455;\n",
              "      fill: #D2E3FC;\n",
              "    }\n",
              "\n",
              "    [theme=dark] .colab-df-convert:hover {\n",
              "      background-color: #434B5C;\n",
              "      box-shadow: 0px 1px 3px 1px rgba(0, 0, 0, 0.15);\n",
              "      filter: drop-shadow(0px 1px 2px rgba(0, 0, 0, 0.3));\n",
              "      fill: #FFFFFF;\n",
              "    }\n",
              "  </style>\n",
              "\n",
              "      <script>\n",
              "        const buttonEl =\n",
              "          document.querySelector('#df-22e78901-5544-41ae-8824-f37b8ad430e1 button.colab-df-convert');\n",
              "        buttonEl.style.display =\n",
              "          google.colab.kernel.accessAllowed ? 'block' : 'none';\n",
              "\n",
              "        async function convertToInteractive(key) {\n",
              "          const element = document.querySelector('#df-22e78901-5544-41ae-8824-f37b8ad430e1');\n",
              "          const dataTable =\n",
              "            await google.colab.kernel.invokeFunction('convertToInteractive',\n",
              "                                                     [key], {});\n",
              "          if (!dataTable) return;\n",
              "\n",
              "          const docLinkHtml = 'Like what you see? Visit the ' +\n",
              "            '<a target=\"_blank\" href=https://colab.research.google.com/notebooks/data_table.ipynb>data table notebook</a>'\n",
              "            + ' to learn more about interactive tables.';\n",
              "          element.innerHTML = '';\n",
              "          dataTable['output_type'] = 'display_data';\n",
              "          await google.colab.output.renderOutput(dataTable, element);\n",
              "          const docLink = document.createElement('div');\n",
              "          docLink.innerHTML = docLinkHtml;\n",
              "          element.appendChild(docLink);\n",
              "        }\n",
              "      </script>\n",
              "    </div>\n",
              "  </div>\n",
              "  "
            ]
          },
          "metadata": {},
          "execution_count": 34
        }
      ],
      "source": [
        "total_train_plot.head()"
      ]
    },
    {
      "cell_type": "code",
      "execution_count": null,
      "metadata": {
        "colab": {
          "base_uri": "https://localhost:8080/",
          "height": 270
        },
        "id": "SAZmAMj66lrg",
        "outputId": "d2c803a8-2d54-4c37-db92-746cfd313a28"
      },
      "outputs": [
        {
          "output_type": "execute_result",
          "data": {
            "text/plain": [
              "        id  year  zip.code house.color  ni.age  len.at.res  credit  \\\n",
              "5   616078  2013   50020.0      yellow    31.0    2.409664    high   \n",
              "9   293780  2016   50057.0        blue    48.0   15.000000     low   \n",
              "12  402632  2013   98028.0        blue    39.0   13.000000    high   \n",
              "16  551357  2015   85074.0       white    40.0   14.000000  medium   \n",
              "24  924948  2016   20107.0        blue    27.0   16.000000  medium   \n",
              "\n",
              "   coverage.type dwelling.type      premium sales.channel ni.gender  \\\n",
              "5              B        Tenant   884.245436        Broker         M   \n",
              "9              A         House   946.578875        Broker         M   \n",
              "12             B         House   756.809872         Phone         F   \n",
              "16             C         House   895.114129        Broker         F   \n",
              "24             C         House  1053.679560        Broker         F   \n",
              "\n",
              "    ni.marital.status  n.adults  n.children  tenure  claim.ind  cancel  \n",
              "5                 1.0       2.0         2.0     6.0        1.0       2  \n",
              "9                 1.0       1.0         2.0    20.0        0.0       2  \n",
              "12                0.0       5.0         0.0    13.0        0.0       2  \n",
              "16                1.0       1.0         0.0    15.0        1.0       2  \n",
              "24                0.0       5.0         0.0     5.0        0.0       2  "
            ],
            "text/html": [
              "\n",
              "  <div id=\"df-6e2659ed-74ae-49d5-937b-2b481813144e\">\n",
              "    <div class=\"colab-df-container\">\n",
              "      <div>\n",
              "<style scoped>\n",
              "    .dataframe tbody tr th:only-of-type {\n",
              "        vertical-align: middle;\n",
              "    }\n",
              "\n",
              "    .dataframe tbody tr th {\n",
              "        vertical-align: top;\n",
              "    }\n",
              "\n",
              "    .dataframe thead th {\n",
              "        text-align: right;\n",
              "    }\n",
              "</style>\n",
              "<table border=\"1\" class=\"dataframe\">\n",
              "  <thead>\n",
              "    <tr style=\"text-align: right;\">\n",
              "      <th></th>\n",
              "      <th>id</th>\n",
              "      <th>year</th>\n",
              "      <th>zip.code</th>\n",
              "      <th>house.color</th>\n",
              "      <th>ni.age</th>\n",
              "      <th>len.at.res</th>\n",
              "      <th>credit</th>\n",
              "      <th>coverage.type</th>\n",
              "      <th>dwelling.type</th>\n",
              "      <th>premium</th>\n",
              "      <th>sales.channel</th>\n",
              "      <th>ni.gender</th>\n",
              "      <th>ni.marital.status</th>\n",
              "      <th>n.adults</th>\n",
              "      <th>n.children</th>\n",
              "      <th>tenure</th>\n",
              "      <th>claim.ind</th>\n",
              "      <th>cancel</th>\n",
              "    </tr>\n",
              "  </thead>\n",
              "  <tbody>\n",
              "    <tr>\n",
              "      <th>5</th>\n",
              "      <td>616078</td>\n",
              "      <td>2013</td>\n",
              "      <td>50020.0</td>\n",
              "      <td>yellow</td>\n",
              "      <td>31.0</td>\n",
              "      <td>2.409664</td>\n",
              "      <td>high</td>\n",
              "      <td>B</td>\n",
              "      <td>Tenant</td>\n",
              "      <td>884.245436</td>\n",
              "      <td>Broker</td>\n",
              "      <td>M</td>\n",
              "      <td>1.0</td>\n",
              "      <td>2.0</td>\n",
              "      <td>2.0</td>\n",
              "      <td>6.0</td>\n",
              "      <td>1.0</td>\n",
              "      <td>2</td>\n",
              "    </tr>\n",
              "    <tr>\n",
              "      <th>9</th>\n",
              "      <td>293780</td>\n",
              "      <td>2016</td>\n",
              "      <td>50057.0</td>\n",
              "      <td>blue</td>\n",
              "      <td>48.0</td>\n",
              "      <td>15.000000</td>\n",
              "      <td>low</td>\n",
              "      <td>A</td>\n",
              "      <td>House</td>\n",
              "      <td>946.578875</td>\n",
              "      <td>Broker</td>\n",
              "      <td>M</td>\n",
              "      <td>1.0</td>\n",
              "      <td>1.0</td>\n",
              "      <td>2.0</td>\n",
              "      <td>20.0</td>\n",
              "      <td>0.0</td>\n",
              "      <td>2</td>\n",
              "    </tr>\n",
              "    <tr>\n",
              "      <th>12</th>\n",
              "      <td>402632</td>\n",
              "      <td>2013</td>\n",
              "      <td>98028.0</td>\n",
              "      <td>blue</td>\n",
              "      <td>39.0</td>\n",
              "      <td>13.000000</td>\n",
              "      <td>high</td>\n",
              "      <td>B</td>\n",
              "      <td>House</td>\n",
              "      <td>756.809872</td>\n",
              "      <td>Phone</td>\n",
              "      <td>F</td>\n",
              "      <td>0.0</td>\n",
              "      <td>5.0</td>\n",
              "      <td>0.0</td>\n",
              "      <td>13.0</td>\n",
              "      <td>0.0</td>\n",
              "      <td>2</td>\n",
              "    </tr>\n",
              "    <tr>\n",
              "      <th>16</th>\n",
              "      <td>551357</td>\n",
              "      <td>2015</td>\n",
              "      <td>85074.0</td>\n",
              "      <td>white</td>\n",
              "      <td>40.0</td>\n",
              "      <td>14.000000</td>\n",
              "      <td>medium</td>\n",
              "      <td>C</td>\n",
              "      <td>House</td>\n",
              "      <td>895.114129</td>\n",
              "      <td>Broker</td>\n",
              "      <td>F</td>\n",
              "      <td>1.0</td>\n",
              "      <td>1.0</td>\n",
              "      <td>0.0</td>\n",
              "      <td>15.0</td>\n",
              "      <td>1.0</td>\n",
              "      <td>2</td>\n",
              "    </tr>\n",
              "    <tr>\n",
              "      <th>24</th>\n",
              "      <td>924948</td>\n",
              "      <td>2016</td>\n",
              "      <td>20107.0</td>\n",
              "      <td>blue</td>\n",
              "      <td>27.0</td>\n",
              "      <td>16.000000</td>\n",
              "      <td>medium</td>\n",
              "      <td>C</td>\n",
              "      <td>House</td>\n",
              "      <td>1053.679560</td>\n",
              "      <td>Broker</td>\n",
              "      <td>F</td>\n",
              "      <td>0.0</td>\n",
              "      <td>5.0</td>\n",
              "      <td>0.0</td>\n",
              "      <td>5.0</td>\n",
              "      <td>0.0</td>\n",
              "      <td>2</td>\n",
              "    </tr>\n",
              "  </tbody>\n",
              "</table>\n",
              "</div>\n",
              "      <button class=\"colab-df-convert\" onclick=\"convertToInteractive('df-6e2659ed-74ae-49d5-937b-2b481813144e')\"\n",
              "              title=\"Convert this dataframe to an interactive table.\"\n",
              "              style=\"display:none;\">\n",
              "        \n",
              "  <svg xmlns=\"http://www.w3.org/2000/svg\" height=\"24px\"viewBox=\"0 0 24 24\"\n",
              "       width=\"24px\">\n",
              "    <path d=\"M0 0h24v24H0V0z\" fill=\"none\"/>\n",
              "    <path d=\"M18.56 5.44l.94 2.06.94-2.06 2.06-.94-2.06-.94-.94-2.06-.94 2.06-2.06.94zm-11 1L8.5 8.5l.94-2.06 2.06-.94-2.06-.94L8.5 2.5l-.94 2.06-2.06.94zm10 10l.94 2.06.94-2.06 2.06-.94-2.06-.94-.94-2.06-.94 2.06-2.06.94z\"/><path d=\"M17.41 7.96l-1.37-1.37c-.4-.4-.92-.59-1.43-.59-.52 0-1.04.2-1.43.59L10.3 9.45l-7.72 7.72c-.78.78-.78 2.05 0 2.83L4 21.41c.39.39.9.59 1.41.59.51 0 1.02-.2 1.41-.59l7.78-7.78 2.81-2.81c.8-.78.8-2.07 0-2.86zM5.41 20L4 18.59l7.72-7.72 1.47 1.35L5.41 20z\"/>\n",
              "  </svg>\n",
              "      </button>\n",
              "      \n",
              "  <style>\n",
              "    .colab-df-container {\n",
              "      display:flex;\n",
              "      flex-wrap:wrap;\n",
              "      gap: 12px;\n",
              "    }\n",
              "\n",
              "    .colab-df-convert {\n",
              "      background-color: #E8F0FE;\n",
              "      border: none;\n",
              "      border-radius: 50%;\n",
              "      cursor: pointer;\n",
              "      display: none;\n",
              "      fill: #1967D2;\n",
              "      height: 32px;\n",
              "      padding: 0 0 0 0;\n",
              "      width: 32px;\n",
              "    }\n",
              "\n",
              "    .colab-df-convert:hover {\n",
              "      background-color: #E2EBFA;\n",
              "      box-shadow: 0px 1px 2px rgba(60, 64, 67, 0.3), 0px 1px 3px 1px rgba(60, 64, 67, 0.15);\n",
              "      fill: #174EA6;\n",
              "    }\n",
              "\n",
              "    [theme=dark] .colab-df-convert {\n",
              "      background-color: #3B4455;\n",
              "      fill: #D2E3FC;\n",
              "    }\n",
              "\n",
              "    [theme=dark] .colab-df-convert:hover {\n",
              "      background-color: #434B5C;\n",
              "      box-shadow: 0px 1px 3px 1px rgba(0, 0, 0, 0.15);\n",
              "      filter: drop-shadow(0px 1px 2px rgba(0, 0, 0, 0.3));\n",
              "      fill: #FFFFFF;\n",
              "    }\n",
              "  </style>\n",
              "\n",
              "      <script>\n",
              "        const buttonEl =\n",
              "          document.querySelector('#df-6e2659ed-74ae-49d5-937b-2b481813144e button.colab-df-convert');\n",
              "        buttonEl.style.display =\n",
              "          google.colab.kernel.accessAllowed ? 'block' : 'none';\n",
              "\n",
              "        async function convertToInteractive(key) {\n",
              "          const element = document.querySelector('#df-6e2659ed-74ae-49d5-937b-2b481813144e');\n",
              "          const dataTable =\n",
              "            await google.colab.kernel.invokeFunction('convertToInteractive',\n",
              "                                                     [key], {});\n",
              "          if (!dataTable) return;\n",
              "\n",
              "          const docLinkHtml = 'Like what you see? Visit the ' +\n",
              "            '<a target=\"_blank\" href=https://colab.research.google.com/notebooks/data_table.ipynb>data table notebook</a>'\n",
              "            + ' to learn more about interactive tables.';\n",
              "          element.innerHTML = '';\n",
              "          dataTable['output_type'] = 'display_data';\n",
              "          await google.colab.output.renderOutput(dataTable, element);\n",
              "          const docLink = document.createElement('div');\n",
              "          docLink.innerHTML = docLinkHtml;\n",
              "          element.appendChild(docLink);\n",
              "        }\n",
              "      </script>\n",
              "    </div>\n",
              "  </div>\n",
              "  "
            ]
          },
          "metadata": {},
          "execution_count": 35
        }
      ],
      "source": [
        "# Gender vs cancel=2\n",
        "total_train_plot_cancel2 = total_train_plot[total_train_plot['cancel']==2]\n",
        "total_train_plot_cancel2.head()"
      ]
    },
    {
      "cell_type": "code",
      "execution_count": null,
      "metadata": {
        "colab": {
          "base_uri": "https://localhost:8080/",
          "height": 472
        },
        "id": "EyizM3xw7HEL",
        "outputId": "e7b08d04-b34e-4c89-c79d-eb92ebff8675"
      },
      "outputs": [
        {
          "output_type": "display_data",
          "data": {
            "text/plain": [
              "<Figure size 640x480 with 1 Axes>"
            ],
            "image/png": "[encoded data removed]"
          },
          "metadata": {}
        }
      ],
      "source": [
        "plt.bar(total_train_plot_cancel2['ni.gender'].value_counts().index,total_train_plot_cancel2['ni.gender'].value_counts().values)\n",
        "# Add text for the counts\n",
        "for i, v in enumerate(total_train_plot_cancel2['ni.gender'].value_counts().values):\n",
        "    plt.text(i, v, str(v), ha='center', va='bottom')\n",
        "plt.title('Gender Count for cancel = 2')\n",
        "plt.xlabel('Gender')\n",
        "plt.ylabel('Count')\n",
        "plt.show()"
      ]
    },
    {
      "cell_type": "markdown",
      "metadata": {
        "id": "dU4qv0C675fJ"
      },
      "source": [
        "#### Cancel = 1"
      ]
    },
    {
      "cell_type": "code",
      "execution_count": null,
      "metadata": {
        "colab": {
          "base_uri": "https://localhost:8080/",
          "height": 270
        },
        "id": "fHfqY78D8jcp",
        "outputId": "9e9da764-3be9-42ce-9892-02fc70d55dde"
      },
      "outputs": [
        {
          "output_type": "execute_result",
          "data": {
            "text/plain": [
              "        id  year  zip.code house.color  ni.age  len.at.res  credit  \\\n",
              "7   172320  2016   50058.0       white    51.0        16.0     low   \n",
              "14  168695  2014   80020.0         red    55.0        15.0    high   \n",
              "40  883291  2014   80016.0      yellow    30.0        16.0  medium   \n",
              "42  171044  2015   85018.0        blue    31.0        12.0  medium   \n",
              "61  946625  2015   15001.0       white    54.0        12.0     low   \n",
              "\n",
              "   coverage.type dwelling.type     premium sales.channel ni.gender  \\\n",
              "7              A         House  935.903701        Broker         M   \n",
              "14             C         House  788.269428         Phone         M   \n",
              "40             A        Tenant  898.372081         Phone         F   \n",
              "42             C        Tenant  782.345081        Broker         F   \n",
              "61             B         House  857.878787         Phone         M   \n",
              "\n",
              "    ni.marital.status  n.adults  n.children  tenure  claim.ind  cancel  \n",
              "7                 0.0       3.0         0.0    15.0        1.0       1  \n",
              "14                1.0       4.0         5.0    11.0        0.0       1  \n",
              "40                1.0       1.0         1.0     2.0        0.0       1  \n",
              "42                1.0       3.0         3.0     8.0        0.0       1  \n",
              "61                1.0       2.0         2.0    11.0        0.0       1  "
            ],
            "text/html": [
              "\n",
              "  <div id=\"df-7b894c62-78b4-44f2-80f1-a919fbbfb403\">\n",
              "    <div class=\"colab-df-container\">\n",
              "      <div>\n",
              "<style scoped>\n",
              "    .dataframe tbody tr th:only-of-type {\n",
              "        vertical-align: middle;\n",
              "    }\n",
              "\n",
              "    .dataframe tbody tr th {\n",
              "        vertical-align: top;\n",
              "    }\n",
              "\n",
              "    .dataframe thead th {\n",
              "        text-align: right;\n",
              "    }\n",
              "</style>\n",
              "<table border=\"1\" class=\"dataframe\">\n",
              "  <thead>\n",
              "    <tr style=\"text-align: right;\">\n",
              "      <th></th>\n",
              "      <th>id</th>\n",
              "      <th>year</th>\n",
              "      <th>zip.code</th>\n",
              "      <th>house.color</th>\n",
              "      <th>ni.age</th>\n",
              "      <th>len.at.res</th>\n",
              "      <th>credit</th>\n",
              "      <th>coverage.type</th>\n",
              "      <th>dwelling.type</th>\n",
              "      <th>premium</th>\n",
              "      <th>sales.channel</th>\n",
              "      <th>ni.gender</th>\n",
              "      <th>ni.marital.status</th>\n",
              "      <th>n.adults</th>\n",
              "      <th>n.children</th>\n",
              "      <th>tenure</th>\n",
              "      <th>claim.ind</th>\n",
              "      <th>cancel</th>\n",
              "    </tr>\n",
              "  </thead>\n",
              "  <tbody>\n",
              "    <tr>\n",
              "      <th>7</th>\n",
              "      <td>172320</td>\n",
              "      <td>2016</td>\n",
              "      <td>50058.0</td>\n",
              "      <td>white</td>\n",
              "      <td>51.0</td>\n",
              "      <td>16.0</td>\n",
              "      <td>low</td>\n",
              "      <td>A</td>\n",
              "      <td>House</td>\n",
              "      <td>935.903701</td>\n",
              "      <td>Broker</td>\n",
              "      <td>M</td>\n",
              "      <td>0.0</td>\n",
              "      <td>3.0</td>\n",
              "      <td>0.0</td>\n",
              "      <td>15.0</td>\n",
              "      <td>1.0</td>\n",
              "      <td>1</td>\n",
              "    </tr>\n",
              "    <tr>\n",
              "      <th>14</th>\n",
              "      <td>168695</td>\n",
              "      <td>2014</td>\n",
              "      <td>80020.0</td>\n",
              "      <td>red</td>\n",
              "      <td>55.0</td>\n",
              "      <td>15.0</td>\n",
              "      <td>high</td>\n",
              "      <td>C</td>\n",
              "      <td>House</td>\n",
              "      <td>788.269428</td>\n",
              "      <td>Phone</td>\n",
              "      <td>M</td>\n",
              "      <td>1.0</td>\n",
              "      <td>4.0</td>\n",
              "      <td>5.0</td>\n",
              "      <td>11.0</td>\n",
              "      <td>0.0</td>\n",
              "      <td>1</td>\n",
              "    </tr>\n",
              "    <tr>\n",
              "      <th>40</th>\n",
              "      <td>883291</td>\n",
              "      <td>2014</td>\n",
              "      <td>80016.0</td>\n",
              "      <td>yellow</td>\n",
              "      <td>30.0</td>\n",
              "      <td>16.0</td>\n",
              "      <td>medium</td>\n",
              "      <td>A</td>\n",
              "      <td>Tenant</td>\n",
              "      <td>898.372081</td>\n",
              "      <td>Phone</td>\n",
              "      <td>F</td>\n",
              "      <td>1.0</td>\n",
              "      <td>1.0</td>\n",
              "      <td>1.0</td>\n",
              "      <td>2.0</td>\n",
              "      <td>0.0</td>\n",
              "      <td>1</td>\n",
              "    </tr>\n",
              "    <tr>\n",
              "      <th>42</th>\n",
              "      <td>171044</td>\n",
              "      <td>2015</td>\n",
              "      <td>85018.0</td>\n",
              "      <td>blue</td>\n",
              "      <td>31.0</td>\n",
              "      <td>12.0</td>\n",
              "      <td>medium</td>\n",
              "      <td>C</td>\n",
              "      <td>Tenant</td>\n",
              "      <td>782.345081</td>\n",
              "      <td>Broker</td>\n",
              "      <td>F</td>\n",
              "      <td>1.0</td>\n",
              "      <td>3.0</td>\n",
              "      <td>3.0</td>\n",
              "      <td>8.0</td>\n",
              "      <td>0.0</td>\n",
              "      <td>1</td>\n",
              "    </tr>\n",
              "    <tr>\n",
              "      <th>61</th>\n",
              "      <td>946625</td>\n",
              "      <td>2015</td>\n",
              "      <td>15001.0</td>\n",
              "      <td>white</td>\n",
              "      <td>54.0</td>\n",
              "      <td>12.0</td>\n",
              "      <td>low</td>\n",
              "      <td>B</td>\n",
              "      <td>House</td>\n",
              "      <td>857.878787</td>\n",
              "      <td>Phone</td>\n",
              "      <td>M</td>\n",
              "      <td>1.0</td>\n",
              "      <td>2.0</td>\n",
              "      <td>2.0</td>\n",
              "      <td>11.0</td>\n",
              "      <td>0.0</td>\n",
              "      <td>1</td>\n",
              "    </tr>\n",
              "  </tbody>\n",
              "</table>\n",
              "</div>\n",
              "      <button class=\"colab-df-convert\" onclick=\"convertToInteractive('df-7b894c62-78b4-44f2-80f1-a919fbbfb403')\"\n",
              "              title=\"Convert this dataframe to an interactive table.\"\n",
              "              style=\"display:none;\">\n",
              "        \n",
              "  <svg xmlns=\"http://www.w3.org/2000/svg\" height=\"24px\"viewBox=\"0 0 24 24\"\n",
              "       width=\"24px\">\n",
              "    <path d=\"M0 0h24v24H0V0z\" fill=\"none\"/>\n",
              "    <path d=\"M18.56 5.44l.94 2.06.94-2.06 2.06-.94-2.06-.94-.94-2.06-.94 2.06-2.06.94zm-11 1L8.5 8.5l.94-2.06 2.06-.94-2.06-.94L8.5 2.5l-.94 2.06-2.06.94zm10 10l.94 2.06.94-2.06 2.06-.94-2.06-.94-.94-2.06-.94 2.06-2.06.94z\"/><path d=\"M17.41 7.96l-1.37-1.37c-.4-.4-.92-.59-1.43-.59-.52 0-1.04.2-1.43.59L10.3 9.45l-7.72 7.72c-.78.78-.78 2.05 0 2.83L4 21.41c.39.39.9.59 1.41.59.51 0 1.02-.2 1.41-.59l7.78-7.78 2.81-2.81c.8-.78.8-2.07 0-2.86zM5.41 20L4 18.59l7.72-7.72 1.47 1.35L5.41 20z\"/>\n",
              "  </svg>\n",
              "      </button>\n",
              "      \n",
              "  <style>\n",
              "    .colab-df-container {\n",
              "      display:flex;\n",
              "      flex-wrap:wrap;\n",
              "      gap: 12px;\n",
              "    }\n",
              "\n",
              "    .colab-df-convert {\n",
              "      background-color: #E8F0FE;\n",
              "      border: none;\n",
              "      border-radius: 50%;\n",
              "      cursor: pointer;\n",
              "      display: none;\n",
              "      fill: #1967D2;\n",
              "      height: 32px;\n",
              "      padding: 0 0 0 0;\n",
              "      width: 32px;\n",
              "    }\n",
              "\n",
              "    .colab-df-convert:hover {\n",
              "      background-color: #E2EBFA;\n",
              "      box-shadow: 0px 1px 2px rgba(60, 64, 67, 0.3), 0px 1px 3px 1px rgba(60, 64, 67, 0.15);\n",
              "      fill: #174EA6;\n",
              "    }\n",
              "\n",
              "    [theme=dark] .colab-df-convert {\n",
              "      background-color: #3B4455;\n",
              "      fill: #D2E3FC;\n",
              "    }\n",
              "\n",
              "    [theme=dark] .colab-df-convert:hover {\n",
              "      background-color: #434B5C;\n",
              "      box-shadow: 0px 1px 3px 1px rgba(0, 0, 0, 0.15);\n",
              "      filter: drop-shadow(0px 1px 2px rgba(0, 0, 0, 0.3));\n",
              "      fill: #FFFFFF;\n",
              "    }\n",
              "  </style>\n",
              "\n",
              "      <script>\n",
              "        const buttonEl =\n",
              "          document.querySelector('#df-7b894c62-78b4-44f2-80f1-a919fbbfb403 button.colab-df-convert');\n",
              "        buttonEl.style.display =\n",
              "          google.colab.kernel.accessAllowed ? 'block' : 'none';\n",
              "\n",
              "        async function convertToInteractive(key) {\n",
              "          const element = document.querySelector('#df-7b894c62-78b4-44f2-80f1-a919fbbfb403');\n",
              "          const dataTable =\n",
              "            await google.colab.kernel.invokeFunction('convertToInteractive',\n",
              "                                                     [key], {});\n",
              "          if (!dataTable) return;\n",
              "\n",
              "          const docLinkHtml = 'Like what you see? Visit the ' +\n",
              "            '<a target=\"_blank\" href=https://colab.research.google.com/notebooks/data_table.ipynb>data table notebook</a>'\n",
              "            + ' to learn more about interactive tables.';\n",
              "          element.innerHTML = '';\n",
              "          dataTable['output_type'] = 'display_data';\n",
              "          await google.colab.output.renderOutput(dataTable, element);\n",
              "          const docLink = document.createElement('div');\n",
              "          docLink.innerHTML = docLinkHtml;\n",
              "          element.appendChild(docLink);\n",
              "        }\n",
              "      </script>\n",
              "    </div>\n",
              "  </div>\n",
              "  "
            ]
          },
          "metadata": {},
          "execution_count": 37
        }
      ],
      "source": [
        "# Assigning variable for cancel = 1\n",
        "total_train_plot_cancel1 = total_train_plot[total_train_plot['cancel']==1]\n",
        "total_train_plot_cancel1.head()"
      ]
    },
    {
      "cell_type": "code",
      "execution_count": null,
      "metadata": {
        "colab": {
          "base_uri": "https://localhost:8080/",
          "height": 472
        },
        "id": "ueYuJQGL84Co",
        "outputId": "157aa12f-fc86-44fd-e75d-df3a345f4b83"
      },
      "outputs": [
        {
          "output_type": "display_data",
          "data": {
            "text/plain": [
              "<Figure size 640x480 with 1 Axes>"
            ],
            "image/png": "[encoded data removed]"
          },
          "metadata": {}
        }
      ],
      "source": [
        "plt.bar(total_train_plot_cancel1['ni.gender'].value_counts().index,total_train_plot_cancel1['ni.gender'].value_counts().values)\n",
        "# Add text for the counts\n",
        "for i, v in enumerate(total_train_plot_cancel1['ni.gender'].value_counts().values):\n",
        "    plt.text(i, v, str(v), ha='center', va='bottom')\n",
        "plt.title('Gender Count for cancel = 1')\n",
        "plt.xlabel('Gender')\n",
        "plt.ylabel('Count')\n",
        "plt.show()"
      ]
    },
    {
      "cell_type": "markdown",
      "metadata": {
        "id": "VuL0xsq59fiq"
      },
      "source": [
        "#### Cancel =0\n"
      ]
    },
    {
      "cell_type": "code",
      "execution_count": null,
      "metadata": {
        "colab": {
          "base_uri": "https://localhost:8080/",
          "height": 270
        },
        "id": "qI96FDo79nZl",
        "outputId": "2adb0142-8199-4461-b1f8-f934024a0004"
      },
      "outputs": [
        {
          "output_type": "execute_result",
          "data": {
            "text/plain": [
              "       id  year  zip.code house.color  ni.age  len.at.res  credit  \\\n",
              "0  942391  2013   15056.0      yellow    55.0        15.0    high   \n",
              "1    2792  2014   80014.0         red    60.0        17.0  medium   \n",
              "2  282556  2014   85002.0       white    48.0        15.0    high   \n",
              "3  738330  2014   85051.0         red    57.0        15.0    high   \n",
              "4  243724  2013   85077.0       white    42.0        16.0    high   \n",
              "\n",
              "  coverage.type dwelling.type     premium sales.channel ni.gender  \\\n",
              "0             A         House  935.554116         Phone         F   \n",
              "1             A         House  835.804218         Phone         F   \n",
              "2             A         Condo  958.488416        Broker         M   \n",
              "3             A         House  963.496010         Phone         F   \n",
              "4             B         House  803.088375        Broker         F   \n",
              "\n",
              "   ni.marital.status  n.adults  n.children  tenure  claim.ind  cancel  \n",
              "0                1.0       1.0         1.0    14.0        0.0       0  \n",
              "1                1.0       1.0         1.0    17.0        0.0       0  \n",
              "2                1.0       1.0         0.0    11.0        1.0       0  \n",
              "3                1.0       2.0         1.0    19.0        0.0       0  \n",
              "4                1.0       2.0         2.0    12.0        0.0       0  "
            ],
            "text/html": [
              "\n",
              "  <div id=\"df-d09b4d3d-c064-4fbf-8215-6d9dfaaed248\">\n",
              "    <div class=\"colab-df-container\">\n",
              "      <div>\n",
              "<style scoped>\n",
              "    .dataframe tbody tr th:only-of-type {\n",
              "        vertical-align: middle;\n",
              "    }\n",
              "\n",
              "    .dataframe tbody tr th {\n",
              "        vertical-align: top;\n",
              "    }\n",
              "\n",
              "    .dataframe thead th {\n",
              "        text-align: right;\n",
              "    }\n",
              "</style>\n",
              "<table border=\"1\" class=\"dataframe\">\n",
              "  <thead>\n",
              "    <tr style=\"text-align: right;\">\n",
              "      <th></th>\n",
              "      <th>id</th>\n",
              "      <th>year</th>\n",
              "      <th>zip.code</th>\n",
              "      <th>house.color</th>\n",
              "      <th>ni.age</th>\n",
              "      <th>len.at.res</th>\n",
              "      <th>credit</th>\n",
              "      <th>coverage.type</th>\n",
              "      <th>dwelling.type</th>\n",
              "      <th>premium</th>\n",
              "      <th>sales.channel</th>\n",
              "      <th>ni.gender</th>\n",
              "      <th>ni.marital.status</th>\n",
              "      <th>n.adults</th>\n",
              "      <th>n.children</th>\n",
              "      <th>tenure</th>\n",
              "      <th>claim.ind</th>\n",
              "      <th>cancel</th>\n",
              "    </tr>\n",
              "  </thead>\n",
              "  <tbody>\n",
              "    <tr>\n",
              "      <th>0</th>\n",
              "      <td>942391</td>\n",
              "      <td>2013</td>\n",
              "      <td>15056.0</td>\n",
              "      <td>yellow</td>\n",
              "      <td>55.0</td>\n",
              "      <td>15.0</td>\n",
              "      <td>high</td>\n",
              "      <td>A</td>\n",
              "      <td>House</td>\n",
              "      <td>935.554116</td>\n",
              "      <td>Phone</td>\n",
              "      <td>F</td>\n",
              "      <td>1.0</td>\n",
              "      <td>1.0</td>\n",
              "      <td>1.0</td>\n",
              "      <td>14.0</td>\n",
              "      <td>0.0</td>\n",
              "      <td>0</td>\n",
              "    </tr>\n",
              "    <tr>\n",
              "      <th>1</th>\n",
              "      <td>2792</td>\n",
              "      <td>2014</td>\n",
              "      <td>80014.0</td>\n",
              "      <td>red</td>\n",
              "      <td>60.0</td>\n",
              "      <td>17.0</td>\n",
              "      <td>medium</td>\n",
              "      <td>A</td>\n",
              "      <td>House</td>\n",
              "      <td>835.804218</td>\n",
              "      <td>Phone</td>\n",
              "      <td>F</td>\n",
              "      <td>1.0</td>\n",
              "      <td>1.0</td>\n",
              "      <td>1.0</td>\n",
              "      <td>17.0</td>\n",
              "      <td>0.0</td>\n",
              "      <td>0</td>\n",
              "    </tr>\n",
              "    <tr>\n",
              "      <th>2</th>\n",
              "      <td>282556</td>\n",
              "      <td>2014</td>\n",
              "      <td>85002.0</td>\n",
              "      <td>white</td>\n",
              "      <td>48.0</td>\n",
              "      <td>15.0</td>\n",
              "      <td>high</td>\n",
              "      <td>A</td>\n",
              "      <td>Condo</td>\n",
              "      <td>958.488416</td>\n",
              "      <td>Broker</td>\n",
              "      <td>M</td>\n",
              "      <td>1.0</td>\n",
              "      <td>1.0</td>\n",
              "      <td>0.0</td>\n",
              "      <td>11.0</td>\n",
              "      <td>1.0</td>\n",
              "      <td>0</td>\n",
              "    </tr>\n",
              "    <tr>\n",
              "      <th>3</th>\n",
              "      <td>738330</td>\n",
              "      <td>2014</td>\n",
              "      <td>85051.0</td>\n",
              "      <td>red</td>\n",
              "      <td>57.0</td>\n",
              "      <td>15.0</td>\n",
              "      <td>high</td>\n",
              "      <td>A</td>\n",
              "      <td>House</td>\n",
              "      <td>963.496010</td>\n",
              "      <td>Phone</td>\n",
              "      <td>F</td>\n",
              "      <td>1.0</td>\n",
              "      <td>2.0</td>\n",
              "      <td>1.0</td>\n",
              "      <td>19.0</td>\n",
              "      <td>0.0</td>\n",
              "      <td>0</td>\n",
              "    </tr>\n",
              "    <tr>\n",
              "      <th>4</th>\n",
              "      <td>243724</td>\n",
              "      <td>2013</td>\n",
              "      <td>85077.0</td>\n",
              "      <td>white</td>\n",
              "      <td>42.0</td>\n",
              "      <td>16.0</td>\n",
              "      <td>high</td>\n",
              "      <td>B</td>\n",
              "      <td>House</td>\n",
              "      <td>803.088375</td>\n",
              "      <td>Broker</td>\n",
              "      <td>F</td>\n",
              "      <td>1.0</td>\n",
              "      <td>2.0</td>\n",
              "      <td>2.0</td>\n",
              "      <td>12.0</td>\n",
              "      <td>0.0</td>\n",
              "      <td>0</td>\n",
              "    </tr>\n",
              "  </tbody>\n",
              "</table>\n",
              "</div>\n",
              "      <button class=\"colab-df-convert\" onclick=\"convertToInteractive('df-d09b4d3d-c064-4fbf-8215-6d9dfaaed248')\"\n",
              "              title=\"Convert this dataframe to an interactive table.\"\n",
              "              style=\"display:none;\">\n",
              "        \n",
              "  <svg xmlns=\"http://www.w3.org/2000/svg\" height=\"24px\"viewBox=\"0 0 24 24\"\n",
              "       width=\"24px\">\n",
              "    <path d=\"M0 0h24v24H0V0z\" fill=\"none\"/>\n",
              "    <path d=\"M18.56 5.44l.94 2.06.94-2.06 2.06-.94-2.06-.94-.94-2.06-.94 2.06-2.06.94zm-11 1L8.5 8.5l.94-2.06 2.06-.94-2.06-.94L8.5 2.5l-.94 2.06-2.06.94zm10 10l.94 2.06.94-2.06 2.06-.94-2.06-.94-.94-2.06-.94 2.06-2.06.94z\"/><path d=\"M17.41 7.96l-1.37-1.37c-.4-.4-.92-.59-1.43-.59-.52 0-1.04.2-1.43.59L10.3 9.45l-7.72 7.72c-.78.78-.78 2.05 0 2.83L4 21.41c.39.39.9.59 1.41.59.51 0 1.02-.2 1.41-.59l7.78-7.78 2.81-2.81c.8-.78.8-2.07 0-2.86zM5.41 20L4 18.59l7.72-7.72 1.47 1.35L5.41 20z\"/>\n",
              "  </svg>\n",
              "      </button>\n",
              "      \n",
              "  <style>\n",
              "    .colab-df-container {\n",
              "      display:flex;\n",
              "      flex-wrap:wrap;\n",
              "      gap: 12px;\n",
              "    }\n",
              "\n",
              "    .colab-df-convert {\n",
              "      background-color: #E8F0FE;\n",
              "      border: none;\n",
              "      border-radius: 50%;\n",
              "      cursor: pointer;\n",
              "      display: none;\n",
              "      fill: #1967D2;\n",
              "      height: 32px;\n",
              "      padding: 0 0 0 0;\n",
              "      width: 32px;\n",
              "    }\n",
              "\n",
              "    .colab-df-convert:hover {\n",
              "      background-color: #E2EBFA;\n",
              "      box-shadow: 0px 1px 2px rgba(60, 64, 67, 0.3), 0px 1px 3px 1px rgba(60, 64, 67, 0.15);\n",
              "      fill: #174EA6;\n",
              "    }\n",
              "\n",
              "    [theme=dark] .colab-df-convert {\n",
              "      background-color: #3B4455;\n",
              "      fill: #D2E3FC;\n",
              "    }\n",
              "\n",
              "    [theme=dark] .colab-df-convert:hover {\n",
              "      background-color: #434B5C;\n",
              "      box-shadow: 0px 1px 3px 1px rgba(0, 0, 0, 0.15);\n",
              "      filter: drop-shadow(0px 1px 2px rgba(0, 0, 0, 0.3));\n",
              "      fill: #FFFFFF;\n",
              "    }\n",
              "  </style>\n",
              "\n",
              "      <script>\n",
              "        const buttonEl =\n",
              "          document.querySelector('#df-d09b4d3d-c064-4fbf-8215-6d9dfaaed248 button.colab-df-convert');\n",
              "        buttonEl.style.display =\n",
              "          google.colab.kernel.accessAllowed ? 'block' : 'none';\n",
              "\n",
              "        async function convertToInteractive(key) {\n",
              "          const element = document.querySelector('#df-d09b4d3d-c064-4fbf-8215-6d9dfaaed248');\n",
              "          const dataTable =\n",
              "            await google.colab.kernel.invokeFunction('convertToInteractive',\n",
              "                                                     [key], {});\n",
              "          if (!dataTable) return;\n",
              "\n",
              "          const docLinkHtml = 'Like what you see? Visit the ' +\n",
              "            '<a target=\"_blank\" href=https://colab.research.google.com/notebooks/data_table.ipynb>data table notebook</a>'\n",
              "            + ' to learn more about interactive tables.';\n",
              "          element.innerHTML = '';\n",
              "          dataTable['output_type'] = 'display_data';\n",
              "          await google.colab.output.renderOutput(dataTable, element);\n",
              "          const docLink = document.createElement('div');\n",
              "          docLink.innerHTML = docLinkHtml;\n",
              "          element.appendChild(docLink);\n",
              "        }\n",
              "      </script>\n",
              "    </div>\n",
              "  </div>\n",
              "  "
            ]
          },
          "metadata": {},
          "execution_count": 39
        }
      ],
      "source": [
        "# Assigning variable for cancel 0\n",
        "total_train_plot_cancel0 = total_train_plot[total_train_plot['cancel']==0]\n",
        "total_train_plot_cancel0.head()"
      ]
    },
    {
      "cell_type": "code",
      "execution_count": null,
      "metadata": {
        "colab": {
          "base_uri": "https://localhost:8080/",
          "height": 472
        },
        "id": "ARFhruy190OD",
        "outputId": "a7485cb0-c28c-4427-c746-cac9c95a4ef5"
      },
      "outputs": [
        {
          "output_type": "display_data",
          "data": {
            "text/plain": [
              "<Figure size 640x480 with 1 Axes>"
            ],
            "image/png": "[encoded data removed]"
          },
          "metadata": {}
        }
      ],
      "source": [
        "plt.bar(total_train_plot_cancel0['ni.gender'].value_counts().index,total_train_plot_cancel0['ni.gender'].value_counts().values)\n",
        "# Add text for the counts\n",
        "for i, v in enumerate(total_train_plot_cancel0['ni.gender'].value_counts().values):\n",
        "    plt.text(i, v, str(v), ha='center', va='bottom')\n",
        "plt.title('Gender Count for cancel = 0')\n",
        "plt.xlabel('Gender')\n",
        "plt.ylabel('Count')\n",
        "plt.show()"
      ]
    },
    {
      "cell_type": "markdown",
      "metadata": {
        "id": "ly7OFFwHAhCq"
      },
      "source": [
        "### Tables for cancel"
      ]
    },
    {
      "cell_type": "markdown",
      "metadata": {
        "id": "BsTe3z0iAm55"
      },
      "source": [
        "#### Cancel = 2"
      ]
    },
    {
      "cell_type": "code",
      "execution_count": null,
      "metadata": {
        "colab": {
          "base_uri": "https://localhost:8080/",
          "height": 112
        },
        "id": "sEw1xYP7_Vf6",
        "outputId": "dbfd57a9-6716-4183-a4d2-c5b07fa4ab5d"
      },
      "outputs": [
        {
          "output_type": "display_data",
          "data": {
            "text/plain": [
              "<IPython.core.display.HTML object>"
            ],
            "text/html": [
              "<table border=\"1\" class=\"dataframe\">\n",
              "  <thead>\n",
              "    <tr style=\"text-align: right;\">\n",
              "      <th></th>\n",
              "      <th>ni.gender</th>\n",
              "    </tr>\n",
              "  </thead>\n",
              "  <tbody>\n",
              "    <tr>\n",
              "      <th>M</th>\n",
              "      <td>78736</td>\n",
              "    </tr>\n",
              "    <tr>\n",
              "      <th>F</th>\n",
              "      <td>72382</td>\n",
              "    </tr>\n",
              "  </tbody>\n",
              "</table>"
            ]
          },
          "metadata": {}
        }
      ],
      "source": [
        "from IPython.display import display, HTML\n",
        "table_cancel2=pd.DataFrame(total_train_plot_cancel2['ni.gender'].value_counts()).to_html()\n",
        "#print(table_cancel2)\n",
        "display(HTML(table_cancel2))\n",
        "# # Convert the dataframe to an HTML table and write to file\n",
        "# with open('output.html', 'w') as f:\n",
        "#     f.write(pd.DataFrame(total_train_plot_cancel2['ni.gender'].value_counts()).to_html())\n",
        "\n",
        "# # Open the HTML file in a web browser\n",
        "# import webbrowser\n",
        "# webbrowser.open('output.html')"
      ]
    },
    {
      "cell_type": "markdown",
      "metadata": {
        "id": "FzsQZQlWAqQJ"
      },
      "source": [
        "#### Cancel =1"
      ]
    },
    {
      "cell_type": "code",
      "execution_count": null,
      "metadata": {
        "colab": {
          "base_uri": "https://localhost:8080/",
          "height": 112
        },
        "id": "0pbZvpz-AsWh",
        "outputId": "f708ebb4-fa17-4773-cb74-f395714dab6a"
      },
      "outputs": [
        {
          "output_type": "display_data",
          "data": {
            "text/plain": [
              "<IPython.core.display.HTML object>"
            ],
            "text/html": [
              "<table border=\"1\" class=\"dataframe\">\n",
              "  <thead>\n",
              "    <tr style=\"text-align: right;\">\n",
              "      <th></th>\n",
              "      <th>ni.gender</th>\n",
              "    </tr>\n",
              "  </thead>\n",
              "  <tbody>\n",
              "    <tr>\n",
              "      <th>M</th>\n",
              "      <td>25990</td>\n",
              "    </tr>\n",
              "    <tr>\n",
              "      <th>F</th>\n",
              "      <td>23803</td>\n",
              "    </tr>\n",
              "  </tbody>\n",
              "</table>"
            ]
          },
          "metadata": {}
        }
      ],
      "source": [
        "table_cancel1=pd.DataFrame(total_train_plot_cancel1['ni.gender'].value_counts()).to_html()\n",
        "display(HTML(table_cancel1))"
      ]
    },
    {
      "cell_type": "markdown",
      "metadata": {
        "id": "F7we_Xp6AyUp"
      },
      "source": [
        "#### Cancel = 0"
      ]
    },
    {
      "cell_type": "code",
      "execution_count": null,
      "metadata": {
        "colab": {
          "base_uri": "https://localhost:8080/",
          "height": 112
        },
        "id": "x6hFLzIvA0k2",
        "outputId": "763884bd-e5e6-492d-c240-491ad714789d"
      },
      "outputs": [
        {
          "output_type": "display_data",
          "data": {
            "text/plain": [
              "<IPython.core.display.HTML object>"
            ],
            "text/html": [
              "<table border=\"1\" class=\"dataframe\">\n",
              "  <thead>\n",
              "    <tr style=\"text-align: right;\">\n",
              "      <th></th>\n",
              "      <th>ni.gender</th>\n",
              "    </tr>\n",
              "  </thead>\n",
              "  <tbody>\n",
              "    <tr>\n",
              "      <th>M</th>\n",
              "      <td>254554</td>\n",
              "    </tr>\n",
              "    <tr>\n",
              "      <th>F</th>\n",
              "      <td>235144</td>\n",
              "    </tr>\n",
              "  </tbody>\n",
              "</table>"
            ]
          },
          "metadata": {}
        }
      ],
      "source": [
        "table_cancel0=pd.DataFrame(total_train_plot_cancel0['ni.gender'].value_counts()).to_html()\n",
        "display(HTML(table_cancel0))"
      ]
    },
    {
      "cell_type": "markdown",
      "source": [
        "From the plots above on Gender vs Cancel\n",
        "* People whose gender is male are dominating in every category(cancel = 0,1,2), although by very slight extent. This indicates that interms of gender the cancel variable has slightly more male gender"
      ],
      "metadata": {
        "id": "bwsIq6mpD1vU"
      }
    },
    {
      "cell_type": "markdown",
      "metadata": {
        "id": "3_35pbcR-a8z"
      },
      "source": [
        "### Credit vs Cancel"
      ]
    },
    {
      "cell_type": "code",
      "execution_count": null,
      "metadata": {
        "colab": {
          "base_uri": "https://localhost:8080/"
        },
        "id": "xGudQYMr-y0m",
        "outputId": "af203681-b8ed-4179-f08f-e73f783db977"
      },
      "outputs": [
        {
          "output_type": "execute_result",
          "data": {
            "text/plain": [
              "high      426798\n",
              "medium    150747\n",
              "low       113064\n",
              "Name: credit, dtype: int64"
            ]
          },
          "metadata": {},
          "execution_count": 44
        }
      ],
      "source": [
        "total_train_plot['credit'].value_counts()"
      ]
    },
    {
      "cell_type": "markdown",
      "metadata": {
        "id": "2_prQ976-55H"
      },
      "source": [
        "#### Cancel = 2"
      ]
    },
    {
      "cell_type": "markdown",
      "metadata": {
        "id": "BuT2hk7J--y1"
      },
      "source": [
        "Since we already have a dataset for cancel = 2. Let's make use of the data frame and plot"
      ]
    },
    {
      "cell_type": "code",
      "execution_count": null,
      "metadata": {
        "colab": {
          "base_uri": "https://localhost:8080/",
          "height": 472
        },
        "id": "2kjXGBF1BlAy",
        "outputId": "7c5107ad-19db-44c4-b20c-83f67e600ae4"
      },
      "outputs": [
        {
          "output_type": "display_data",
          "data": {
            "text/plain": [
              "<Figure size 640x480 with 1 Axes>"
            ],
            "image/png": "[encoded data removed]"
          },
          "metadata": {}
        }
      ],
      "source": [
        "plt.bar(total_train_plot_cancel2['credit'].value_counts().index,total_train_plot_cancel2['credit'].value_counts().values)\n",
        "# Add text for the counts\n",
        "for i, v in enumerate(total_train_plot_cancel2['credit'].value_counts().values):\n",
        "    plt.text(i, v, str(v), ha='center', va='bottom')\n",
        "plt.title('Credit for cancel = 2')\n",
        "plt.xlabel('Credit')\n",
        "plt.ylabel('Count')\n",
        "plt.show()"
      ]
    },
    {
      "cell_type": "markdown",
      "metadata": {
        "id": "HVD4uQpJB1GJ"
      },
      "source": [
        "Let's make a table for it"
      ]
    },
    {
      "cell_type": "code",
      "execution_count": null,
      "metadata": {
        "colab": {
          "base_uri": "https://localhost:8080/",
          "height": 143
        },
        "id": "a8eX0QslCzMZ",
        "outputId": "d015299a-9c07-4cf0-e212-51503f7d71e9"
      },
      "outputs": [
        {
          "output_type": "display_data",
          "data": {
            "text/plain": [
              "<IPython.core.display.HTML object>"
            ],
            "text/html": [
              "<table border=\"1\" class=\"dataframe\">\n",
              "  <thead>\n",
              "    <tr style=\"text-align: right;\">\n",
              "      <th></th>\n",
              "      <th>credit</th>\n",
              "    </tr>\n",
              "  </thead>\n",
              "  <tbody>\n",
              "    <tr>\n",
              "      <th>high</th>\n",
              "      <td>68309</td>\n",
              "    </tr>\n",
              "    <tr>\n",
              "      <th>low</th>\n",
              "      <td>45632</td>\n",
              "    </tr>\n",
              "    <tr>\n",
              "      <th>medium</th>\n",
              "      <td>37177</td>\n",
              "    </tr>\n",
              "  </tbody>\n",
              "</table>"
            ]
          },
          "metadata": {}
        }
      ],
      "source": [
        "table_credit_cancel2 = pd.DataFrame(total_train_plot_cancel2['credit'].value_counts()).to_html()\n",
        "display(HTML(table_credit_cancel2))"
      ]
    },
    {
      "cell_type": "markdown",
      "metadata": {
        "id": "aD_q_KTrDLx3"
      },
      "source": [
        "#### Cancel = 1"
      ]
    },
    {
      "cell_type": "code",
      "execution_count": null,
      "metadata": {
        "colab": {
          "base_uri": "https://localhost:8080/",
          "height": 472
        },
        "id": "DzQ2v5B4Etnz",
        "outputId": "75f06f18-66e6-4b41-d860-baa16078265f"
      },
      "outputs": [
        {
          "output_type": "display_data",
          "data": {
            "text/plain": [
              "<Figure size 640x480 with 1 Axes>"
            ],
            "image/png": "[encoded data removed]"
          },
          "metadata": {}
        }
      ],
      "source": [
        "# We already have a dataframe for cancel =1. Let us make use of it\n",
        "plt.bar(total_train_plot_cancel1['credit'].value_counts().index,total_train_plot_cancel1['credit'].value_counts().values)\n",
        "# Add text for the counts\n",
        "for i, v in enumerate(total_train_plot_cancel1['credit'].value_counts().values):\n",
        "    plt.text(i, v, str(v), ha='center', va='bottom')\n",
        "plt.title('Credit for cancel = 1')\n",
        "plt.xlabel('Credit')\n",
        "plt.ylabel('Count')\n",
        "plt.show()"
      ]
    },
    {
      "cell_type": "markdown",
      "metadata": {
        "id": "-gFsgqoJFD9n"
      },
      "source": [
        "Table for it\n"
      ]
    },
    {
      "cell_type": "code",
      "execution_count": null,
      "metadata": {
        "colab": {
          "base_uri": "https://localhost:8080/",
          "height": 143
        },
        "id": "Jjekaaf5FH9f",
        "outputId": "ed554c82-7787-4b2c-badb-1862445762ac"
      },
      "outputs": [
        {
          "output_type": "display_data",
          "data": {
            "text/plain": [
              "<IPython.core.display.HTML object>"
            ],
            "text/html": [
              "<table border=\"1\" class=\"dataframe\">\n",
              "  <thead>\n",
              "    <tr style=\"text-align: right;\">\n",
              "      <th></th>\n",
              "      <th>credit</th>\n",
              "    </tr>\n",
              "  </thead>\n",
              "  <tbody>\n",
              "    <tr>\n",
              "      <th>high</th>\n",
              "      <td>20526</td>\n",
              "    </tr>\n",
              "    <tr>\n",
              "      <th>medium</th>\n",
              "      <td>16244</td>\n",
              "    </tr>\n",
              "    <tr>\n",
              "      <th>low</th>\n",
              "      <td>13023</td>\n",
              "    </tr>\n",
              "  </tbody>\n",
              "</table>"
            ]
          },
          "metadata": {}
        }
      ],
      "source": [
        "table_credit_cancel1 = pd.DataFrame(total_train_plot_cancel1['credit'].value_counts()).to_html()\n",
        "display(HTML(table_credit_cancel1))"
      ]
    },
    {
      "cell_type": "markdown",
      "metadata": {
        "id": "O62p7NE9FNrM"
      },
      "source": [
        "#### Cancel = 0"
      ]
    },
    {
      "cell_type": "code",
      "execution_count": null,
      "metadata": {
        "colab": {
          "base_uri": "https://localhost:8080/",
          "height": 472
        },
        "id": "TApQl7dqFXX7",
        "outputId": "9fcc53d5-7bbe-45de-9a68-e7a7a3230668"
      },
      "outputs": [
        {
          "output_type": "display_data",
          "data": {
            "text/plain": [
              "<Figure size 640x480 with 1 Axes>"
            ],
            "image/png": "[encoded data removed]"
          },
          "metadata": {}
        }
      ],
      "source": [
        "# We already have a dataframe for cancel =0. Let us make use of it\n",
        "plt.bar(total_train_plot_cancel0['credit'].value_counts().index,total_train_plot_cancel0['credit'].value_counts().values)\n",
        "# Add text for the counts\n",
        "for i, v in enumerate(total_train_plot_cancel0['credit'].value_counts().values):\n",
        "    plt.text(i, v, str(v), ha='center', va='bottom')\n",
        "plt.title('Credit for cancel = 0')\n",
        "plt.xlabel('Credit')\n",
        "plt.ylabel('Count')\n",
        "plt.show()"
      ]
    },
    {
      "cell_type": "code",
      "execution_count": null,
      "metadata": {
        "colab": {
          "base_uri": "https://localhost:8080/",
          "height": 143
        },
        "id": "mQGwpAYBFfbs",
        "outputId": "1c82baa1-17b8-4c24-afe1-9583975f738b"
      },
      "outputs": [
        {
          "output_type": "display_data",
          "data": {
            "text/plain": [
              "<IPython.core.display.HTML object>"
            ],
            "text/html": [
              "<table border=\"1\" class=\"dataframe\">\n",
              "  <thead>\n",
              "    <tr style=\"text-align: right;\">\n",
              "      <th></th>\n",
              "      <th>credit</th>\n",
              "    </tr>\n",
              "  </thead>\n",
              "  <tbody>\n",
              "    <tr>\n",
              "      <th>high</th>\n",
              "      <td>337963</td>\n",
              "    </tr>\n",
              "    <tr>\n",
              "      <th>medium</th>\n",
              "      <td>97326</td>\n",
              "    </tr>\n",
              "    <tr>\n",
              "      <th>low</th>\n",
              "      <td>54409</td>\n",
              "    </tr>\n",
              "  </tbody>\n",
              "</table>"
            ]
          },
          "metadata": {}
        }
      ],
      "source": [
        "table_credit_cancel0 = pd.DataFrame(total_train_plot_cancel0['credit'].value_counts()).to_html()\n",
        "display(HTML(table_credit_cancel0))"
      ]
    },
    {
      "cell_type": "markdown",
      "metadata": {
        "id": "ELljnMPMFlND"
      },
      "source": [
        "There are two important findings in the Credit vs Cancel analysis\n",
        "\n",
        "\n",
        "1.   **For cancel = 2 the low credit people count is more than the count of medium credit people**\n",
        "2.   **For cancel = 0 we can see that the high credit people count is more than the other credit people count**\n",
        "\n"
      ]
    },
    {
      "cell_type": "markdown",
      "metadata": {
        "id": "qFXTbkQOcNwc"
      },
      "source": [
        "### Sales.Channel vs Cancel (Pie Chart)"
      ]
    },
    {
      "cell_type": "code",
      "execution_count": null,
      "metadata": {
        "colab": {
          "base_uri": "https://localhost:8080/"
        },
        "id": "MiFP9twC1WFx",
        "outputId": "844625e0-7cec-41a4-8577-3bf515c9d69e"
      },
      "outputs": [
        {
          "output_type": "execute_result",
          "data": {
            "text/plain": [
              "Broker    401466\n",
              "Phone     230550\n",
              "Online     58593\n",
              "Name: sales.channel, dtype: int64"
            ]
          },
          "metadata": {},
          "execution_count": 51
        }
      ],
      "source": [
        "X_train_not_none['sales.channel'].value_counts()"
      ]
    },
    {
      "cell_type": "code",
      "execution_count": null,
      "metadata": {
        "colab": {
          "base_uri": "https://localhost:8080/",
          "height": 206
        },
        "id": "ss6_LPNKKha5",
        "outputId": "58c03171-315e-43aa-f9d5-9943c3eff914"
      },
      "outputs": [
        {
          "output_type": "execute_result",
          "data": {
            "text/plain": [
              "  sales.channel  cancel\n",
              "0         Phone       0\n",
              "1         Phone       0\n",
              "2        Broker       0\n",
              "3         Phone       0\n",
              "4        Broker       0"
            ],
            "text/html": [
              "\n",
              "  <div id=\"df-80da2dcf-88ca-46e1-bd64-805b794935de\">\n",
              "    <div class=\"colab-df-container\">\n",
              "      <div>\n",
              "<style scoped>\n",
              "    .dataframe tbody tr th:only-of-type {\n",
              "        vertical-align: middle;\n",
              "    }\n",
              "\n",
              "    .dataframe tbody tr th {\n",
              "        vertical-align: top;\n",
              "    }\n",
              "\n",
              "    .dataframe thead th {\n",
              "        text-align: right;\n",
              "    }\n",
              "</style>\n",
              "<table border=\"1\" class=\"dataframe\">\n",
              "  <thead>\n",
              "    <tr style=\"text-align: right;\">\n",
              "      <th></th>\n",
              "      <th>sales.channel</th>\n",
              "      <th>cancel</th>\n",
              "    </tr>\n",
              "  </thead>\n",
              "  <tbody>\n",
              "    <tr>\n",
              "      <th>0</th>\n",
              "      <td>Phone</td>\n",
              "      <td>0</td>\n",
              "    </tr>\n",
              "    <tr>\n",
              "      <th>1</th>\n",
              "      <td>Phone</td>\n",
              "      <td>0</td>\n",
              "    </tr>\n",
              "    <tr>\n",
              "      <th>2</th>\n",
              "      <td>Broker</td>\n",
              "      <td>0</td>\n",
              "    </tr>\n",
              "    <tr>\n",
              "      <th>3</th>\n",
              "      <td>Phone</td>\n",
              "      <td>0</td>\n",
              "    </tr>\n",
              "    <tr>\n",
              "      <th>4</th>\n",
              "      <td>Broker</td>\n",
              "      <td>0</td>\n",
              "    </tr>\n",
              "  </tbody>\n",
              "</table>\n",
              "</div>\n",
              "      <button class=\"colab-df-convert\" onclick=\"convertToInteractive('df-80da2dcf-88ca-46e1-bd64-805b794935de')\"\n",
              "              title=\"Convert this dataframe to an interactive table.\"\n",
              "              style=\"display:none;\">\n",
              "        \n",
              "  <svg xmlns=\"http://www.w3.org/2000/svg\" height=\"24px\"viewBox=\"0 0 24 24\"\n",
              "       width=\"24px\">\n",
              "    <path d=\"M0 0h24v24H0V0z\" fill=\"none\"/>\n",
              "    <path d=\"M18.56 5.44l.94 2.06.94-2.06 2.06-.94-2.06-.94-.94-2.06-.94 2.06-2.06.94zm-11 1L8.5 8.5l.94-2.06 2.06-.94-2.06-.94L8.5 2.5l-.94 2.06-2.06.94zm10 10l.94 2.06.94-2.06 2.06-.94-2.06-.94-.94-2.06-.94 2.06-2.06.94z\"/><path d=\"M17.41 7.96l-1.37-1.37c-.4-.4-.92-.59-1.43-.59-.52 0-1.04.2-1.43.59L10.3 9.45l-7.72 7.72c-.78.78-.78 2.05 0 2.83L4 21.41c.39.39.9.59 1.41.59.51 0 1.02-.2 1.41-.59l7.78-7.78 2.81-2.81c.8-.78.8-2.07 0-2.86zM5.41 20L4 18.59l7.72-7.72 1.47 1.35L5.41 20z\"/>\n",
              "  </svg>\n",
              "      </button>\n",
              "      \n",
              "  <style>\n",
              "    .colab-df-container {\n",
              "      display:flex;\n",
              "      flex-wrap:wrap;\n",
              "      gap: 12px;\n",
              "    }\n",
              "\n",
              "    .colab-df-convert {\n",
              "      background-color: #E8F0FE;\n",
              "      border: none;\n",
              "      border-radius: 50%;\n",
              "      cursor: pointer;\n",
              "      display: none;\n",
              "      fill: #1967D2;\n",
              "      height: 32px;\n",
              "      padding: 0 0 0 0;\n",
              "      width: 32px;\n",
              "    }\n",
              "\n",
              "    .colab-df-convert:hover {\n",
              "      background-color: #E2EBFA;\n",
              "      box-shadow: 0px 1px 2px rgba(60, 64, 67, 0.3), 0px 1px 3px 1px rgba(60, 64, 67, 0.15);\n",
              "      fill: #174EA6;\n",
              "    }\n",
              "\n",
              "    [theme=dark] .colab-df-convert {\n",
              "      background-color: #3B4455;\n",
              "      fill: #D2E3FC;\n",
              "    }\n",
              "\n",
              "    [theme=dark] .colab-df-convert:hover {\n",
              "      background-color: #434B5C;\n",
              "      box-shadow: 0px 1px 3px 1px rgba(0, 0, 0, 0.15);\n",
              "      filter: drop-shadow(0px 1px 2px rgba(0, 0, 0, 0.3));\n",
              "      fill: #FFFFFF;\n",
              "    }\n",
              "  </style>\n",
              "\n",
              "      <script>\n",
              "        const buttonEl =\n",
              "          document.querySelector('#df-80da2dcf-88ca-46e1-bd64-805b794935de button.colab-df-convert');\n",
              "        buttonEl.style.display =\n",
              "          google.colab.kernel.accessAllowed ? 'block' : 'none';\n",
              "\n",
              "        async function convertToInteractive(key) {\n",
              "          const element = document.querySelector('#df-80da2dcf-88ca-46e1-bd64-805b794935de');\n",
              "          const dataTable =\n",
              "            await google.colab.kernel.invokeFunction('convertToInteractive',\n",
              "                                                     [key], {});\n",
              "          if (!dataTable) return;\n",
              "\n",
              "          const docLinkHtml = 'Like what you see? Visit the ' +\n",
              "            '<a target=\"_blank\" href=https://colab.research.google.com/notebooks/data_table.ipynb>data table notebook</a>'\n",
              "            + ' to learn more about interactive tables.';\n",
              "          element.innerHTML = '';\n",
              "          dataTable['output_type'] = 'display_data';\n",
              "          await google.colab.output.renderOutput(dataTable, element);\n",
              "          const docLink = document.createElement('div');\n",
              "          docLink.innerHTML = docLinkHtml;\n",
              "          element.appendChild(docLink);\n",
              "        }\n",
              "      </script>\n",
              "    </div>\n",
              "  </div>\n",
              "  "
            ]
          },
          "metadata": {},
          "execution_count": 52
        }
      ],
      "source": [
        "table_sales_channel0= pd.DataFrame(total_train_plot[total_train_plot['cancel']==0][['sales.channel','cancel']])\n",
        "table_sales_channel1 = pd.DataFrame(total_train_plot[total_train_plot['cancel']==1][['sales.channel','cancel']])\n",
        "table_sales_channel2 = pd.DataFrame(total_train_plot[total_train_plot['cancel']==2][['sales.channel','cancel']])\n",
        "table_sales_channel0.head()"
      ]
    },
    {
      "cell_type": "markdown",
      "metadata": {
        "id": "RMYau2nTciWD"
      },
      "source": [
        "#### Cancel = 0"
      ]
    },
    {
      "cell_type": "code",
      "execution_count": null,
      "metadata": {
        "colab": {
          "base_uri": "https://localhost:8080/",
          "height": 406
        },
        "id": "66wNjuQKJuAM",
        "outputId": "3d517a65-d0a7-49c7-d91b-dd658e38ec1a"
      },
      "outputs": [
        {
          "output_type": "display_data",
          "data": {
            "text/plain": [
              "<Figure size 640x480 with 1 Axes>"
            ],
            "image/png": "[encoded data removed]"
          },
          "metadata": {}
        }
      ],
      "source": [
        "plt.pie(table_sales_channel0['sales.channel'].value_counts().values,labels=table_sales_channel0['sales.channel'].value_counts().index,autopct='%1.1f%%',explode=(0.05,0.06,0.07));"
      ]
    },
    {
      "cell_type": "markdown",
      "metadata": {
        "id": "7AO1h2QfcpWE"
      },
      "source": [
        "#### Cancel = 1"
      ]
    },
    {
      "cell_type": "code",
      "execution_count": null,
      "metadata": {
        "colab": {
          "base_uri": "https://localhost:8080/",
          "height": 406
        },
        "id": "vT0ZqQKeNzOl",
        "outputId": "6a5ced4a-1a4b-48ce-e6a4-591ed6597176"
      },
      "outputs": [
        {
          "output_type": "display_data",
          "data": {
            "text/plain": [
              "<Figure size 640x480 with 1 Axes>"
            ],
            "image/png": "[encoded data removed]"
          },
          "metadata": {}
        }
      ],
      "source": [
        "plt.pie(table_sales_channel1['sales.channel'].value_counts().values,labels=table_sales_channel1['sales.channel'].value_counts().index,autopct='%1.1f%%',explode=(0.05,0.06,0.07));"
      ]
    },
    {
      "cell_type": "markdown",
      "metadata": {
        "id": "3olMzYD_cquU"
      },
      "source": [
        "#### Cancel = 2"
      ]
    },
    {
      "cell_type": "code",
      "execution_count": null,
      "metadata": {
        "colab": {
          "base_uri": "https://localhost:8080/",
          "height": 406
        },
        "id": "S0TlyDlHOCEk",
        "outputId": "37c17e42-c26f-44be-8eb2-ef5f1ebb8c6f"
      },
      "outputs": [
        {
          "output_type": "display_data",
          "data": {
            "text/plain": [
              "<Figure size 640x480 with 1 Axes>"
            ],
            "image/png": "[encoded data removed]"
          },
          "metadata": {}
        }
      ],
      "source": [
        "plt.pie(table_sales_channel2['sales.channel'].value_counts().values,labels=table_sales_channel2['sales.channel'].value_counts().index,autopct='%1.1f%%',explode=(0.05,0.06,0.07));"
      ]
    },
    {
      "cell_type": "markdown",
      "source": [
        "From the plots above on Gender vs Cancel\n",
        "* People whose gender is male are dominating in every category(cancel = 0,1,2), although by very slight extent. This indicates that interms of gender the cancel variable has slightly more male gender"
      ],
      "metadata": {
        "id": "eDA1ydO9FKAN"
      }
    },
    {
      "cell_type": "markdown",
      "source": [
        "### Marital"
      ],
      "metadata": {
        "id": "16D3-v1-5Kat"
      }
    },
    {
      "cell_type": "code",
      "source": [
        "marital_cancel=pd.crosstab(index=total_train_plot['ni.marital.status'],columns=total_train_plot['cancel'])\n",
        "print(marital_cancel)\n",
        "marital_cancel.plot.bar()"
      ],
      "metadata": {
        "colab": {
          "base_uri": "https://localhost:8080/",
          "height": 544
        },
        "id": "l6v56plf47u-",
        "outputId": "1acc5dea-baec-43d3-ee33-f7077119df4d"
      },
      "execution_count": null,
      "outputs": [
        {
          "output_type": "stream",
          "name": "stdout",
          "text": [
            "cancel                  0      1       2\n",
            "ni.marital.status                       \n",
            "0.0                137694  15829   46230\n",
            "1.0                352004  33964  104888\n"
          ]
        },
        {
          "output_type": "execute_result",
          "data": {
            "text/plain": [
              "<Axes: xlabel='ni.marital.status'>"
            ]
          },
          "metadata": {},
          "execution_count": 65
        },
        {
          "output_type": "display_data",
          "data": {
            "text/plain": [
              "<Figure size 640x480 with 1 Axes>"
            ],
            "image/png": "[encoded data removed]"
          },
          "metadata": {}
        }
      ]
    },
    {
      "cell_type": "markdown",
      "source": [
        "From the plots above on Gender vs Cancel\n",
        "* People whose gender is male are dominating in every category(cancel = 0,1,2), although by very slight extent. This indicates that interms of gender the cancel variable has slightly more male gender"
      ],
      "metadata": {
        "id": "NdKzgjSdGdw4"
      }
    },
    {
      "cell_type": "markdown",
      "source": [
        "### Dwelling Coverage"
      ],
      "metadata": {
        "id": "AZWSS2djGpMy"
      }
    },
    {
      "cell_type": "code",
      "source": [
        "dwelling_cancel=pd.crosstab(index=total_train_plot['dwelling.type'],columns=total_train_plot['cancel'])\n",
        "print(dwelling_cancel)\n",
        "dwelling_cancel.plot.bar()"
      ],
      "metadata": {
        "colab": {
          "base_uri": "https://localhost:8080/",
          "height": 586
        },
        "id": "JQIC1uLwGmdK",
        "outputId": "98a04063-80d9-433c-adf0-a08804e130c7"
      },
      "execution_count": null,
      "outputs": [
        {
          "output_type": "stream",
          "name": "stdout",
          "text": [
            "cancel              0      1      2\n",
            "dwelling.type                      \n",
            "Condo          115196  12658  37943\n",
            "House          281011  26133  80532\n",
            "Tenant          93491  11002  32643\n"
          ]
        },
        {
          "output_type": "execute_result",
          "data": {
            "text/plain": [
              "<Axes: xlabel='dwelling.type'>"
            ]
          },
          "metadata": {},
          "execution_count": 66
        },
        {
          "output_type": "display_data",
          "data": {
            "text/plain": [
              "<Figure size 640x480 with 1 Axes>"
            ],
            "image/png": "[encoded data removed]"
          },
          "metadata": {}
        }
      ]
    },
    {
      "cell_type": "markdown",
      "source": [
        "From the crosstab we observe that\n",
        "* People who have their own house are more prone to cancel than people who either rent a house or own a condo\n",
        "* But from the graph it also observed that most of the dataset is leaning towards people who own a house\n"
      ],
      "metadata": {
        "id": "dp9ntPraGh4T"
      }
    },
    {
      "cell_type": "markdown",
      "metadata": {
        "id": "fvb9g5SmjpFP"
      },
      "source": [
        "## Dealing with X_test missing values"
      ]
    },
    {
      "cell_type": "code",
      "execution_count": null,
      "metadata": {
        "colab": {
          "base_uri": "https://localhost:8080/"
        },
        "id": "_cCUYKxGiyOQ",
        "outputId": "1a805c9c-048a-45b9-db58-0d95ada3925f"
      },
      "outputs": [
        {
          "output_type": "stream",
          "name": "stdout",
          "text": [
            "(344891, 16) (344891, 1)\n"
          ]
        }
      ],
      "source": [
        "X_test = pd.DataFrame(X_test)\n",
        "X_test.fillna(X_test.mean(),inplace=True)\n",
        "y_test.fillna(0)\n",
        "print(X_test.shape,y_test.shape)"
      ]
    },
    {
      "cell_type": "markdown",
      "metadata": {
        "id": "rWRWz_mwFxml"
      },
      "source": [
        "## Sampling"
      ]
    },
    {
      "cell_type": "code",
      "execution_count": null,
      "metadata": {
        "colab": {
          "base_uri": "https://localhost:8080/"
        },
        "id": "pTkg2k_uFC30",
        "outputId": "f2ab7f0e-5460-4ee2-e6b3-aa3959a29e40"
      },
      "outputs": [
        {
          "output_type": "execute_result",
          "data": {
            "text/plain": [
              "Counter({0: 489698, 2: 151118, 1: 489698})"
            ]
          },
          "metadata": {},
          "execution_count": 57
        }
      ],
      "source": [
        "from imblearn.over_sampling import RandomOverSampler\n",
        "\n",
        "# Having Oversampling Strategy\n",
        "oversample = RandomOverSampler(sampling_strategy=\"minority\")\n",
        "\n",
        "# fit and apply the transform\n",
        "X_over,y_over = oversample.fit_resample(X_train,y_train)\n",
        "\n",
        "# Class Distribution\n",
        "Counter(y_over['cancel'])"
      ]
    },
    {
      "cell_type": "code",
      "execution_count": null,
      "metadata": {
        "colab": {
          "base_uri": "https://localhost:8080/"
        },
        "id": "dzo3hzuWM8R_",
        "outputId": "ea32befd-a8e8-448d-eff1-1e08009e9f4d"
      },
      "outputs": [
        {
          "output_type": "stream",
          "name": "stdout",
          "text": [
            "(344891, 16) (344891,)\n",
            "(690609, 16) (690609, 1)\n"
          ]
        }
      ],
      "source": [
        "test_total = pd.concat([X_test,y_test],axis=1)\n",
        "test_total.dropna(inplace=True)\n",
        "test_total.isna().sum()\n",
        "y_test=test_total['cancel']\n",
        "X_test=test_total.drop(['cancel'],axis=1)\n",
        "print(X_test.shape,y_test.shape)\n",
        "print(X_train.shape,y_train.shape)"
      ]
    },
    {
      "cell_type": "markdown",
      "source": [
        "## Modeling"
      ],
      "metadata": {
        "id": "HeDYqL7Vzc7h"
      }
    },
    {
      "cell_type": "markdown",
      "source": [
        "### Decision Tree Classifier"
      ],
      "metadata": {
        "id": "LJLSLJrN3xum"
      }
    },
    {
      "cell_type": "code",
      "execution_count": null,
      "metadata": {
        "colab": {
          "base_uri": "https://localhost:8080/"
        },
        "id": "lI5FRQXpNPRn",
        "outputId": "8218a062-75e8-4086-c4b5-9875baa60322"
      },
      "outputs": [
        {
          "output_type": "stream",
          "name": "stdout",
          "text": [
            "Train Classification: \n",
            "\n",
            "              precision    recall  f1-score   support\n",
            "\n",
            "           0       0.81      0.87      0.84    489698\n",
            "           1       0.88      0.97      0.92    489698\n",
            "           2       0.67      0.28      0.40    151118\n",
            "\n",
            "    accuracy                           0.84   1130514\n",
            "   macro avg       0.79      0.71      0.72   1130514\n",
            "weighted avg       0.82      0.84      0.82   1130514\n",
            "\n",
            "Test Classification: \n",
            "\n",
            "              precision    recall  f1-score   support\n",
            "\n",
            "           0       0.80      0.84      0.82    244522\n",
            "           1       0.33      0.75      0.46     24772\n",
            "           2       0.52      0.22      0.31     75597\n",
            "\n",
            "    accuracy                           0.70    344891\n",
            "   macro avg       0.55      0.60      0.53    344891\n",
            "weighted avg       0.70      0.70      0.68    344891\n",
            "\n"
          ]
        }
      ],
      "source": [
        "from sklearn.tree import DecisionTreeClassifier\n",
        "from sklearn.metrics import classification_report\n",
        "DTC = DecisionTreeClassifier(criterion=\"entropy\",min_samples_split=30,min_samples_leaf=20,max_depth=40)\n",
        "\n",
        "#Let's us fit the model for Decision Tree Classifier\n",
        "DTC.fit(X_over, y_over)\n",
        "\n",
        "# Predicting based on the model is trained on\n",
        "train_preds1 = DTC.predict(X_over)\n",
        "\n",
        "test_preds1 = DTC.predict(X_test)\n",
        "\n",
        "\n",
        "# Classification report\n",
        "print('Train Classification: \\n')\n",
        "print(classification_report(y_over, train_preds1))\n",
        "print('Test Classification: \\n')\n",
        "print(classification_report(y_test, test_preds1))\n",
        "\n"
      ]
    },
    {
      "cell_type": "markdown",
      "source": [
        "### Random Forest Classifier"
      ],
      "metadata": {
        "id": "2ZN6aCRX32D-"
      }
    },
    {
      "cell_type": "code",
      "execution_count": null,
      "metadata": {
        "colab": {
          "base_uri": "https://localhost:8080/"
        },
        "id": "dNPKTS33UVvg",
        "outputId": "b87a8b36-b8e4-4449-ffb6-62ab4c16cfe6"
      },
      "outputs": [
        {
          "output_type": "stream",
          "name": "stdout",
          "text": [
            "Train Classification: \n",
            "\n",
            "              precision    recall  f1-score   support\n",
            "\n",
            "           0       0.89      1.00      0.94    489698\n",
            "           1       1.00      1.00      1.00    489698\n",
            "           2       0.99      0.58      0.73    151118\n",
            "\n",
            "    accuracy                           0.94   1130514\n",
            "   macro avg       0.96      0.86      0.89   1130514\n",
            "weighted avg       0.95      0.94      0.94   1130514\n",
            "\n",
            "Test Classification: \n",
            "\n",
            "              precision    recall  f1-score   support\n",
            "\n",
            "           0       0.77      0.92      0.84    244522\n",
            "           1       0.50      0.52      0.51     24772\n",
            "           2       0.59      0.22      0.32     75597\n",
            "\n",
            "    accuracy                           0.74    344891\n",
            "   macro avg       0.62      0.55      0.56    344891\n",
            "weighted avg       0.71      0.74      0.70    344891\n",
            "\n"
          ]
        }
      ],
      "source": [
        "from sklearn.ensemble import RandomForestClassifier\n",
        "RFC = RandomForestClassifier(random_state=42,min_samples_split=10)\n",
        "#Let's us fit the model for Decision Tree Classifier\n",
        "RFC.fit(X_over, y_over.values.ravel())\n",
        "\n",
        "# Predicting based on the model is trained on\n",
        "train_preds1 = RFC.predict(X_over)\n",
        "\n",
        "test_preds1 = RFC.predict(X_test)\n",
        "\n",
        "\n",
        "# Classification report\n",
        "print('Train Classification: \\n')\n",
        "print(classification_report(y_over, train_preds1))\n",
        "print('Test Classification: \\n')\n",
        "print(classification_report(y_test, test_preds1))"
      ]
    },
    {
      "cell_type": "markdown",
      "metadata": {
        "id": "PaRt0qg3QNDY"
      },
      "source": [
        "#Permutation Testing\n",
        "Now let's try to find the predictors that are really effecting the y variable by using permutation testing."
      ]
    },
    {
      "cell_type": "code",
      "execution_count": null,
      "metadata": {
        "id": "32VwZkpphWOT"
      },
      "outputs": [],
      "source": [
        "#Importing permutation importance from sklearn.inspection\n",
        "from sklearn.inspection import permutation_importance"
      ]
    },
    {
      "cell_type": "code",
      "execution_count": null,
      "metadata": {
        "id": "YK1zQIIXV_EJ"
      },
      "outputs": [],
      "source": [
        "clf = RFC # just update the title!\n",
        "\n",
        "result = permutation_importance(clf, X_test, y_test, n_repeats=10,\n",
        "                                random_state=42)\n",
        "perm_sorted_idx = result.importances_mean.argsort()\n",
        "\n",
        "tree_importance_sorted_idx = np.argsort(clf.feature_importances_)\n",
        "tree_indices = np.arange(0, len(clf.feature_importances_)) + 0.5\n",
        "\n"
      ]
    },
    {
      "cell_type": "code",
      "execution_count": null,
      "metadata": {
        "id": "lr3G-kHLfHR3",
        "colab": {
          "base_uri": "https://localhost:8080/",
          "height": 442
        },
        "outputId": "32afe60d-55bb-455c-96f7-e84edbc864d7"
      },
      "outputs": [
        {
          "output_type": "display_data",
          "data": {
            "text/plain": [
              "<Figure size 600x400 with 1 Axes>"
            ],
            "image/png": "[encoded data removed]"
          },
          "metadata": {}
        }
      ],
      "source": [
        "fig, ax1 = plt.subplots(1, 1, figsize=(6, 4))\n",
        "ax1.boxplot(result.importances[perm_sorted_idx].T, vert=False,\n",
        "            labels=X_over.columns[perm_sorted_idx])\n",
        "fig.suptitle('RFC Feature Importance', y=1.05)\n",
        "fig.tight_layout()\n",
        "plt.show()"
      ]
    },
    {
      "cell_type": "markdown",
      "source": [
        "\n",
        "Permutation testing was performed in order to know which vaiables had most effect after suffling the comuns in testing dataset. It was observed that credit is the most influnetial variable although not to a great extent (7%).\n",
        "All the variables have very less effect on final r^2 value and the order of vaiables is credit,  sales, zip code, year abd age. The final conclusion is that no variable can be dropped for further analysis for our model sice they all have very less effect when shuffled."
      ],
      "metadata": {
        "id": "_ku5DoHVOF1u"
      }
    },
    {
      "cell_type": "code",
      "execution_count": null,
      "metadata": {
        "id": "XWsYh20hgUmx",
        "colab": {
          "base_uri": "https://localhost:8080/"
        },
        "outputId": "431891ca-edad-4b94-b464-a9bf451c6412"
      },
      "outputs": [
        {
          "output_type": "stream",
          "name": "stdout",
          "text": [
            "Looking in indexes: https://pypi.org/simple, https://us-python.pkg.dev/colab-wheels/public/simple/\n",
            "Requirement already satisfied: pulp in /usr/local/lib/python3.10/dist-packages (2.7.0)\n",
            "Looking in indexes: https://pypi.org/simple, https://us-python.pkg.dev/colab-wheels/public/simple/\n",
            "Requirement already satisfied: pycebox in /usr/local/lib/python3.10/dist-packages (0.0.1)\n",
            "Requirement already satisfied: matplotlib in /usr/local/lib/python3.10/dist-packages (from pycebox) (3.7.1)\n",
            "Requirement already satisfied: pandas in /usr/local/lib/python3.10/dist-packages (from pycebox) (1.5.3)\n",
            "Requirement already satisfied: six in /usr/local/lib/python3.10/dist-packages (from pycebox) (1.16.0)\n",
            "Requirement already satisfied: numpy in /usr/local/lib/python3.10/dist-packages (from pycebox) (1.22.4)\n",
            "Requirement already satisfied: packaging>=20.0 in /usr/local/lib/python3.10/dist-packages (from matplotlib->pycebox) (23.1)\n",
            "Requirement already satisfied: kiwisolver>=1.0.1 in /usr/local/lib/python3.10/dist-packages (from matplotlib->pycebox) (1.4.4)\n",
            "Requirement already satisfied: cycler>=0.10 in /usr/local/lib/python3.10/dist-packages (from matplotlib->pycebox) (0.11.0)\n",
            "Requirement already satisfied: contourpy>=1.0.1 in /usr/local/lib/python3.10/dist-packages (from matplotlib->pycebox) (1.0.7)\n",
            "Requirement already satisfied: pillow>=6.2.0 in /usr/local/lib/python3.10/dist-packages (from matplotlib->pycebox) (8.4.0)\n",
            "Requirement already satisfied: python-dateutil>=2.7 in /usr/local/lib/python3.10/dist-packages (from matplotlib->pycebox) (2.8.2)\n",
            "Requirement already satisfied: pyparsing>=2.3.1 in /usr/local/lib/python3.10/dist-packages (from matplotlib->pycebox) (3.0.9)\n",
            "Requirement already satisfied: fonttools>=4.22.0 in /usr/local/lib/python3.10/dist-packages (from matplotlib->pycebox) (4.39.3)\n",
            "Requirement already satisfied: pytz>=2020.1 in /usr/local/lib/python3.10/dist-packages (from pandas->pycebox) (2022.7.1)\n"
          ]
        }
      ],
      "source": [
        "!pip install pulp # for partial dependence plots!\n",
        "!pip install pycebox\n",
        "from pycebox.ice import ice, ice_plot\n"
      ]
    },
    {
      "cell_type": "code",
      "execution_count": null,
      "metadata": {
        "id": "ml4tPyv8I4vJ",
        "colab": {
          "base_uri": "https://localhost:8080/",
          "height": 507
        },
        "outputId": "2c201fc5-dd39-44b6-c3ef-6f25d09026f7"
      },
      "outputs": [
        {
          "output_type": "stream",
          "name": "stderr",
          "text": [
            "/usr/local/lib/python3.10/dist-packages/sklearn/base.py:439: UserWarning: X does not have valid feature names, but RandomForestClassifier was fitted with feature names\n",
            "  warnings.warn(\n"
          ]
        },
        {
          "output_type": "display_data",
          "data": {
            "text/plain": [
              "<Figure size 640x480 with 1 Axes>"
            ],
            "image/png": "[encoded data removed]"
          },
          "metadata": {}
        }
      ],
      "source": [
        "import warnings\n",
        "warnings.simplefilter(action='ignore', category=FutureWarning)\n",
        "tmpdf = ice(data=X_over, column='sales.channel',\n",
        "                   predict=RFC.predict)\n",
        "\n",
        "ice_plot(tmpdf, c='dimgray', linewidth=0.3,\n",
        "                  plot_pdp=True,\n",
        "         pdp_kwargs={'linewidth': 5, 'color':'red'})\n",
        "plt.title('PDP: sales.channel')\n",
        "plt.ylabel('Predicted Status')\n",
        "plt.xlabel('sales.channel');\n",
        "plt.show()"
      ]
    },
    {
      "cell_type": "markdown",
      "source": [
        "The PDP plot for sales it can be observed that it is linearly raising. The slope increases after 1 (Online mode of purchase). Although the status does not cross to other category (everything stayed in the not cancelled category). But if we were to extrapolate the plot, it might give us a conclusion that people who purchased their policy via phone call (cancel =2) may cancel their policy."
      ],
      "metadata": {
        "id": "45j2vfggJj1p"
      }
    },
    {
      "cell_type": "code",
      "execution_count": null,
      "metadata": {
        "id": "dnr0FQPmJZfp",
        "colab": {
          "base_uri": "https://localhost:8080/",
          "height": 507
        },
        "outputId": "98145d34-a01f-4cd4-b998-0c3723618a46"
      },
      "outputs": [
        {
          "output_type": "stream",
          "name": "stderr",
          "text": [
            "/usr/local/lib/python3.10/dist-packages/sklearn/base.py:439: UserWarning: X does not have valid feature names, but RandomForestClassifier was fitted with feature names\n",
            "  warnings.warn(\n"
          ]
        },
        {
          "output_type": "display_data",
          "data": {
            "text/plain": [
              "<Figure size 640x480 with 1 Axes>"
            ],
            "image/png": "[encoded data removed]"
          },
          "metadata": {}
        }
      ],
      "source": [
        "tmpdf = ice(data=X_over, column='credit',\n",
        "                   predict=RFC.predict)\n",
        "\n",
        "ice_plot(tmpdf, c='dimgray', linewidth=0.3,\n",
        "                  plot_pdp=True,\n",
        "         pdp_kwargs={'linewidth': 5, 'color':'red'})\n",
        "plt.title('PDP: credit')\n",
        "plt.ylabel('Predicted Status')\n",
        "plt.xlabel('credit');\n",
        "plt.show()"
      ]
    },
    {
      "cell_type": "markdown",
      "source": [
        "The PDP curve varies linearly in an increasing manner from high income category to low income category than it drops from low category to medium category. It indicates that people who are from medium income category tend to not cancel their policy. High credit category people also tends to not cancel their category"
      ],
      "metadata": {
        "id": "7JiVIYRVK8EY"
      }
    },
    {
      "cell_type": "markdown",
      "source": [
        "### ICE PLOT MATRIX"
      ],
      "metadata": {
        "id": "aYTnzUIfMkww"
      }
    },
    {
      "cell_type": "code",
      "execution_count": null,
      "metadata": {
        "id": "WNzGSSUCKKvL"
      },
      "outputs": [],
      "source": [
        "import seaborn as sns"
      ]
    },
    {
      "cell_type": "code",
      "metadata": {
        "id": "PtYgO6U1pyhV"
      },
      "source": [
        "def plot_ice_grid(dict_of_ice_dfs, data_df, features, ax_ylabel='', nrows=4,\n",
        "                  ncols=4, figsize=(12, 12), sharex=False, sharey=True,\n",
        "                  num_grid_points = 10, # DW added this on 4/27/2022!\n",
        "                  subplots_kws={}, rug_kws={'color':'k'}, **ice_plot_kws):\n",
        "    \"\"\"A function that plots ICE plots for different features in a grid.\"\"\"\n",
        "    fig, axes = plt.subplots(nrows=nrows,\n",
        "                             ncols=ncols,\n",
        "                             figsize=figsize,\n",
        "                             sharex=sharex,\n",
        "                             sharey=sharey,\n",
        "                             **subplots_kws)\n",
        "    # for each feature plot the ice curves and add a rug at the bottom of the\n",
        "    # subplot\n",
        "    for f, ax in zip(features, axes.flatten()):\n",
        "        ice_plot(dict_of_ice_dfs[f], ax=ax, **ice_plot_kws)\n",
        "        # add the rug\n",
        "        sns.distplot(data_df[f], ax=ax, hist=False, kde=False,\n",
        "                     rug=True, rug_kws=rug_kws)\n",
        "        ax.set_title('feature = ' + f)\n",
        "        ax.set_ylabel(ax_ylabel)\n",
        "        sns.despine()\n",
        "\n",
        "    # get rid of blank plots\n",
        "    for i in range(len(features), nrows*ncols):\n",
        "        axes.flatten()[i].axis('off')\n",
        "\n",
        "    return fig"
      ],
      "execution_count": null,
      "outputs": []
    },
    {
      "cell_type": "code",
      "metadata": {
        "id": "3JohzrPQtHvb"
      },
      "source": [
        "# columns to plot\n",
        "features = X_over.columns\n",
        "\n",
        "# create dict of ICE data for grid of ICE plots\n",
        "train_ice_dfs = {feat: ice(data=X_over, column=feat, predict=RFC.predict)\n",
        "                 for feat in features}\n",
        "\n",
        "plot_ice_grid(train_ice_dfs,X_over, features,\n",
        "                    ax_ylabel='Pred cancel', alpha=0.3, plot_pdp=True,\n",
        "                    pdp_kwargs={'c': 'red', 'linewidth': 3},\n",
        "                    linewidth=0.5, c='dimgray')\n",
        "plt.ylim([0,50])\n",
        "plt.suptitle('ICE plots (training data): RFC model')\n",
        "plt.subplots_adjust(top=0.89)\n",
        "plt.tight_layout()"
      ],
      "execution_count": null,
      "outputs": []
    },
    {
      "cell_type": "markdown",
      "source": [
        "# Conclusion"
      ],
      "metadata": {
        "id": "mlYHkeUIMlDe"
      }
    },
    {
      "cell_type": "markdown",
      "source": [
        "1. After trying models such as Random Forest Classifier and Decision Tree Classifier we foudn that the Random Forest Classifier performed better than the Decision Tree Classifier. Accuracy for DTC Model is (70%) after hyperparameter tuning and the same for RFC Model was 74% after performing grid search\n",
        "\n",
        "2. People whose mode of insurance purchase is via a broker tend to retain the policy. This is because for cancel = 0 we observe that above 64% of holders have used brokers for purchase\n",
        "\n",
        "3. Since the number of applications are always rising from the above plot, by trying to retain most of them profits can be increased\n",
        "\n",
        "4. Due to limiations on computinig power we chose number of grid points to be 5 for ICE plots and the conclusions that we are drawn are as follows\n",
        "\n",
        "  *   The PDP plot for sales it can be observed that it is linearly raising. The slope increases after 1 (Online mode of purchase). Although the status does not cross to other category (everything stayed in the not cancelled category). But if we were to extrapolate the plot, it might give us a conclusion that people who purchased their policy via phone call (cancel =2) may cancel their policy.\n",
        "  *   The PDP curve varies linearly in an increasing manner from high income category to low income category than it drops from low category to medium category. It indicates that people who are from medium income category tend to not cancel their policy. High credit category people also tends to not cancel their category\n",
        "\n",
        "5. Inferences based on Permutation testing says that  no variable has a significant effect on y, hence we are unable to drop features for ease of analysis\n",
        "\n",
        "\n",
        "\n",
        "\n",
        "\n",
        "\n",
        "\n"
      ],
      "metadata": {
        "id": "BY8MAr_gMnIG"
      }
    },
    {
      "cell_type": "markdown",
      "source": [
        "# Appendix"
      ],
      "metadata": {
        "id": "8VagatYXHHYc"
      }
    },
    {
      "cell_type": "markdown",
      "source": [
        "## Grid Search"
      ],
      "metadata": {
        "id": "yos7y7BaHT0K"
      }
    },
    {
      "cell_type": "code",
      "source": [
        "from sklearn.ensemble import RandomForestClassifier\n",
        "from sklearn.model_selection import GridSearchCV\n",
        "rfc = RandomForestClassifier()\n",
        "parameters = {\n",
        "    \"min_samples_split\":[9,10,12]\n",
        "\n",
        "}\n",
        "cv = GridSearchCV(rfc,parameters,cv=5)\n",
        "cv.fit(X_over,y_over.values.ravel())"
      ],
      "metadata": {
        "id": "SDztMc-SpZ7t",
        "colab": {
          "base_uri": "https://localhost:8080/",
          "height": 141
        },
        "outputId": "688aa103-8cc7-408a-a2da-036ef2feee5f"
      },
      "execution_count": null,
      "outputs": [
        {
          "output_type": "execute_result",
          "data": {
            "text/plain": [
              "GridSearchCV(cv=5, estimator=RandomForestClassifier(),\n",
              "             param_grid={'min_samples_split': [9, 10, 12]})"
            ],
            "text/html": [
              "<style>#sk-container-id-1 {color: black;background-color: white;}#sk-container-id-1 pre{padding: 0;}#sk-container-id-1 div.sk-toggleable {background-color: white;}#sk-container-id-1 label.sk-toggleable__label {cursor: pointer;display: block;width: 100%;margin-bottom: 0;padding: 0.3em;box-sizing: border-box;text-align: center;}#sk-container-id-1 label.sk-toggleable__label-arrow:before {content: \"▸\";float: left;margin-right: 0.25em;color: #696969;}#sk-container-id-1 label.sk-toggleable__label-arrow:hover:before {color: black;}#sk-container-id-1 div.sk-estimator:hover label.sk-toggleable__label-arrow:before {color: black;}#sk-container-id-1 div.sk-toggleable__content {max-height: 0;max-width: 0;overflow: hidden;text-align: left;background-color: #f0f8ff;}#sk-container-id-1 div.sk-toggleable__content pre {margin: 0.2em;color: black;border-radius: 0.25em;background-color: #f0f8ff;}#sk-container-id-1 input.sk-toggleable__control:checked~div.sk-toggleable__content {max-height: 200px;max-width: 100%;overflow: auto;}#sk-container-id-1 input.sk-toggleable__control:checked~label.sk-toggleable__label-arrow:before {content: \"▾\";}#sk-container-id-1 div.sk-estimator input.sk-toggleable__control:checked~label.sk-toggleable__label {background-color: #d4ebff;}#sk-container-id-1 div.sk-label input.sk-toggleable__control:checked~label.sk-toggleable__label {background-color: #d4ebff;}#sk-container-id-1 input.sk-hidden--visually {border: 0;clip: rect(1px 1px 1px 1px);clip: rect(1px, 1px, 1px, 1px);height: 1px;margin: -1px;overflow: hidden;padding: 0;position: absolute;width: 1px;}#sk-container-id-1 div.sk-estimator {font-family: monospace;background-color: #f0f8ff;border: 1px dotted black;border-radius: 0.25em;box-sizing: border-box;margin-bottom: 0.5em;}#sk-container-id-1 div.sk-estimator:hover {background-color: #d4ebff;}#sk-container-id-1 div.sk-parallel-item::after {content: \"\";width: 100%;border-bottom: 1px solid gray;flex-grow: 1;}#sk-container-id-1 div.sk-label:hover label.sk-toggleable__label {background-color: #d4ebff;}#sk-container-id-1 div.sk-serial::before {content: \"\";position: absolute;border-left: 1px solid gray;box-sizing: border-box;top: 0;bottom: 0;left: 50%;z-index: 0;}#sk-container-id-1 div.sk-serial {display: flex;flex-direction: column;align-items: center;background-color: white;padding-right: 0.2em;padding-left: 0.2em;position: relative;}#sk-container-id-1 div.sk-item {position: relative;z-index: 1;}#sk-container-id-1 div.sk-parallel {display: flex;align-items: stretch;justify-content: center;background-color: white;position: relative;}#sk-container-id-1 div.sk-item::before, #sk-container-id-1 div.sk-parallel-item::before {content: \"\";position: absolute;border-left: 1px solid gray;box-sizing: border-box;top: 0;bottom: 0;left: 50%;z-index: -1;}#sk-container-id-1 div.sk-parallel-item {display: flex;flex-direction: column;z-index: 1;position: relative;background-color: white;}#sk-container-id-1 div.sk-parallel-item:first-child::after {align-self: flex-end;width: 50%;}#sk-container-id-1 div.sk-parallel-item:last-child::after {align-self: flex-start;width: 50%;}#sk-container-id-1 div.sk-parallel-item:only-child::after {width: 0;}#sk-container-id-1 div.sk-dashed-wrapped {border: 1px dashed gray;margin: 0 0.4em 0.5em 0.4em;box-sizing: border-box;padding-bottom: 0.4em;background-color: white;}#sk-container-id-1 div.sk-label label {font-family: monospace;font-weight: bold;display: inline-block;line-height: 1.2em;}#sk-container-id-1 div.sk-label-container {text-align: center;}#sk-container-id-1 div.sk-container {/* jupyter's `normalize.less` sets `[hidden] { display: none; }` but bootstrap.min.css set `[hidden] { display: none !important; }` so we also need the `!important` here to be able to override the default hidden behavior on the sphinx rendered scikit-learn.org. See: https://github.com/scikit-learn/scikit-learn/issues/21755 */display: inline-block !important;position: relative;}#sk-container-id-1 div.sk-text-repr-fallback {display: none;}</style><div id=\"sk-container-id-1\" class=\"sk-top-container\"><div class=\"sk-text-repr-fallback\"><pre>GridSearchCV(cv=5, estimator=RandomForestClassifier(),\n",
              "             param_grid={&#x27;min_samples_split&#x27;: [9, 10, 12]})</pre><b>In a Jupyter environment, please rerun this cell to show the HTML representation or trust the notebook. <br />On GitHub, the HTML representation is unable to render, please try loading this page with nbviewer.org.</b></div><div class=\"sk-container\" hidden><div class=\"sk-item sk-dashed-wrapped\"><div class=\"sk-label-container\"><div class=\"sk-label sk-toggleable\"><input class=\"sk-toggleable__control sk-hidden--visually\" id=\"sk-estimator-id-1\" type=\"checkbox\" ><label for=\"sk-estimator-id-1\" class=\"sk-toggleable__label sk-toggleable__label-arrow\">GridSearchCV</label><div class=\"sk-toggleable__content\"><pre>GridSearchCV(cv=5, estimator=RandomForestClassifier(),\n",
              "             param_grid={&#x27;min_samples_split&#x27;: [9, 10, 12]})</pre></div></div></div><div class=\"sk-parallel\"><div class=\"sk-parallel-item\"><div class=\"sk-item\"><div class=\"sk-label-container\"><div class=\"sk-label sk-toggleable\"><input class=\"sk-toggleable__control sk-hidden--visually\" id=\"sk-estimator-id-2\" type=\"checkbox\" ><label for=\"sk-estimator-id-2\" class=\"sk-toggleable__label sk-toggleable__label-arrow\">estimator: RandomForestClassifier</label><div class=\"sk-toggleable__content\"><pre>RandomForestClassifier()</pre></div></div></div><div class=\"sk-serial\"><div class=\"sk-item\"><div class=\"sk-estimator sk-toggleable\"><input class=\"sk-toggleable__control sk-hidden--visually\" id=\"sk-estimator-id-3\" type=\"checkbox\" ><label for=\"sk-estimator-id-3\" class=\"sk-toggleable__label sk-toggleable__label-arrow\">RandomForestClassifier</label><div class=\"sk-toggleable__content\"><pre>RandomForestClassifier()</pre></div></div></div></div></div></div></div></div></div></div>"
            ]
          },
          "metadata": {},
          "execution_count": 118
        }
      ]
    },
    {
      "cell_type": "code",
      "source": [
        "def display(results):\n",
        "    print(f'Best parameters are: {results.best_params_}')\n",
        "    print(\"\\n\")\n",
        "    mean_score = results.cv_results_['mean_test_score']\n",
        "    std_score = results.cv_results_['std_test_score']\n",
        "    params = results.cv_results_['params']\n",
        "    for mean,std,params in zip(mean_score,std_score,params):\n",
        "        print(f'{round(mean,3)} + or -{round(std,3)} for the {params}')"
      ],
      "metadata": {
        "id": "BTLrFfsWeqai"
      },
      "execution_count": null,
      "outputs": []
    },
    {
      "cell_type": "code",
      "source": [
        "display(cv)"
      ],
      "metadata": {
        "id": "7j43xTrGesMu",
        "colab": {
          "base_uri": "https://localhost:8080/"
        },
        "outputId": "64412dee-68df-4666-c366-32a3f1e9ad92"
      },
      "execution_count": null,
      "outputs": [
        {
          "output_type": "stream",
          "name": "stdout",
          "text": [
            "Best parameters are: {'min_samples_split': 9}\n",
            "\n",
            "\n",
            "0.854 + or -0.0 for the {'min_samples_split': 9}\n",
            "0.853 + or -0.001 for the {'min_samples_split': 10}\n",
            "0.851 + or -0.001 for the {'min_samples_split': 12}\n"
          ]
        }
      ]
    },
    {
      "cell_type": "markdown",
      "source": [
        "We performed grid search for the random forest model inorder to get the best hyperparameter values and we got the above output"
      ],
      "metadata": {
        "id": "AKBT2hMXHWJq"
      }
    }
  ],
  "metadata": {
    "colab": {
      "provenance": [],
      "machine_shape": "hm",
      "include_colab_link": true
    },
    "kernelspec": {
      "display_name": "Python 3",
      "name": "python3"
    },
    "language_info": {
      "name": "python"
    },
    "gpuClass": "standard"
  },
  "nbformat": 4,
  "nbformat_minor": 0
}